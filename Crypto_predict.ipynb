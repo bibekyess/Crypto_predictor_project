{
  "nbformat": 4,
  "nbformat_minor": 0,
  "metadata": {
    "colab": {
      "name": "Crypto_predict.ipynb",
      "provenance": [],
      "collapsed_sections": [
        "LP4Z-aPao9io"
      ]
    },
    "kernelspec": {
      "name": "python3",
      "display_name": "Python 3"
    },
    "language_info": {
      "name": "python"
    }
  },
  "cells": [
    {
      "cell_type": "code",
      "source": [
        "# Check for GPU\n",
        "!nvidia-smi -L"
      ],
      "metadata": {
        "colab": {
          "base_uri": "https://localhost:8080/"
        },
        "id": "F0fo71TH1id5",
        "outputId": "69f6ddd1-fb10-4e5e-95bd-aac671be22e6"
      },
      "execution_count": null,
      "outputs": [
        {
          "output_type": "stream",
          "name": "stdout",
          "text": [
            "NVIDIA-SMI has failed because it couldn't communicate with the NVIDIA driver. Make sure that the latest NVIDIA driver is installed and running.\n",
            "\n"
          ]
        }
      ]
    },
    {
      "cell_type": "code",
      "source": [
        "# Get the data\n",
        "!wget https://raw.githubusercontent.com/mlee687/CS470_AI-auto-trading/main/daily_single.csv"
      ],
      "metadata": {
        "colab": {
          "base_uri": "https://localhost:8080/"
        },
        "id": "UHoogqCIEGJ8",
        "outputId": "919949ca-ff9f-4c62-e7d6-926104ae2aab"
      },
      "execution_count": null,
      "outputs": [
        {
          "output_type": "stream",
          "name": "stdout",
          "text": [
            "--2022-04-27 02:32:37--  https://raw.githubusercontent.com/mlee687/CS470_AI-auto-trading/main/daily_single.csv\n",
            "Resolving raw.githubusercontent.com (raw.githubusercontent.com)... 185.199.108.133, 185.199.109.133, 185.199.110.133, ...\n",
            "Connecting to raw.githubusercontent.com (raw.githubusercontent.com)|185.199.108.133|:443... connected.\n",
            "HTTP request sent, awaiting response... 200 OK\n",
            "Length: 50004 (49K) [text/plain]\n",
            "Saving to: ‘daily_single.csv’\n",
            "\n",
            "daily_single.csv    100%[===================>]  48.83K  --.-KB/s    in 0.007s  \n",
            "\n",
            "2022-04-27 02:32:37 (6.51 MB/s) - ‘daily_single.csv’ saved [50004/50004]\n",
            "\n"
          ]
        }
      ]
    },
    {
      "cell_type": "code",
      "source": [
        "# Import with pandas \n",
        "import pandas as pd\n",
        "# Parse dates and set date column to index\n",
        "df = pd.read_csv(\"/content/daily_single.csv\", parse_dates=[\"Timestamp\"])\n",
        "df.rename(columns = {\"Daily_Close\": \"Price\"}, inplace = True)\n",
        "df['Timestamp'] = df['Timestamp'].dt.date\n",
        "btc_df = df.set_index('Timestamp')\n",
        "btc_df.head(), btc_df.tail()"
      ],
      "metadata": {
        "colab": {
          "base_uri": "https://localhost:8080/"
        },
        "id": "trHKQSe_EqhB",
        "outputId": "57c029c1-f3e6-46a1-992c-bcef9c84803f"
      },
      "execution_count": null,
      "outputs": [
        {
          "output_type": "execute_result",
          "data": {
            "text/plain": [
              "(             Price\n",
              " Timestamp         \n",
              " 2014-01-01  754.90\n",
              " 2014-01-02  784.19\n",
              " 2014-01-03  809.40\n",
              " 2014-01-04  828.79\n",
              " 2014-01-05  905.00,                Price\n",
              " Timestamp           \n",
              " 2021-03-26  52734.30\n",
              " 2021-03-27  54508.16\n",
              " 2021-03-28  55871.93\n",
              " 2021-03-29  57788.15\n",
              " 2021-03-30  59069.29)"
            ]
          },
          "metadata": {},
          "execution_count": 3
        }
      ]
    },
    {
      "cell_type": "code",
      "source": [
        "len(btc_df)"
      ],
      "metadata": {
        "colab": {
          "base_uri": "https://localhost:8080/"
        },
        "id": "-UCJ6fMoTDPB",
        "outputId": "4278f527-c5ab-44f9-9bd8-5209de9a7160"
      },
      "execution_count": null,
      "outputs": [
        {
          "output_type": "execute_result",
          "data": {
            "text/plain": [
              "2236"
            ]
          },
          "metadata": {},
          "execution_count": 4
        }
      ]
    },
    {
      "cell_type": "code",
      "source": [
        "btc_df.info()"
      ],
      "metadata": {
        "colab": {
          "base_uri": "https://localhost:8080/"
        },
        "id": "Y3CAY3F02Sd2",
        "outputId": "0a65047b-9607-412e-e8c1-dc5aff71796e"
      },
      "execution_count": null,
      "outputs": [
        {
          "output_type": "stream",
          "name": "stdout",
          "text": [
            "<class 'pandas.core.frame.DataFrame'>\n",
            "Index: 2236 entries, 2014-01-01 to 2021-03-30\n",
            "Data columns (total 1 columns):\n",
            " #   Column  Non-Null Count  Dtype  \n",
            "---  ------  --------------  -----  \n",
            " 0   Price   2236 non-null   float64\n",
            "dtypes: float64(1)\n",
            "memory usage: 34.9+ KB\n"
          ]
        }
      ]
    },
    {
      "cell_type": "code",
      "source": [
        "btc_df.describe().transpose()"
      ],
      "metadata": {
        "colab": {
          "base_uri": "https://localhost:8080/",
          "height": 80
        },
        "id": "PS379VjKjEvY",
        "outputId": "056c916a-7eed-431e-e112-f1409323d8e8"
      },
      "execution_count": null,
      "outputs": [
        {
          "output_type": "execute_result",
          "data": {
            "text/plain": [
              "        count         mean          std    min       25%       50%       75%  \\\n",
              "Price  2236.0  6692.873421  9291.712386  191.0  588.5375  4563.135  9107.615   \n",
              "\n",
              "            max  \n",
              "Price  60095.59  "
            ],
            "text/html": [
              "\n",
              "  <div id=\"df-2ba1877e-256b-4db6-b0a1-e3c841475b88\">\n",
              "    <div class=\"colab-df-container\">\n",
              "      <div>\n",
              "<style scoped>\n",
              "    .dataframe tbody tr th:only-of-type {\n",
              "        vertical-align: middle;\n",
              "    }\n",
              "\n",
              "    .dataframe tbody tr th {\n",
              "        vertical-align: top;\n",
              "    }\n",
              "\n",
              "    .dataframe thead th {\n",
              "        text-align: right;\n",
              "    }\n",
              "</style>\n",
              "<table border=\"1\" class=\"dataframe\">\n",
              "  <thead>\n",
              "    <tr style=\"text-align: right;\">\n",
              "      <th></th>\n",
              "      <th>count</th>\n",
              "      <th>mean</th>\n",
              "      <th>std</th>\n",
              "      <th>min</th>\n",
              "      <th>25%</th>\n",
              "      <th>50%</th>\n",
              "      <th>75%</th>\n",
              "      <th>max</th>\n",
              "    </tr>\n",
              "  </thead>\n",
              "  <tbody>\n",
              "    <tr>\n",
              "      <th>Price</th>\n",
              "      <td>2236.0</td>\n",
              "      <td>6692.873421</td>\n",
              "      <td>9291.712386</td>\n",
              "      <td>191.0</td>\n",
              "      <td>588.5375</td>\n",
              "      <td>4563.135</td>\n",
              "      <td>9107.615</td>\n",
              "      <td>60095.59</td>\n",
              "    </tr>\n",
              "  </tbody>\n",
              "</table>\n",
              "</div>\n",
              "      <button class=\"colab-df-convert\" onclick=\"convertToInteractive('df-2ba1877e-256b-4db6-b0a1-e3c841475b88')\"\n",
              "              title=\"Convert this dataframe to an interactive table.\"\n",
              "              style=\"display:none;\">\n",
              "        \n",
              "  <svg xmlns=\"http://www.w3.org/2000/svg\" height=\"24px\"viewBox=\"0 0 24 24\"\n",
              "       width=\"24px\">\n",
              "    <path d=\"M0 0h24v24H0V0z\" fill=\"none\"/>\n",
              "    <path d=\"M18.56 5.44l.94 2.06.94-2.06 2.06-.94-2.06-.94-.94-2.06-.94 2.06-2.06.94zm-11 1L8.5 8.5l.94-2.06 2.06-.94-2.06-.94L8.5 2.5l-.94 2.06-2.06.94zm10 10l.94 2.06.94-2.06 2.06-.94-2.06-.94-.94-2.06-.94 2.06-2.06.94z\"/><path d=\"M17.41 7.96l-1.37-1.37c-.4-.4-.92-.59-1.43-.59-.52 0-1.04.2-1.43.59L10.3 9.45l-7.72 7.72c-.78.78-.78 2.05 0 2.83L4 21.41c.39.39.9.59 1.41.59.51 0 1.02-.2 1.41-.59l7.78-7.78 2.81-2.81c.8-.78.8-2.07 0-2.86zM5.41 20L4 18.59l7.72-7.72 1.47 1.35L5.41 20z\"/>\n",
              "  </svg>\n",
              "      </button>\n",
              "      \n",
              "  <style>\n",
              "    .colab-df-container {\n",
              "      display:flex;\n",
              "      flex-wrap:wrap;\n",
              "      gap: 12px;\n",
              "    }\n",
              "\n",
              "    .colab-df-convert {\n",
              "      background-color: #E8F0FE;\n",
              "      border: none;\n",
              "      border-radius: 50%;\n",
              "      cursor: pointer;\n",
              "      display: none;\n",
              "      fill: #1967D2;\n",
              "      height: 32px;\n",
              "      padding: 0 0 0 0;\n",
              "      width: 32px;\n",
              "    }\n",
              "\n",
              "    .colab-df-convert:hover {\n",
              "      background-color: #E2EBFA;\n",
              "      box-shadow: 0px 1px 2px rgba(60, 64, 67, 0.3), 0px 1px 3px 1px rgba(60, 64, 67, 0.15);\n",
              "      fill: #174EA6;\n",
              "    }\n",
              "\n",
              "    [theme=dark] .colab-df-convert {\n",
              "      background-color: #3B4455;\n",
              "      fill: #D2E3FC;\n",
              "    }\n",
              "\n",
              "    [theme=dark] .colab-df-convert:hover {\n",
              "      background-color: #434B5C;\n",
              "      box-shadow: 0px 1px 3px 1px rgba(0, 0, 0, 0.15);\n",
              "      filter: drop-shadow(0px 1px 2px rgba(0, 0, 0, 0.3));\n",
              "      fill: #FFFFFF;\n",
              "    }\n",
              "  </style>\n",
              "\n",
              "      <script>\n",
              "        const buttonEl =\n",
              "          document.querySelector('#df-2ba1877e-256b-4db6-b0a1-e3c841475b88 button.colab-df-convert');\n",
              "        buttonEl.style.display =\n",
              "          google.colab.kernel.accessAllowed ? 'block' : 'none';\n",
              "\n",
              "        async function convertToInteractive(key) {\n",
              "          const element = document.querySelector('#df-2ba1877e-256b-4db6-b0a1-e3c841475b88');\n",
              "          const dataTable =\n",
              "            await google.colab.kernel.invokeFunction('convertToInteractive',\n",
              "                                                     [key], {});\n",
              "          if (!dataTable) return;\n",
              "\n",
              "          const docLinkHtml = 'Like what you see? Visit the ' +\n",
              "            '<a target=\"_blank\" href=https://colab.research.google.com/notebooks/data_table.ipynb>data table notebook</a>'\n",
              "            + ' to learn more about interactive tables.';\n",
              "          element.innerHTML = '';\n",
              "          dataTable['output_type'] = 'display_data';\n",
              "          await google.colab.output.renderOutput(dataTable, element);\n",
              "          const docLink = document.createElement('div');\n",
              "          docLink.innerHTML = docLinkHtml;\n",
              "          element.appendChild(docLink);\n",
              "        }\n",
              "      </script>\n",
              "    </div>\n",
              "  </div>\n",
              "  "
            ]
          },
          "metadata": {},
          "execution_count": 6
        }
      ]
    },
    {
      "cell_type": "code",
      "source": [
        "import matplotlib.pyplot as plt\n",
        "btc_df.plot(figsize = (12,8))\n",
        "plt.title(\"BTC Price from 2014 January to 2021 March\", fontsize=20);\n",
        "# ';' is put at last to remove unnecessary text from being displayed"
      ],
      "metadata": {
        "colab": {
          "base_uri": "https://localhost:8080/",
          "height": 518
        },
        "id": "5x0wg0uIWWxV",
        "outputId": "2119b11f-8620-49d2-f37f-9daa360e1432"
      },
      "execution_count": null,
      "outputs": [
        {
          "output_type": "display_data",
          "data": {
            "text/plain": [
              "<Figure size 864x576 with 1 Axes>"
            ],
            "image/png": "[encoded data removed]"
          },
          "metadata": {
            "needs_background": "light"
          }
        }
      ]
    },
    {
      "cell_type": "code",
      "source": [
        "btc_df.index.to_numpy()"
      ],
      "metadata": {
        "colab": {
          "base_uri": "https://localhost:8080/"
        },
        "id": "o7f_7MWgXpJf",
        "outputId": "07b05c0e-af6a-42d0-bb68-3d648c19064e"
      },
      "execution_count": null,
      "outputs": [
        {
          "output_type": "execute_result",
          "data": {
            "text/plain": [
              "array([datetime.date(2014, 1, 1), datetime.date(2014, 1, 2),\n",
              "       datetime.date(2014, 1, 3), ..., datetime.date(2021, 3, 28),\n",
              "       datetime.date(2021, 3, 29), datetime.date(2021, 3, 30)],\n",
              "      dtype=object)"
            ]
          },
          "metadata": {},
          "execution_count": 8
        }
      ]
    },
    {
      "cell_type": "code",
      "source": [
        "# Makes arrays for each feature\n",
        "timesteps = btc_df.index.to_numpy()\n",
        "prices = btc_df[\"Price\"].to_numpy()\n",
        "boundary = int(0.8 * len(prices)) # 80% train, 20% test\n",
        "X_train, y_train = timesteps[:boundary], prices[:boundary]\n",
        "X_test, y_test = timesteps[boundary:], prices[boundary:]\n",
        "\n",
        "len(X_train), len(X_test), len(y_train), len(y_test)"
      ],
      "metadata": {
        "colab": {
          "base_uri": "https://localhost:8080/"
        },
        "id": "aAwKxgii2l9S",
        "outputId": "4de0cb9c-7e21-4743-acb2-940fce89551e"
      },
      "execution_count": null,
      "outputs": [
        {
          "output_type": "execute_result",
          "data": {
            "text/plain": [
              "(1788, 448, 1788, 448)"
            ]
          },
          "metadata": {},
          "execution_count": 9
        }
      ]
    },
    {
      "cell_type": "code",
      "source": [
        "def plot_time_series(timesteps, values, format='.', start=0, end=None, label=None, xlabel='Timestamp', ylabel='Price'): \n",
        "  # for format, we can go with '.' or '-' [scatter or line] and start means offset\n",
        "  plt.plot(timesteps[start:end], values[start:end], format, label=label)\n",
        "  plt.xlabel(xlabel)\n",
        "  plt.ylabel(ylabel)\n",
        "  if label:\n",
        "    plt.legend(fontsize=14)\n",
        "  plt.grid(True)"
      ],
      "metadata": {
        "id": "xYEr2vqS3xOQ"
      },
      "execution_count": null,
      "outputs": []
    },
    {
      "cell_type": "code",
      "source": [
        "plt.figure(figsize=(12,8)) # Creates a figure and adds the following plot to it\n",
        "plot_time_series(X_train, y_train, label= \"Train\")\n",
        "plot_time_series(X_test, y_test, label = \"Test\")\n",
        "# It would be interesting to put start and end as the year"
      ],
      "metadata": {
        "colab": {
          "base_uri": "https://localhost:8080/",
          "height": 497
        },
        "id": "DtgdhNKLbpww",
        "outputId": "cf175f13-46e1-481c-ee08-5b5b031bfa78"
      },
      "execution_count": null,
      "outputs": [
        {
          "output_type": "display_data",
          "data": {
            "text/plain": [
              "<Figure size 864x576 with 1 Axes>"
            ],
            "image/png": "[encoded data removed]"
          },
          "metadata": {
            "needs_background": "light"
          }
        }
      ]
    },
    {
      "cell_type": "code",
      "source": [
        "# a = [1,2,3,4]\n",
        "# a, a[:-1]"
      ],
      "metadata": {
        "id": "d3M2yq6WX16M"
      },
      "execution_count": null,
      "outputs": []
    },
    {
      "cell_type": "markdown",
      "source": [
        "Naive baseline model:\n",
        "$\\hat{y}_{t} = y_{t-1}$"
      ],
      "metadata": {
        "id": "ZGGjptBfqFLp"
      }
    },
    {
      "cell_type": "code",
      "source": [
        "naive_forecast = y_test[:-1] # Gets every value excluding the last value\n",
        "# naive_forecast[-10:] != y_test[-10:]"
      ],
      "metadata": {
        "id": "Re9Kvp0J26CM"
      },
      "execution_count": null,
      "outputs": []
    },
    {
      "cell_type": "code",
      "source": [
        "# Comparing naive_forecast with the test data\n",
        "plt.figure(figsize=(10, 8))\n",
        "offset = 400\n",
        "plot_time_series(timesteps=X_test, values=y_test, start = 400, format=\"-\", label=\"Test data\")\n",
        "plot_time_series(timesteps=X_test[1:], values=naive_forecast, start = 400, format=\"-\", label=\"Naive forecast\");"
      ],
      "metadata": {
        "colab": {
          "base_uri": "https://localhost:8080/",
          "height": 497
        },
        "id": "9AjDqfKl3dWs",
        "outputId": "0617dbe5-ca24-445e-b2da-cd09aaa61424"
      },
      "execution_count": null,
      "outputs": [
        {
          "output_type": "display_data",
          "data": {
            "text/plain": [
              "<Figure size 720x576 with 1 Axes>"
            ],
            "image/png": "[encoded data removed]"
          },
          "metadata": {
            "needs_background": "light"
          }
        }
      ]
    },
    {
      "cell_type": "code",
      "source": [
        "# Let's get TensorFlow! \n",
        "import tensorflow as tf"
      ],
      "metadata": {
        "id": "nhDz7M8T3qsZ"
      },
      "execution_count": null,
      "outputs": []
    },
    {
      "cell_type": "code",
      "source": [
        "def mase_(y_true, y_pred):\n",
        "  # Assuming no seasonality and our crypto price data has no seasonality\n",
        "  mae = tf.reduce_mean(tf.abs(y_true, y_pred))\n",
        "  mae_naive = tf.reduce_mean(tf.abs(y_true[1:], naive_forecast)) # naive_forecast = y_true[:-1]\n",
        "  return mae/mae_naive"
      ],
      "metadata": {
        "id": "rKRBNoPxDip6"
      },
      "execution_count": null,
      "outputs": []
    },
    {
      "cell_type": "code",
      "source": [
        "# mase(y_true=y_test[1:], y_pred= naive_forecast).numpy() #should be close to 1"
      ],
      "metadata": {
        "id": "KrYvbvpDbR5B"
      },
      "execution_count": null,
      "outputs": []
    },
    {
      "cell_type": "code",
      "source": [
        "# type(y_test[0]),y_test[0].dtype\n",
        "# Numpy is float64 datatype as default so we need to convert to float32 datatype while using tensorflow"
      ],
      "metadata": {
        "id": "EMzWaUVDFqga"
      },
      "execution_count": null,
      "outputs": []
    },
    {
      "cell_type": "code",
      "source": [
        "# returns error metrics in dictionary form:\n",
        "def evaluate_preds(y_true, y_pred):\n",
        "  y_true = tf.cast(y_true, dtype=tf.float32)\n",
        "  y_pred = tf.cast(y_pred, dtype=tf.float32)\n",
        "\n",
        "  # better to use the numpy version of these too\n",
        "  mae = tf.keras.metrics.mean_absolute_error(y_true, y_pred)\n",
        "  mse = tf.keras.metrics.mean_squared_error(y_true, y_pred) # puts and emphasis on outliers (all errors get squared)\n",
        "  rmse = tf.sqrt(mse)\n",
        "  mape = tf.keras.metrics.mean_absolute_percentage_error(y_true, y_pred)\n",
        "  mase = mase_(y_true, y_pred)\n",
        "  \n",
        "  return_dict =  {\n",
        "                  \"mae\": mae.numpy(),\n",
        "                  \"mse\": mse.numpy(),\n",
        "                  \"rmse\": rmse.numpy(),\n",
        "                  \"mape\": mape.numpy(),\n",
        "                  \"mase\": mase.numpy()\n",
        "                  }\n",
        "  return return_dict"
      ],
      "metadata": {
        "id": "eGYRN2J-PQgV"
      },
      "execution_count": null,
      "outputs": []
    },
    {
      "cell_type": "code",
      "source": [
        "naive_results = evaluate_preds(y_true=y_test[1:],\n",
        "                               y_pred=naive_forecast)\n",
        "naive_results"
      ],
      "metadata": {
        "colab": {
          "base_uri": "https://localhost:8080/"
        },
        "id": "--HgKqOYPbwu",
        "outputId": "d482c2f2-6876-4a84-cab5-e38d811c2cbb"
      },
      "execution_count": null,
      "outputs": [
        {
          "output_type": "execute_result",
          "data": {
            "text/plain": [
              "{'mae': 571.1008,\n",
              " 'mape': 2.703912,\n",
              " 'mase': 0.99867785,\n",
              " 'mse': 1341613.9,\n",
              " 'rmse': 1158.2805}"
            ]
          },
          "metadata": {},
          "execution_count": 20
        }
      ]
    },
    {
      "cell_type": "code",
      "source": [
        "tf.reduce_mean(y_test).numpy()"
      ],
      "metadata": {
        "colab": {
          "base_uri": "https://localhost:8080/"
        },
        "id": "36FCu4RvPdiR",
        "outputId": "4f1a106f-c332-40d0-a386-aa27837c0c2e"
      },
      "execution_count": null,
      "outputs": [
        {
          "output_type": "execute_result",
          "data": {
            "text/plain": [
              "17809.185937500002"
            ]
          },
          "metadata": {},
          "execution_count": 21
        }
      ]
    },
    {
      "cell_type": "code",
      "source": [
        "# Windowing dataset to turn our data into supervised learning problem by giving labels\n",
        "# Global variables are usually put with capital letters\n",
        "# Using previous 7 days data to predict the price of 1 day\n",
        "HORIZON = 1\n",
        "WINDOW_SIZE = 7"
      ],
      "metadata": {
        "id": "jA9vY8DEPzvS"
      },
      "execution_count": null,
      "outputs": []
    },
    {
      "cell_type": "code",
      "source": [
        ""
      ],
      "metadata": {
        "id": "FuoCshopNegs"
      },
      "execution_count": null,
      "outputs": []
    },
    {
      "cell_type": "code",
      "source": [
        "# a=[1,2,3,4,5]\n",
        "# a[:, :-1]\n",
        "a = tf.expand_dims(tf.range(8)+1, axis=0)[:, :-1]\n",
        "print(a)\n",
        "tf.squeeze(a).numpy()"
      ],
      "metadata": {
        "colab": {
          "base_uri": "https://localhost:8080/"
        },
        "id": "7k_Ljq89dbdl",
        "outputId": "b99e6e8c-7712-4ce0-c6e1-3ecd4a5819b4"
      },
      "execution_count": null,
      "outputs": [
        {
          "output_type": "stream",
          "name": "stdout",
          "text": [
            "tf.Tensor([[1 2 3 4 5 6 7]], shape=(1, 7), dtype=int32)\n"
          ]
        },
        {
          "output_type": "execute_result",
          "data": {
            "text/plain": [
              "array([1, 2, 3, 4, 5, 6, 7], dtype=int32)"
            ]
          },
          "metadata": {},
          "execution_count": 23
        }
      ]
    },
    {
      "cell_type": "code",
      "source": [
        "# Create function to label windowed data\n",
        "def get_labelled_windows(x, horizon=HORIZON):\n",
        "  \"\"\"\n",
        "  Creates labels for windowed dataset.\n",
        "\n",
        "  E.g. if horizon=1 (default)\n",
        "  Input: [0, 1, 2, 3, 4, 5, 6, 7] -> Output: ([0, 1, 2, 3, 4, 5, 6], [7])\n",
        "  \"\"\"\n",
        "  return x[:, :-horizon], x[:, -horizon:]"
      ],
      "metadata": {
        "id": "Ck4034qEP81_"
      },
      "execution_count": null,
      "outputs": []
    },
    {
      "cell_type": "code",
      "source": [
        "# Test out the window labelling function\n",
        "test_window, test_label = get_labelled_windows(tf.expand_dims(tf.range(8)+1, axis=0), horizon=HORIZON)\n",
        "print(f\"Window: {tf.squeeze(test_window).numpy()} -> Label: {tf.squeeze(test_label).numpy()}\")"
      ],
      "metadata": {
        "colab": {
          "base_uri": "https://localhost:8080/"
        },
        "id": "DO62NEKjP-0x",
        "outputId": "1f5f2544-b6a2-43cd-8686-0dff4185eb63"
      },
      "execution_count": null,
      "outputs": [
        {
          "output_type": "stream",
          "name": "stdout",
          "text": [
            "Window: [1 2 3 4 5 6 7] -> Label: 8\n"
          ]
        }
      ]
    },
    {
      "cell_type": "markdown",
      "source": [
        "We need to do the above on our entire btc data. For doing it, using python for loops is good but it becomes very slow when using it in python for-loops so we are using numpy index."
      ],
      "metadata": {
        "id": "WDFg27CzPhIJ"
      }
    },
    {
      "cell_type": "code",
      "source": [
        "# make windows from numpy arrays\n",
        "import numpy as np\n",
        "\n",
        "def make_windows(x, window_size=WINDOW_SIZE, horizon=HORIZON):\n",
        "    \"\"\"\n",
        "    returns 2D array of sequential windows of window size\n",
        "    \"\"\"\n",
        "    window_step = np.expand_dims(np.arange(window_size+horizon), axis=0)\n",
        "  \n",
        "    window_indexes = window_step + np.expand_dims(np.arange(len(x) - (window_size+horizon-1)), axis=0).T # -1 to prevent window going off the last value\n",
        "\n",
        "    # Here window_indexes gives the position of the value of respective indexes, so using x[window_indexes] puts the respective x values in the position\n",
        "    # specified in the windoe_indexes. It only works with numpy arrays\n",
        "    windowed_array = x[window_indexes]\n",
        "    windows, labels = get_labelled_windows(windowed_array, horizon=HORIZON)\n",
        "    return windows, labels\n",
        "\n",
        "    # a = np.array([1,2,3,4])\n",
        "    # x = np.array([10,11,12,13,14])\n",
        "    # a, x, x[a]"
      ],
      "metadata": {
        "id": "vpDl6GcsQbAp"
      },
      "execution_count": null,
      "outputs": []
    },
    {
      "cell_type": "code",
      "source": [
        "# Passing the whole dataset in the windows\n",
        "full_windows, full_labels = make_windows(prices, WINDOW_SIZE, HORIZON)\n",
        "len(full_windows), len(full_labels)"
      ],
      "metadata": {
        "colab": {
          "base_uri": "https://localhost:8080/"
        },
        "id": "BJbeWYxYWZUY",
        "outputId": "c662e748-9233-45bc-90b0-7ab4970f7a31"
      },
      "execution_count": null,
      "outputs": [
        {
          "output_type": "execute_result",
          "data": {
            "text/plain": [
              "(2229, 2229)"
            ]
          },
          "metadata": {},
          "execution_count": 27
        }
      ]
    },
    {
      "cell_type": "code",
      "source": [
        "def make_train_test_splits(windows, labels, test_split = 0.2):\n",
        "  split_size = int(len(windows) * (1-test_split))\n",
        "  train_windows = windows[:split_size]\n",
        "  train_labels = labels[:split_size]\n",
        "  test_windows = windows[split_size:]\n",
        "  test_labels = labels[split_size:]\n",
        "  # returns in the same order as skit-learn splitting function returns\n",
        "  return train_windows, test_windows, train_labels, test_labels"
      ],
      "metadata": {
        "id": "pfn62A5XZhgE"
      },
      "execution_count": null,
      "outputs": []
    },
    {
      "cell_type": "code",
      "source": [
        "# Create a train and test windows\n",
        "train_windows, test_windows, train_labels, test_labels = make_train_test_splits(full_windows, full_labels)"
      ],
      "metadata": {
        "id": "qi6e_lo5crRL"
      },
      "execution_count": null,
      "outputs": []
    },
    {
      "cell_type": "code",
      "source": [
        "len(train_labels[:-HORIZON]), len(train_labels), len(train_labels[:-HORIZON-1]), len(y_train), len(y_train[WINDOW_SIZE:])"
      ],
      "metadata": {
        "colab": {
          "base_uri": "https://localhost:8080/"
        },
        "id": "g28M0JaPdoUz",
        "outputId": "312c74b7-e905-4da8-c109-59c8fd19ff98"
      },
      "execution_count": null,
      "outputs": [
        {
          "output_type": "execute_result",
          "data": {
            "text/plain": [
              "(1782, 1783, 1781, 1788, 1781)"
            ]
          },
          "metadata": {},
          "execution_count": 30
        }
      ]
    },
    {
      "cell_type": "code",
      "source": [
        ""
      ],
      "metadata": {
        "id": "JUfMZqvkdtsX"
      },
      "execution_count": null,
      "outputs": []
    },
    {
      "cell_type": "code",
      "source": [
        "train_labels[:5], tf.squeeze(train_labels[:5]).numpy()"
      ],
      "metadata": {
        "colab": {
          "base_uri": "https://localhost:8080/"
        },
        "id": "enuahFOIX2bc",
        "outputId": "9bdc4859-f7b4-4677-dcdf-569f43f15eef"
      },
      "execution_count": null,
      "outputs": [
        {
          "output_type": "execute_result",
          "data": {
            "text/plain": [
              "(array([[824.76],\n",
              "        [852.61],\n",
              "        [896.59],\n",
              "        [844.05],\n",
              "        [823.  ]]), array([824.76, 852.61, 896.59, 844.05, 823.  ]))"
            ]
          },
          "metadata": {},
          "execution_count": 31
        }
      ]
    },
    {
      "cell_type": "code",
      "source": [
        "# len(tf.keras.preprocessing.timeseries_dataset_from_array(data =prices, targets = None, sequence_length=7, sampling_rate=1, sequence_stride=1, shuffle=False))"
      ],
      "metadata": {
        "id": "oylC2DiLZDFy"
      },
      "execution_count": null,
      "outputs": []
    },
    {
      "cell_type": "code",
      "source": [
        "# Make the train/test splits\n",
        "# Our approach is to window the data first and then make tests/train splits\n",
        "def make_train_test_splits(windows, labels, test_split=0.2):\n",
        "  \"\"\"\n",
        "  Splits matching pairs of windows and labels into train and test splits.\n",
        "  \"\"\"\n",
        "  split_size = int(len(windows) * (1-test_split)) # this will default to 80% train/20% test\n",
        "  train_windows = windows[:split_size]\n",
        "  train_labels = labels[:split_size]\n",
        "  test_windows = windows[split_size:]\n",
        "  test_labels = labels[split_size:]\n",
        "  return train_windows, test_windows, train_labels, test_labels"
      ],
      "metadata": {
        "id": "rTh_kDAbQmZi"
      },
      "execution_count": null,
      "outputs": []
    },
    {
      "cell_type": "code",
      "source": [
        "train_windows, test_windows, train_labels, test_labels = make_train_test_splits(full_windows, full_labels)\n",
        "len(train_windows), len(test_windows), len(train_labels), len(test_labels)"
      ],
      "metadata": {
        "colab": {
          "base_uri": "https://localhost:8080/"
        },
        "id": "c0IhuBu9RtsI",
        "outputId": "78a16598-6ae5-43db-ef6f-525cb61ece57"
      },
      "execution_count": null,
      "outputs": [
        {
          "output_type": "execute_result",
          "data": {
            "text/plain": [
              "(1783, 446, 1783, 446)"
            ]
          },
          "metadata": {},
          "execution_count": 34
        }
      ]
    },
    {
      "cell_type": "code",
      "source": [
        "train_windows"
      ],
      "metadata": {
        "colab": {
          "base_uri": "https://localhost:8080/"
        },
        "id": "eo-gMk5-fmy5",
        "outputId": "72043907-1a8c-41ba-d8c7-0941143da77a"
      },
      "execution_count": null,
      "outputs": [
        {
          "output_type": "execute_result",
          "data": {
            "text/plain": [
              "array([[ 754.9 ,  784.19,  809.4 , ...,  905.  ,  919.24,  785.  ],\n",
              "       [ 784.19,  809.4 ,  828.79, ...,  919.24,  785.  ,  824.76],\n",
              "       [ 809.4 ,  828.79,  905.  , ...,  785.  ,  824.76,  852.61],\n",
              "       ...,\n",
              "       [7208.69, 7181.73, 7133.65, ..., 7326.  , 7298.62, 7222.11],\n",
              "       [7181.73, 7133.65, 7284.59, ..., 7298.62, 7222.11, 7171.68],\n",
              "       [7133.65, 7284.59, 7326.  , ..., 7222.11, 7171.68, 7129.2 ]])"
            ]
          },
          "metadata": {},
          "execution_count": 35
        }
      ]
    },
    {
      "cell_type": "code",
      "source": [
        "# os is imported to save the model's best performance in google colab\n",
        "import os\n",
        "\"\"\"\n",
        "  Since we are comparing different model's performance, it is better to compare each model's best performance with another model's best\n",
        "  Model's performance is going to fluctuate epoch to epoch\n",
        "  Create a function to implement a ModelCheckpoint callback with a specific filename \n",
        "\"\"\"\n",
        "\n",
        "def create_model_checkpoint(model_name, save_path=\"models\"):\n",
        "  return tf.keras.callbacks.ModelCheckpoint(filepath=os.path.join(save_path, model_name),\n",
        "                                            monitor='val_loss',\n",
        "                                            verbose=0, # elsewise continously printout if saved or not\n",
        "                                            save_best_only=True)"
      ],
      "metadata": {
        "id": "105ABwT0Q9B9"
      },
      "execution_count": null,
      "outputs": []
    },
    {
      "cell_type": "code",
      "source": [
        "\"\"\" \n",
        "  Model-1: Dense model (window=7, horizon=1)\n",
        "  The values are chosen by doing experiments\n",
        "\"\"\"\n",
        "\n",
        "import tensorflow as tf\n",
        "from tensorflow.keras import layers\n",
        "\n",
        "# Set random seed for as reprodicible results as possible\n",
        "tf.random.set_seed(42)\n",
        "\n",
        "model_1 = tf.keras.Sequential([\n",
        "  layers.Dense(128, activation='relu'),\n",
        "  layers.Dense(HORIZON, activation='linear') # Same output as it was passed into it (similar to no activation)\n",
        "], name='model_1_dense') # we can use it for our checkpoint function\n",
        "\n",
        "# 2. Compile\n",
        "model_1.compile(loss=\"mae\",\n",
        "                 optimizer=tf.keras.optimizers.Adam(),\n",
        "                 metrics=[\"mae\", \"mse\"])\n",
        "\n",
        "# 3. Fit the model\n",
        "model_1.fit(x=train_windows,\n",
        "            y=train_labels,\n",
        "            epochs=100,\n",
        "            verbose=1, # it refers to how much information we want to print for our models\n",
        "            batch_size=128,\n",
        "            validation_data=(test_windows, test_labels),\n",
        "            callbacks=[create_model_checkpoint(model_name=model_1.name)]) # saves the best model\n",
        "\n"
      ],
      "metadata": {
        "colab": {
          "base_uri": "https://localhost:8080/"
        },
        "id": "oRhcPtINRhrR",
        "outputId": "07f08a2f-0f96-460b-b2e6-dfbe249432fa"
      },
      "execution_count": null,
      "outputs": [
        {
          "output_type": "stream",
          "name": "stdout",
          "text": [
            "Epoch 1/100\n",
            " 1/14 [=>............................] - ETA: 8s - loss: 2577.9028 - mae: 2577.9028 - mse: 13710974.0000INFO:tensorflow:Assets written to: models/model_1_dense/assets\n",
            "14/14 [==============================] - 2s 75ms/step - loss: 1101.4742 - mae: 1101.4742 - mse: 3686015.2500 - val_loss: 1823.4686 - val_mae: 1823.4686 - val_mse: 7446906.5000\n",
            "Epoch 2/100\n",
            " 1/14 [=>............................] - ETA: 0s - loss: 430.8965 - mae: 430.8965 - mse: 513365.0000INFO:tensorflow:Assets written to: models/model_1_dense/assets\n",
            "14/14 [==============================] - 1s 59ms/step - loss: 364.8518 - mae: 364.8518 - mse: 455562.6562 - val_loss: 1636.2445 - val_mae: 1636.2445 - val_mse: 6570923.0000\n",
            "Epoch 3/100\n",
            " 1/14 [=>............................] - ETA: 0s - loss: 345.7112 - mae: 345.7112 - mse: 305336.2500INFO:tensorflow:Assets written to: models/model_1_dense/assets\n",
            "14/14 [==============================] - 1s 57ms/step - loss: 262.0773 - mae: 262.0773 - mse: 276249.4062 - val_loss: 910.5252 - val_mae: 910.5252 - val_mse: 2657822.5000\n",
            "Epoch 4/100\n",
            " 1/14 [=>............................] - ETA: 0s - loss: 194.9109 - mae: 194.9109 - mse: 153902.2500INFO:tensorflow:Assets written to: models/model_1_dense/assets\n",
            "14/14 [==============================] - 1s 59ms/step - loss: 229.8440 - mae: 229.8440 - mse: 223030.8281 - val_loss: 871.9905 - val_mae: 871.9905 - val_mse: 2471795.2500\n",
            "Epoch 5/100\n",
            "14/14 [==============================] - 0s 13ms/step - loss: 213.3528 - mae: 213.3528 - mse: 196829.0312 - val_loss: 934.7780 - val_mae: 934.7780 - val_mse: 2761022.7500\n",
            "Epoch 6/100\n",
            "14/14 [==============================] - 0s 13ms/step - loss: 209.7133 - mae: 209.7133 - mse: 192899.4688 - val_loss: 966.5995 - val_mae: 966.5995 - val_mse: 2874153.2500\n",
            "Epoch 7/100\n",
            "14/14 [==============================] - 0s 8ms/step - loss: 206.8329 - mae: 206.8329 - mse: 191047.0781 - val_loss: 965.7742 - val_mae: 965.7742 - val_mse: 2848966.0000\n",
            "Epoch 8/100\n",
            "14/14 [==============================] - 0s 8ms/step - loss: 204.5825 - mae: 204.5825 - mse: 185115.9219 - val_loss: 903.4236 - val_mae: 903.4236 - val_mse: 2583773.0000\n",
            "Epoch 9/100\n",
            "13/14 [==========================>...] - ETA: 0s - loss: 196.7083 - mae: 196.7083 - mse: 167780.1562INFO:tensorflow:Assets written to: models/model_1_dense/assets\n",
            "14/14 [==============================] - 1s 50ms/step - loss: 198.6221 - mae: 198.6221 - mse: 171794.0938 - val_loss: 835.4069 - val_mae: 835.4069 - val_mse: 2303016.7500\n",
            "Epoch 10/100\n",
            " 1/14 [=>............................] - ETA: 0s - loss: 158.1907 - mae: 158.1907 - mse: 109479.2734INFO:tensorflow:Assets written to: models/model_1_dense/assets\n",
            "14/14 [==============================] - 0s 33ms/step - loss: 196.4742 - mae: 196.4742 - mse: 171026.0781 - val_loss: 802.7802 - val_mae: 802.7802 - val_mse: 2160415.0000\n",
            "Epoch 11/100\n",
            " 1/14 [=>............................] - ETA: 0s - loss: 159.4592 - mae: 159.4592 - mse: 101246.4844INFO:tensorflow:Assets written to: models/model_1_dense/assets\n",
            "14/14 [==============================] - 0s 34ms/step - loss: 193.1235 - mae: 193.1235 - mse: 166222.8750 - val_loss: 794.5809 - val_mae: 794.5809 - val_mse: 2125859.5000\n",
            "Epoch 12/100\n",
            "14/14 [==============================] - 0s 5ms/step - loss: 186.3037 - mae: 186.3037 - mse: 156349.7500 - val_loss: 794.6775 - val_mae: 794.6775 - val_mse: 2118831.7500\n",
            "Epoch 13/100\n",
            "14/14 [==============================] - 0s 3ms/step - loss: 183.0404 - mae: 183.0404 - mse: 151985.5156 - val_loss: 799.2279 - val_mae: 799.2279 - val_mse: 2128761.5000\n",
            "Epoch 14/100\n",
            " 1/14 [=>............................] - ETA: 0s - loss: 142.5693 - mae: 142.5693 - mse: 88002.7266INFO:tensorflow:Assets written to: models/model_1_dense/assets\n",
            "14/14 [==============================] - 0s 36ms/step - loss: 179.3743 - mae: 179.3743 - mse: 146481.1094 - val_loss: 740.3794 - val_mae: 740.3794 - val_mse: 1903131.0000\n",
            "Epoch 15/100\n",
            " 1/14 [=>............................] - ETA: 0s - loss: 162.0855 - mae: 162.0855 - mse: 87714.0156INFO:tensorflow:Assets written to: models/model_1_dense/assets\n",
            "14/14 [==============================] - 1s 74ms/step - loss: 182.7089 - mae: 182.7089 - mse: 146475.6719 - val_loss: 729.9391 - val_mae: 729.9391 - val_mse: 1821290.5000\n",
            "Epoch 16/100\n",
            "14/14 [==============================] - 0s 7ms/step - loss: 178.4186 - mae: 178.4186 - mse: 139462.9688 - val_loss: 798.1420 - val_mae: 798.1420 - val_mse: 2089035.6250\n",
            "Epoch 17/100\n",
            " 1/14 [=>............................] - ETA: 0s - loss: 172.4854 - mae: 172.4854 - mse: 113032.4922INFO:tensorflow:Assets written to: models/model_1_dense/assets\n",
            "14/14 [==============================] - 1s 90ms/step - loss: 172.5632 - mae: 172.5632 - mse: 135696.4375 - val_loss: 715.9370 - val_mae: 715.9370 - val_mse: 1810874.8750\n",
            "Epoch 18/100\n",
            " 1/14 [=>............................] - ETA: 0s - loss: 156.5934 - mae: 156.5934 - mse: 163070.8438INFO:tensorflow:Assets written to: models/model_1_dense/assets\n",
            "14/14 [==============================] - 7s 541ms/step - loss: 165.2650 - mae: 165.2650 - mse: 128032.8594 - val_loss: 711.1005 - val_mae: 711.1005 - val_mse: 1790155.5000\n",
            "Epoch 19/100\n",
            "14/14 [==============================] - 0s 3ms/step - loss: 162.9796 - mae: 162.9796 - mse: 123665.5312 - val_loss: 725.2684 - val_mae: 725.2684 - val_mse: 1830248.7500\n",
            "Epoch 20/100\n",
            " 1/14 [=>............................] - ETA: 0s - loss: 159.1407 - mae: 159.1407 - mse: 99936.3672INFO:tensorflow:Assets written to: models/model_1_dense/assets\n",
            "14/14 [==============================] - 0s 33ms/step - loss: 160.1222 - mae: 160.1222 - mse: 120728.4688 - val_loss: 687.6455 - val_mae: 687.6455 - val_mse: 1693958.5000\n",
            "Epoch 21/100\n",
            "14/14 [==============================] - 0s 3ms/step - loss: 158.0929 - mae: 158.0929 - mse: 118206.3203 - val_loss: 718.1673 - val_mae: 718.1673 - val_mse: 1794515.7500\n",
            "Epoch 22/100\n",
            " 1/14 [=>............................] - ETA: 0s - loss: 92.1823 - mae: 92.1823 - mse: 43380.0078INFO:tensorflow:Assets written to: models/model_1_dense/assets\n",
            "14/14 [==============================] - 0s 36ms/step - loss: 158.3474 - mae: 158.3474 - mse: 116326.8984 - val_loss: 671.3375 - val_mae: 671.3375 - val_mse: 1611502.1250\n",
            "Epoch 23/100\n",
            "14/14 [==============================] - 0s 5ms/step - loss: 163.3931 - mae: 163.3931 - mse: 119745.3203 - val_loss: 743.5507 - val_mae: 743.5507 - val_mse: 1866782.0000\n",
            "Epoch 24/100\n",
            "14/14 [==============================] - 0s 3ms/step - loss: 152.5292 - mae: 152.5292 - mse: 109349.9062 - val_loss: 713.9948 - val_mae: 713.9948 - val_mse: 1767686.6250\n",
            "Epoch 25/100\n",
            "14/14 [==============================] - 0s 5ms/step - loss: 151.3151 - mae: 151.3151 - mse: 109533.3281 - val_loss: 686.5325 - val_mae: 686.5325 - val_mse: 1677669.2500\n",
            "Epoch 26/100\n",
            " 1/14 [=>............................] - ETA: 0s - loss: 142.0247 - mae: 142.0247 - mse: 82468.0859INFO:tensorflow:Assets written to: models/model_1_dense/assets\n",
            "14/14 [==============================] - 0s 35ms/step - loss: 149.3256 - mae: 149.3256 - mse: 107713.2891 - val_loss: 650.1940 - val_mae: 650.1940 - val_mse: 1564274.7500\n",
            "Epoch 27/100\n",
            " 1/14 [=>............................] - ETA: 0s - loss: 161.7262 - mae: 161.7262 - mse: 99469.1875INFO:tensorflow:Assets written to: models/model_1_dense/assets\n",
            "14/14 [==============================] - 0s 36ms/step - loss: 148.6763 - mae: 148.6763 - mse: 106319.6250 - val_loss: 640.1736 - val_mae: 640.1736 - val_mse: 1531464.8750\n",
            "Epoch 28/100\n",
            "14/14 [==============================] - 0s 4ms/step - loss: 148.3608 - mae: 148.3608 - mse: 104719.4219 - val_loss: 641.1099 - val_mae: 641.1099 - val_mse: 1538505.5000\n",
            "Epoch 29/100\n",
            "14/14 [==============================] - 0s 3ms/step - loss: 147.2398 - mae: 147.2398 - mse: 104651.4297 - val_loss: 654.3926 - val_mae: 654.3927 - val_mse: 1579388.8750\n",
            "Epoch 30/100\n",
            "14/14 [==============================] - 0s 5ms/step - loss: 146.0179 - mae: 146.0179 - mse: 101914.5781 - val_loss: 645.4133 - val_mae: 645.4133 - val_mse: 1553391.5000\n",
            "Epoch 31/100\n",
            "14/14 [==============================] - 0s 4ms/step - loss: 146.2881 - mae: 146.2881 - mse: 102279.9609 - val_loss: 746.6291 - val_mae: 746.6291 - val_mse: 1836753.5000\n",
            "Epoch 32/100\n",
            " 1/14 [=>............................] - ETA: 0s - loss: 106.2184 - mae: 106.2184 - mse: 44532.6562INFO:tensorflow:Assets written to: models/model_1_dense/assets\n",
            "14/14 [==============================] - 0s 36ms/step - loss: 148.7141 - mae: 148.7141 - mse: 103357.0469 - val_loss: 627.3441 - val_mae: 627.3441 - val_mse: 1501885.1250\n",
            "Epoch 33/100\n",
            " 1/14 [=>............................] - ETA: 0s - loss: 137.5744 - mae: 137.5744 - mse: 131387.2812INFO:tensorflow:Assets written to: models/model_1_dense/assets\n",
            "14/14 [==============================] - 0s 36ms/step - loss: 143.9512 - mae: 143.9512 - mse: 98952.2109 - val_loss: 620.1556 - val_mae: 620.1556 - val_mse: 1480714.6250\n",
            "Epoch 34/100\n",
            " 1/14 [=>............................] - ETA: 0s - loss: 132.4552 - mae: 132.4552 - mse: 83575.8906INFO:tensorflow:Assets written to: models/model_1_dense/assets\n",
            "14/14 [==============================] - 0s 36ms/step - loss: 143.0516 - mae: 143.0516 - mse: 99744.8594 - val_loss: 619.0240 - val_mae: 619.0240 - val_mse: 1479111.5000\n",
            "Epoch 35/100\n",
            " 1/14 [=>............................] - ETA: 0s - loss: 125.7160 - mae: 125.7160 - mse: 63855.0586INFO:tensorflow:Assets written to: models/model_1_dense/assets\n",
            "14/14 [==============================] - 0s 35ms/step - loss: 143.1871 - mae: 143.1871 - mse: 99491.3125 - val_loss: 614.7599 - val_mae: 614.7599 - val_mse: 1466951.7500\n",
            "Epoch 36/100\n",
            "14/14 [==============================] - 0s 5ms/step - loss: 142.0858 - mae: 142.0858 - mse: 97940.0078 - val_loss: 684.4185 - val_mae: 684.4185 - val_mse: 1644084.6250\n",
            "Epoch 37/100\n",
            "14/14 [==============================] - 0s 3ms/step - loss: 143.3820 - mae: 143.3820 - mse: 98584.6406 - val_loss: 654.3625 - val_mae: 654.3625 - val_mse: 1562561.2500\n",
            "Epoch 38/100\n",
            " 1/14 [=>............................] - ETA: 0s - loss: 140.6568 - mae: 140.6568 - mse: 84337.1797INFO:tensorflow:Assets written to: models/model_1_dense/assets\n",
            "14/14 [==============================] - 0s 34ms/step - loss: 145.4281 - mae: 145.4281 - mse: 102676.0391 - val_loss: 611.0156 - val_mae: 611.0156 - val_mse: 1454831.2500\n",
            "Epoch 39/100\n",
            "14/14 [==============================] - 0s 3ms/step - loss: 141.9953 - mae: 141.9953 - mse: 98145.3125 - val_loss: 622.5909 - val_mae: 622.5909 - val_mse: 1484375.3750\n",
            "Epoch 40/100\n",
            "14/14 [==============================] - 0s 5ms/step - loss: 143.4480 - mae: 143.4480 - mse: 98744.0469 - val_loss: 678.8622 - val_mae: 678.8622 - val_mse: 1619999.3750\n",
            "Epoch 41/100\n",
            "14/14 [==============================] - 0s 3ms/step - loss: 143.7565 - mae: 143.7565 - mse: 98450.6328 - val_loss: 628.6193 - val_mae: 628.6193 - val_mse: 1495224.0000\n",
            "Epoch 42/100\n",
            "14/14 [==============================] - 0s 4ms/step - loss: 141.1371 - mae: 141.1371 - mse: 97081.7578 - val_loss: 655.1682 - val_mae: 655.1682 - val_mse: 1556468.5000\n",
            "Epoch 43/100\n",
            " 1/14 [=>............................] - ETA: 0s - loss: 115.8680 - mae: 115.8680 - mse: 49242.4609INFO:tensorflow:Assets written to: models/model_1_dense/assets\n",
            "14/14 [==============================] - 0s 35ms/step - loss: 138.8889 - mae: 138.8889 - mse: 94142.5391 - val_loss: 601.0325 - val_mae: 601.0325 - val_mse: 1428307.5000\n",
            "Epoch 44/100\n",
            "14/14 [==============================] - 0s 5ms/step - loss: 138.8219 - mae: 138.8219 - mse: 94428.8750 - val_loss: 640.7516 - val_mae: 640.7516 - val_mse: 1519444.5000\n",
            "Epoch 45/100\n",
            "14/14 [==============================] - 0s 4ms/step - loss: 142.7124 - mae: 142.7124 - mse: 96946.4219 - val_loss: 639.3523 - val_mae: 639.3523 - val_mse: 1514557.0000\n",
            "Epoch 46/100\n",
            "14/14 [==============================] - 0s 3ms/step - loss: 138.9877 - mae: 138.9877 - mse: 94142.4844 - val_loss: 621.2740 - val_mae: 621.2740 - val_mse: 1472339.1250\n",
            "Epoch 47/100\n",
            " 1/14 [=>............................] - ETA: 0s - loss: 122.7447 - mae: 122.7447 - mse: 57126.2812INFO:tensorflow:Assets written to: models/model_1_dense/assets\n",
            "14/14 [==============================] - 0s 35ms/step - loss: 138.1853 - mae: 138.1853 - mse: 93560.4688 - val_loss: 593.7279 - val_mae: 593.7279 - val_mse: 1408992.6250\n",
            "Epoch 48/100\n",
            "14/14 [==============================] - 0s 5ms/step - loss: 138.6728 - mae: 138.6728 - mse: 92365.8984 - val_loss: 605.0072 - val_mae: 605.0072 - val_mse: 1433557.2500\n",
            "Epoch 49/100\n",
            "14/14 [==============================] - 0s 3ms/step - loss: 138.6731 - mae: 138.6731 - mse: 92023.1250 - val_loss: 613.2541 - val_mae: 613.2541 - val_mse: 1449940.3750\n",
            "Epoch 50/100\n",
            " 1/14 [=>............................] - ETA: 0s - loss: 132.0914 - mae: 132.0914 - mse: 106380.1172INFO:tensorflow:Assets written to: models/model_1_dense/assets\n",
            "14/14 [==============================] - 0s 34ms/step - loss: 136.4101 - mae: 136.4101 - mse: 92522.7500 - val_loss: 591.7113 - val_mae: 591.7113 - val_mse: 1401663.7500\n",
            "Epoch 51/100\n",
            "14/14 [==============================] - 0s 4ms/step - loss: 137.2266 - mae: 137.2266 - mse: 93190.9453 - val_loss: 597.6624 - val_mae: 597.6624 - val_mse: 1415460.6250\n",
            "Epoch 52/100\n",
            " 1/14 [=>............................] - ETA: 0s - loss: 141.1668 - mae: 141.1668 - mse: 103654.2422INFO:tensorflow:Assets written to: models/model_1_dense/assets\n",
            "14/14 [==============================] - 0s 35ms/step - loss: 138.3513 - mae: 138.3513 - mse: 92501.7188 - val_loss: 590.3843 - val_mae: 590.3843 - val_mse: 1401723.2500\n",
            "Epoch 53/100\n",
            " 1/14 [=>............................] - ETA: 0s - loss: 131.1252 - mae: 131.1252 - mse: 79317.6875INFO:tensorflow:Assets written to: models/model_1_dense/assets\n",
            "14/14 [==============================] - 0s 34ms/step - loss: 138.1537 - mae: 138.1537 - mse: 93542.3594 - val_loss: 588.1279 - val_mae: 588.1279 - val_mse: 1392363.3750\n",
            "Epoch 54/100\n",
            "14/14 [==============================] - 0s 3ms/step - loss: 142.8251 - mae: 142.8251 - mse: 95631.7031 - val_loss: 635.1245 - val_mae: 635.1245 - val_mse: 1512115.0000\n",
            "Epoch 55/100\n",
            "14/14 [==============================] - 0s 4ms/step - loss: 144.3997 - mae: 144.3997 - mse: 97015.1406 - val_loss: 589.2566 - val_mae: 589.2566 - val_mse: 1393248.3750\n",
            "Epoch 56/100\n",
            "14/14 [==============================] - 0s 4ms/step - loss: 136.2072 - mae: 136.2072 - mse: 92898.7109 - val_loss: 596.6952 - val_mae: 596.6952 - val_mse: 1409366.3750\n",
            "Epoch 57/100\n",
            "14/14 [==============================] - 0s 3ms/step - loss: 135.0671 - mae: 135.0671 - mse: 90360.4766 - val_loss: 614.5527 - val_mae: 614.5527 - val_mse: 1448321.0000\n",
            "Epoch 58/100\n",
            "14/14 [==============================] - 0s 5ms/step - loss: 134.1635 - mae: 134.1635 - mse: 90416.3594 - val_loss: 614.5059 - val_mae: 614.5059 - val_mse: 1446699.7500\n",
            "Epoch 59/100\n",
            "14/14 [==============================] - 0s 4ms/step - loss: 136.0252 - mae: 136.0252 - mse: 90553.5391 - val_loss: 628.8660 - val_mae: 628.8660 - val_mse: 1475262.0000\n",
            "Epoch 60/100\n",
            " 1/14 [=>............................] - ETA: 0s - loss: 114.0467 - mae: 114.0467 - mse: 53713.1523INFO:tensorflow:Assets written to: models/model_1_dense/assets\n",
            "14/14 [==============================] - 1s 53ms/step - loss: 135.0599 - mae: 135.0599 - mse: 88729.6641 - val_loss: 581.0853 - val_mae: 581.0853 - val_mse: 1375242.3750\n",
            "Epoch 61/100\n",
            "14/14 [==============================] - 0s 5ms/step - loss: 137.6247 - mae: 137.6247 - mse: 91922.5156 - val_loss: 590.5905 - val_mae: 590.5905 - val_mse: 1403660.0000\n",
            "Epoch 62/100\n",
            "14/14 [==============================] - 0s 5ms/step - loss: 140.0527 - mae: 140.0527 - mse: 95946.1328 - val_loss: 589.7196 - val_mae: 589.7196 - val_mse: 1402479.8750\n",
            "Epoch 63/100\n",
            "14/14 [==============================] - 0s 5ms/step - loss: 133.3236 - mae: 133.3236 - mse: 88356.5469 - val_loss: 606.3461 - val_mae: 606.3461 - val_mse: 1426700.0000\n",
            "Epoch 64/100\n",
            "14/14 [==============================] - 0s 3ms/step - loss: 134.0771 - mae: 134.0771 - mse: 88987.7891 - val_loss: 670.9430 - val_mae: 670.9430 - val_mse: 1565048.5000\n",
            "Epoch 65/100\n",
            "14/14 [==============================] - 0s 4ms/step - loss: 133.8135 - mae: 133.8135 - mse: 87611.9141 - val_loss: 591.4542 - val_mae: 591.4542 - val_mse: 1395190.0000\n",
            "Epoch 66/100\n",
            "14/14 [==============================] - 0s 5ms/step - loss: 131.8497 - mae: 131.8497 - mse: 87893.6094 - val_loss: 603.5839 - val_mae: 603.5839 - val_mse: 1419588.8750\n",
            "Epoch 67/100\n",
            "14/14 [==============================] - 0s 5ms/step - loss: 137.1100 - mae: 137.1100 - mse: 91648.9219 - val_loss: 593.5013 - val_mae: 593.5013 - val_mse: 1398036.0000\n",
            "Epoch 68/100\n",
            "14/14 [==============================] - 0s 4ms/step - loss: 132.5746 - mae: 132.5746 - mse: 87328.6875 - val_loss: 599.2882 - val_mae: 599.2882 - val_mse: 1409063.3750\n",
            "Epoch 69/100\n",
            "14/14 [==============================] - 0s 5ms/step - loss: 134.7035 - mae: 134.7035 - mse: 90117.2344 - val_loss: 658.6537 - val_mae: 658.6537 - val_mse: 1532858.0000\n",
            "Epoch 70/100\n",
            " 1/14 [=>............................] - ETA: 0s - loss: 101.6685 - mae: 101.6685 - mse: 49802.6719INFO:tensorflow:Assets written to: models/model_1_dense/assets\n",
            "14/14 [==============================] - 0s 36ms/step - loss: 131.9018 - mae: 131.9018 - mse: 86698.7734 - val_loss: 578.5331 - val_mae: 578.5331 - val_mse: 1372794.8750\n",
            "Epoch 71/100\n",
            "14/14 [==============================] - 0s 4ms/step - loss: 138.6728 - mae: 138.6728 - mse: 90748.0938 - val_loss: 578.9890 - val_mae: 578.9890 - val_mse: 1373452.6250\n",
            "Epoch 72/100\n",
            "14/14 [==============================] - 0s 5ms/step - loss: 142.0860 - mae: 142.0860 - mse: 95125.8672 - val_loss: 582.2274 - val_mae: 582.2274 - val_mse: 1384991.2500\n",
            "Epoch 73/100\n",
            "14/14 [==============================] - 0s 4ms/step - loss: 142.8698 - mae: 142.8698 - mse: 96207.9297 - val_loss: 587.7832 - val_mae: 587.7832 - val_mse: 1382303.1250\n",
            "Epoch 74/100\n",
            "14/14 [==============================] - 0s 5ms/step - loss: 137.9479 - mae: 137.9479 - mse: 91224.0938 - val_loss: 610.1156 - val_mae: 610.1156 - val_mse: 1425730.2500\n",
            "Epoch 75/100\n",
            "14/14 [==============================] - 0s 4ms/step - loss: 133.8766 - mae: 133.8766 - mse: 89407.1953 - val_loss: 579.0742 - val_mae: 579.0742 - val_mse: 1365842.3750\n",
            "Epoch 76/100\n",
            " 1/14 [=>............................] - ETA: 0s - loss: 114.7108 - mae: 114.7108 - mse: 56529.3281INFO:tensorflow:Assets written to: models/model_1_dense/assets\n",
            "14/14 [==============================] - 0s 36ms/step - loss: 131.7651 - mae: 131.7651 - mse: 86719.1484 - val_loss: 572.6525 - val_mae: 572.6525 - val_mse: 1360227.0000\n",
            "Epoch 77/100\n",
            " 1/14 [=>............................] - ETA: 0s - loss: 135.8531 - mae: 135.8531 - mse: 61746.4062INFO:tensorflow:Assets written to: models/model_1_dense/assets\n",
            "14/14 [==============================] - 0s 35ms/step - loss: 133.6201 - mae: 133.6201 - mse: 87976.9141 - val_loss: 571.1985 - val_mae: 571.1985 - val_mse: 1355810.7500\n",
            "Epoch 78/100\n",
            "14/14 [==============================] - 0s 5ms/step - loss: 135.2839 - mae: 135.2839 - mse: 89175.4844 - val_loss: 575.8176 - val_mae: 575.8176 - val_mse: 1361091.5000\n",
            "Epoch 79/100\n",
            "14/14 [==============================] - 0s 3ms/step - loss: 141.7651 - mae: 141.7651 - mse: 92871.9531 - val_loss: 585.4774 - val_mae: 585.4774 - val_mse: 1394628.6250\n",
            "Epoch 80/100\n",
            "14/14 [==============================] - 0s 4ms/step - loss: 135.6056 - mae: 135.6056 - mse: 88306.9141 - val_loss: 574.4689 - val_mae: 574.4689 - val_mse: 1368063.2500\n",
            "Epoch 81/100\n",
            "14/14 [==============================] - 0s 3ms/step - loss: 131.6943 - mae: 131.6943 - mse: 86834.7578 - val_loss: 610.2302 - val_mae: 610.2302 - val_mse: 1423053.3750\n",
            "Epoch 82/100\n",
            "14/14 [==============================] - 0s 3ms/step - loss: 130.8971 - mae: 130.8971 - mse: 85731.8672 - val_loss: 605.7213 - val_mae: 605.7213 - val_mse: 1414403.6250\n",
            "Epoch 83/100\n",
            "14/14 [==============================] - 0s 3ms/step - loss: 130.6167 - mae: 130.6167 - mse: 85877.0781 - val_loss: 611.3071 - val_mae: 611.3071 - val_mse: 1424642.0000\n",
            "Epoch 84/100\n",
            "14/14 [==============================] - 0s 3ms/step - loss: 130.9835 - mae: 130.9835 - mse: 86655.5156 - val_loss: 590.3142 - val_mae: 590.3142 - val_mse: 1383603.5000\n",
            "Epoch 85/100\n",
            "14/14 [==============================] - 0s 4ms/step - loss: 129.9599 - mae: 129.9599 - mse: 85538.8750 - val_loss: 658.1529 - val_mae: 658.1529 - val_mse: 1520813.3750\n",
            "Epoch 86/100\n",
            "14/14 [==============================] - 0s 5ms/step - loss: 135.0114 - mae: 135.0114 - mse: 86387.6484 - val_loss: 704.7641 - val_mae: 704.7641 - val_mse: 1632150.3750\n",
            "Epoch 87/100\n",
            "14/14 [==============================] - 0s 4ms/step - loss: 134.4804 - mae: 134.4804 - mse: 87618.2969 - val_loss: 630.0575 - val_mae: 630.0575 - val_mse: 1459410.7500\n",
            "Epoch 88/100\n",
            "14/14 [==============================] - 0s 3ms/step - loss: 134.7390 - mae: 134.7390 - mse: 87961.9766 - val_loss: 606.7340 - val_mae: 606.7340 - val_mse: 1411971.8750\n",
            "Epoch 89/100\n",
            "14/14 [==============================] - 0s 4ms/step - loss: 131.0329 - mae: 131.0329 - mse: 86797.3594 - val_loss: 603.1918 - val_mae: 603.1918 - val_mse: 1404426.5000\n",
            "Epoch 90/100\n",
            "14/14 [==============================] - 0s 3ms/step - loss: 130.5483 - mae: 130.5483 - mse: 86221.0625 - val_loss: 625.2003 - val_mae: 625.2003 - val_mse: 1448549.2500\n",
            "Epoch 91/100\n",
            "14/14 [==============================] - 0s 3ms/step - loss: 135.4860 - mae: 135.4860 - mse: 88862.8984 - val_loss: 579.4269 - val_mae: 579.4269 - val_mse: 1359163.1250\n",
            "Epoch 92/100\n",
            "14/14 [==============================] - 0s 4ms/step - loss: 131.8845 - mae: 131.8845 - mse: 85967.8359 - val_loss: 599.7797 - val_mae: 599.7797 - val_mse: 1395459.7500\n",
            "Epoch 93/100\n",
            "14/14 [==============================] - 0s 5ms/step - loss: 131.3853 - mae: 131.3853 - mse: 85047.5234 - val_loss: 661.5824 - val_mae: 661.5824 - val_mse: 1526110.7500\n",
            "Epoch 94/100\n",
            " 1/14 [=>............................] - ETA: 0s - loss: 140.8882 - mae: 140.8882 - mse: 106930.8438INFO:tensorflow:Assets written to: models/model_1_dense/assets\n",
            "14/14 [==============================] - 0s 34ms/step - loss: 137.5188 - mae: 137.5188 - mse: 89046.3516 - val_loss: 567.1067 - val_mae: 567.1067 - val_mse: 1338925.2500\n",
            "Epoch 95/100\n",
            "14/14 [==============================] - 0s 4ms/step - loss: 131.6739 - mae: 131.6739 - mse: 86933.1484 - val_loss: 574.1649 - val_mae: 574.1649 - val_mse: 1349452.0000\n",
            "Epoch 96/100\n",
            " 1/14 [=>............................] - ETA: 0s - loss: 166.4675 - mae: 166.4675 - mse: 141933.6562INFO:tensorflow:Assets written to: models/model_1_dense/assets\n",
            "14/14 [==============================] - 0s 34ms/step - loss: 129.1446 - mae: 129.1446 - mse: 84929.0391 - val_loss: 564.3069 - val_mae: 564.3069 - val_mse: 1332596.6250\n",
            "Epoch 97/100\n",
            "14/14 [==============================] - 0s 3ms/step - loss: 130.5147 - mae: 130.5147 - mse: 85648.6875 - val_loss: 583.4939 - val_mae: 583.4939 - val_mse: 1364950.3750\n",
            "Epoch 98/100\n",
            "14/14 [==============================] - 0s 5ms/step - loss: 130.3553 - mae: 130.3553 - mse: 85103.2031 - val_loss: 565.8488 - val_mae: 565.8488 - val_mse: 1341618.2500\n",
            "Epoch 99/100\n",
            "14/14 [==============================] - 0s 4ms/step - loss: 129.9823 - mae: 129.9823 - mse: 83642.9844 - val_loss: 564.4948 - val_mae: 564.4948 - val_mse: 1334458.2500\n",
            "Epoch 100/100\n",
            " 1/14 [=>............................] - ETA: 0s - loss: 109.1375 - mae: 109.1375 - mse: 45930.7852INFO:tensorflow:Assets written to: models/model_1_dense/assets\n",
            "14/14 [==============================] - 0s 35ms/step - loss: 129.0698 - mae: 129.0698 - mse: 83229.9297 - val_loss: 562.7560 - val_mae: 562.7560 - val_mse: 1333578.3750\n"
          ]
        },
        {
          "output_type": "execute_result",
          "data": {
            "text/plain": [
              "<keras.callbacks.History at 0x7f2a1eeace90>"
            ]
          },
          "metadata": {},
          "execution_count": 48
        }
      ]
    },
    {
      "cell_type": "code",
      "source": [
        "# Evaluate model on test data\n",
        "model_1.evaluate(test_windows, test_labels)\n",
        "# This is not the model's best performance, it is the last epoch's performance"
      ],
      "metadata": {
        "colab": {
          "base_uri": "https://localhost:8080/"
        },
        "id": "uQ8O8suZRkdn",
        "outputId": "50fb954c-59de-44b6-fdd4-3d4f04e0626d"
      },
      "execution_count": null,
      "outputs": [
        {
          "output_type": "stream",
          "name": "stdout",
          "text": [
            "14/14 [==============================] - 0s 1ms/step - loss: 562.7560 - mae: 562.7560 - mse: 1333578.3750\n"
          ]
        },
        {
          "output_type": "execute_result",
          "data": {
            "text/plain": [
              "[562.7560424804688, 562.7560424804688, 1333578.375]"
            ]
          },
          "metadata": {},
          "execution_count": 49
        }
      ]
    },
    {
      "cell_type": "code",
      "source": [
        "# Load in saved best performing model_1 and evaluate on test data\n",
        "model_1 = tf.keras.models.load_model(\"models/model_1_dense\")\n",
        "model_1.evaluate(test_windows, test_labels)"
      ],
      "metadata": {
        "colab": {
          "base_uri": "https://localhost:8080/"
        },
        "id": "ZhtycAO6R_cr",
        "outputId": "35117562-52aa-42d2-b6bd-40d0237e9e7a"
      },
      "execution_count": null,
      "outputs": [
        {
          "output_type": "stream",
          "name": "stdout",
          "text": [
            "14/14 [==============================] - 0s 2ms/step - loss: 562.7560 - mae: 562.7560 - mse: 1333578.3750\n"
          ]
        },
        {
          "output_type": "execute_result",
          "data": {
            "text/plain": [
              "[562.7560424804688, 562.7560424804688, 1333578.375]"
            ]
          },
          "metadata": {},
          "execution_count": 50
        }
      ]
    },
    {
      "cell_type": "markdown",
      "source": [
        "Ateps for making a forecast on the test dataset:\n",
        "* Take in a train model\n",
        "* Take in some input data (same kind of data the model was trained on)\n",
        "* Passes the input data to the model's `predict()` method\n",
        "* Returns the predictions"
      ],
      "metadata": {
        "id": "hzeZelno5imI"
      }
    },
    {
      "cell_type": "code",
      "source": [
        "## After evaluating the model, lets forecast using the model (it is pseudo forecast)\n",
        "def make_prediction(model, input_data):\n",
        "  forecast = model.predict(input_data)\n",
        "  return tf.squeeze(forecast) # Squeezing is needed because we are returning 1D array of predictions"
      ],
      "metadata": {
        "id": "hj3MunMSSHVP"
      },
      "execution_count": null,
      "outputs": []
    },
    {
      "cell_type": "code",
      "source": [
        "# Make predictions using model_1 on the test dataset and evaluate it on test data\n",
        "# Because of the model1 checkpoint, we are getting the predictions from the best performing model\n",
        "model_1_prediction = make_prediction(model_1, test_windows)\n",
        "len(model_1_prediction), model_1_prediction[:10]"
      ],
      "metadata": {
        "colab": {
          "base_uri": "https://localhost:8080/"
        },
        "id": "JpuRxymv6J0U",
        "outputId": "222a50e0-657b-4943-ccc3-e8417837a9b4"
      },
      "execution_count": null,
      "outputs": [
        {
          "output_type": "execute_result",
          "data": {
            "text/plain": [
              "(446, <tf.Tensor: shape=(10,), dtype=float32, numpy=\n",
              " array([7330.038 , 7378.6733, 7476.48  , 7585.791 , 7971.6045, 8359.676 ,\n",
              "        8027.8306, 7893.23  , 8069.9126, 8171.1963], dtype=float32)>)"
            ]
          },
          "metadata": {},
          "execution_count": 55
        }
      ]
    },
    {
      "cell_type": "markdown",
      "source": [
        "The most common errors in machine learning is the input and output size"
      ],
      "metadata": {
        "id": "hic_SCb071LZ"
      }
    },
    {
      "cell_type": "code",
      "source": [
        "test_labels.shape, model_1_prediction.shape, tf.squeeze(test_labels).shape"
      ],
      "metadata": {
        "colab": {
          "base_uri": "https://localhost:8080/"
        },
        "id": "SGJPxLDw77M4",
        "outputId": "a9ae68ef-dd63-4d4f-e192-df0459988b28"
      },
      "execution_count": null,
      "outputs": [
        {
          "output_type": "execute_result",
          "data": {
            "text/plain": [
              "((446, 1), TensorShape([446]), TensorShape([446]))"
            ]
          },
          "metadata": {},
          "execution_count": 61
        }
      ]
    },
    {
      "cell_type": "code",
      "source": [
        "evaluate_preds(y_true=tf.squeeze(test_labels), y_pred=model_1_prediction)"
      ],
      "metadata": {
        "colab": {
          "base_uri": "https://localhost:8080/"
        },
        "id": "VUrDorHm7RPv",
        "outputId": "34d6808f-ea58-4ae1-9c7e-c18b575e453c"
      },
      "execution_count": null,
      "outputs": [
        {
          "output_type": "execute_result",
          "data": {
            "text/plain": [
              "{'mae': 562.756,\n",
              " 'mape': 2.7844803,\n",
              " 'mase': 0.9986764,\n",
              " 'mse': 1333578.2,\n",
              " 'rmse': 1154.8066}"
            ]
          },
          "metadata": {},
          "execution_count": 62
        }
      ]
    },
    {
      "cell_type": "code",
      "source": [
        "naive_results"
      ],
      "metadata": {
        "id": "KOubaOdbSOrc",
        "colab": {
          "base_uri": "https://localhost:8080/"
        },
        "outputId": "39d7c37c-800c-4c4a-8232-c4094761c4d9"
      },
      "execution_count": null,
      "outputs": [
        {
          "output_type": "execute_result",
          "data": {
            "text/plain": [
              "{'mae': 571.1008,\n",
              " 'mape': 2.703912,\n",
              " 'mase': 0.99867785,\n",
              " 'mse': 1341613.9,\n",
              " 'rmse': 1158.2805}"
            ]
          },
          "metadata": {},
          "execution_count": 64
        }
      ]
    },
    {
      "cell_type": "code",
      "source": [
        "a = [1,2,3,4]\n",
        "a[-2:]"
      ],
      "metadata": {
        "colab": {
          "base_uri": "https://localhost:8080/"
        },
        "id": "zH-uHJ0H9hg4",
        "outputId": "753e631e-59f2-4f4a-8ae8-12156fe006ef"
      },
      "execution_count": null,
      "outputs": [
        {
          "output_type": "execute_result",
          "data": {
            "text/plain": [
              "[3, 4]"
            ]
          },
          "metadata": {},
          "execution_count": 68
        }
      ]
    },
    {
      "cell_type": "code",
      "source": [
        "len(X_test), len(test_windows)"
      ],
      "metadata": {
        "colab": {
          "base_uri": "https://localhost:8080/"
        },
        "id": "d-vquEKa9U1d",
        "outputId": "3a6232b2-6c4e-4378-cd6f-6bfb41a59534"
      },
      "execution_count": null,
      "outputs": [
        {
          "output_type": "execute_result",
          "data": {
            "text/plain": [
              "(448, 446)"
            ]
          },
          "metadata": {},
          "execution_count": 71
        }
      ]
    },
    {
      "cell_type": "code",
      "source": [
        "# Plotting model-1 predictions\n",
        "plt.figure(figsize=(10,7))\n",
        "offset=400\n",
        "plot_time_series(timesteps=X_test[-len(test_windows):], values=test_labels[:, 0], start=offset, label='Test Data', format=\"-\")\n",
        "plot_time_series(timesteps=X_test[-len(test_windows):], values=model_1_prediction, start=offset, label=\"Model-1 prediction\", format='-')"
      ],
      "metadata": {
        "colab": {
          "base_uri": "https://localhost:8080/",
          "height": 442
        },
        "id": "N_1zpMlU8izq",
        "outputId": "6a1fa752-af89-4f5c-9d52-b20a1c284ac0"
      },
      "execution_count": null,
      "outputs": [
        {
          "output_type": "display_data",
          "data": {
            "text/plain": [
              "<Figure size 720x504 with 1 Axes>"
            ],
            "image/png": "[encoded data removed]"
          },
          "metadata": {
            "needs_background": "light"
          }
        }
      ]
    },
    {
      "cell_type": "code",
      "source": [
        "# [:,0] means get every rows and get the zeroth dimenstion"
      ],
      "metadata": {
        "id": "VGziiCtA9H63"
      },
      "execution_count": null,
      "outputs": []
    },
    {
      "cell_type": "code",
      "source": [
        "# Autoregressive data is the reason for our prediction coming after the actual value"
      ],
      "metadata": {
        "id": "2qXzVh7AARY0"
      },
      "execution_count": null,
      "outputs": []
    },
    {
      "cell_type": "markdown",
      "source": [
        "### We can make a large horizon predictions (like a week prediction) and later use either mean metric or any other to make a one prediciton"
      ],
      "metadata": {
        "id": "LP4Z-aPao9io"
      }
    },
    {
      "cell_type": "code",
      "source": [
        "# Instead of prediction the exact prediction point, we can predict the prediction direction or prediction intervals like 99% prediction interval"
      ],
      "metadata": {
        "id": "eSRB5Il7pJgY"
      },
      "execution_count": null,
      "outputs": []
    },
    {
      "cell_type": "code",
      "source": [
        "## Model-2: Dense (Windows:30, Horizon:1)\n",
        "HORIZON=1\n",
        "WINDOW_SIZE=30"
      ],
      "metadata": {
        "id": "--RhZqV7pIkC"
      },
      "execution_count": null,
      "outputs": []
    },
    {
      "cell_type": "code",
      "source": [
        "# Make windowed data with appropriate horizon and window sizes\n",
        "full_windows, full_labels = make_windows(prices, window_size=WINDOW_SIZE, horizon=HORIZON)\n",
        "len(full_windows), len(full_labels)"
      ],
      "metadata": {
        "colab": {
          "base_uri": "https://localhost:8080/"
        },
        "id": "Kq5RB2ypCdhg",
        "outputId": "e0e9d155-8af5-4132-b9f1-7d902c9b1d2f"
      },
      "execution_count": null,
      "outputs": [
        {
          "output_type": "execute_result",
          "data": {
            "text/plain": [
              "(2206, 2206)"
            ]
          },
          "metadata": {},
          "execution_count": 81
        }
      ]
    },
    {
      "cell_type": "code",
      "source": [
        "# Make train and testing windows\n",
        "train_windows, test_windows, train_labels, test_labels = make_train_test_splits(windows=full_windows, labels=full_labels)\n",
        "len(train_windows), len(test_windows), len(train_labels), len(test_labels)"
      ],
      "metadata": {
        "colab": {
          "base_uri": "https://localhost:8080/"
        },
        "id": "sTswLjesC07N",
        "outputId": "6a5e5811-32ff-4fd7-be99-83380b814480"
      },
      "execution_count": null,
      "outputs": [
        {
          "output_type": "execute_result",
          "data": {
            "text/plain": [
              "(1764, 442, 1764, 442)"
            ]
          },
          "metadata": {},
          "execution_count": 82
        }
      ]
    },
    {
      "cell_type": "code",
      "source": [
        "train_windows[:3]"
      ],
      "metadata": {
        "colab": {
          "base_uri": "https://localhost:8080/"
        },
        "id": "bsUKj1KwDO7j",
        "outputId": "7162ba58-3a8b-41fa-8454-1300be05401f"
      },
      "execution_count": null,
      "outputs": [
        {
          "output_type": "execute_result",
          "data": {
            "text/plain": [
              "array([[754.9 , 784.19, 809.4 , 828.79, 905.  , 919.24, 785.  , 824.76,\n",
              "        852.61, 896.59, 844.05, 823.  , 841.14, 814.4 , 797.2 , 842.07,\n",
              "        826.02, 812.  , 780.  , 806.8 , 751.95, 788.  , 794.21, 799.99,\n",
              "        803.  , 814.99, 782.33, 763.99, 705.01, 680.49],\n",
              "       [784.19, 809.4 , 828.79, 905.  , 919.24, 785.  , 824.76, 852.61,\n",
              "        896.59, 844.05, 823.  , 841.14, 814.4 , 797.2 , 842.07, 826.02,\n",
              "        812.  , 780.  , 806.8 , 751.95, 788.  , 794.21, 799.99, 803.  ,\n",
              "        814.99, 782.33, 763.99, 705.01, 680.49, 687.81],\n",
              "       [809.4 , 828.79, 905.  , 919.24, 785.  , 824.76, 852.61, 896.59,\n",
              "        844.05, 823.  , 841.14, 814.4 , 797.2 , 842.07, 826.02, 812.  ,\n",
              "        780.  , 806.8 , 751.95, 788.  , 794.21, 799.99, 803.  , 814.99,\n",
              "        782.33, 763.99, 705.01, 680.49, 687.81, 675.1 ]])"
            ]
          },
          "metadata": {},
          "execution_count": 84
        }
      ]
    },
    {
      "cell_type": "code",
      "source": [
        "len(prices)"
      ],
      "metadata": {
        "colab": {
          "base_uri": "https://localhost:8080/"
        },
        "id": "mUDcMaqfDZCT",
        "outputId": "ca797a7a-8f40-4dae-c58c-bb8c4a19435f"
      },
      "execution_count": null,
      "outputs": [
        {
          "output_type": "execute_result",
          "data": {
            "text/plain": [
              "2236"
            ]
          },
          "metadata": {},
          "execution_count": 85
        }
      ]
    },
    {
      "cell_type": "code",
      "source": [
        "tf.random.set_seed(42)\n",
        "model_2 = tf.keras.Sequential([\n",
        "    layers.Dense(128, activation=\"relu\"),\n",
        "    layers.Dense(HORIZON, activation=\"relu\")\n",
        "], name=\"model_2_dense\")\n",
        "\n",
        "model_2.compile(loss='mae',\n",
        "                optimizer=tf.keras.optimizers.Adam())\n",
        "\n",
        "model_2.fit(train_windows,\n",
        "            train_labels,\n",
        "            epochs=100,\n",
        "            batch_size=128,\n",
        "            verbose=1,\n",
        "            validation_data=(test_windows, test_labels),\n",
        "            callbacks=[create_model_checkpoint(model_name=model_2.name)])"
      ],
      "metadata": {
        "colab": {
          "base_uri": "https://localhost:8080/"
        },
        "id": "RGmgNGQADmjt",
        "outputId": "c9742a36-d04f-4b87-82c0-977ae5104b59"
      },
      "execution_count": null,
      "outputs": [
        {
          "output_type": "stream",
          "name": "stdout",
          "text": [
            "Epoch 1/100\n",
            " 1/14 [=>............................] - ETA: 7s - loss: 4251.6206INFO:tensorflow:Assets written to: models/model_2_dense/assets\n",
            "14/14 [==============================] - 1s 39ms/step - loss: 1372.0903 - val_loss: 5364.0171\n",
            "Epoch 2/100\n",
            " 1/14 [=>............................] - ETA: 0s - loss: 897.1147INFO:tensorflow:Assets written to: models/model_2_dense/assets\n",
            "14/14 [==============================] - 0s 33ms/step - loss: 606.1740 - val_loss: 3543.7434\n",
            "Epoch 3/100\n",
            " 1/14 [=>............................] - ETA: 0s - loss: 654.4562INFO:tensorflow:Assets written to: models/model_2_dense/assets\n",
            "14/14 [==============================] - 0s 33ms/step - loss: 471.9269 - val_loss: 1491.7014\n",
            "Epoch 4/100\n",
            " 1/14 [=>............................] - ETA: 0s - loss: 265.9436INFO:tensorflow:Assets written to: models/model_2_dense/assets\n",
            "14/14 [==============================] - 0s 33ms/step - loss: 308.7610 - val_loss: 1227.4225\n",
            "Epoch 5/100\n",
            " 1/14 [=>............................] - ETA: 0s - loss: 343.3015INFO:tensorflow:Assets written to: models/model_2_dense/assets\n",
            "14/14 [==============================] - 0s 33ms/step - loss: 250.7201 - val_loss: 1088.0968\n",
            "Epoch 6/100\n",
            " 1/14 [=>............................] - ETA: 0s - loss: 219.9022INFO:tensorflow:Assets written to: models/model_2_dense/assets\n",
            "14/14 [==============================] - 0s 34ms/step - loss: 236.1304 - val_loss: 1040.8967\n",
            "Epoch 7/100\n",
            " 1/14 [=>............................] - ETA: 0s - loss: 199.2717INFO:tensorflow:Assets written to: models/model_2_dense/assets\n",
            "14/14 [==============================] - 0s 33ms/step - loss: 233.5110 - val_loss: 945.2474\n",
            "Epoch 8/100\n",
            "14/14 [==============================] - 0s 4ms/step - loss: 233.6783 - val_loss: 1309.9822\n",
            "Epoch 9/100\n",
            "14/14 [==============================] - 0s 5ms/step - loss: 242.8118 - val_loss: 1110.1617\n",
            "Epoch 10/100\n",
            " 1/14 [=>............................] - ETA: 0s - loss: 211.1703INFO:tensorflow:Assets written to: models/model_2_dense/assets\n",
            "14/14 [==============================] - 0s 33ms/step - loss: 240.9809 - val_loss: 870.1860\n",
            "Epoch 11/100\n",
            "14/14 [==============================] - 0s 5ms/step - loss: 213.7122 - val_loss: 961.7905\n",
            "Epoch 12/100\n",
            " 1/14 [=>............................] - ETA: 0s - loss: 214.3166INFO:tensorflow:Assets written to: models/model_2_dense/assets\n",
            "14/14 [==============================] - 0s 32ms/step - loss: 204.9135 - val_loss: 851.7803\n",
            "Epoch 13/100\n",
            " 1/14 [=>............................] - ETA: 0s - loss: 237.3750INFO:tensorflow:Assets written to: models/model_2_dense/assets\n",
            "14/14 [==============================] - 0s 33ms/step - loss: 196.6776 - val_loss: 823.0182\n",
            "Epoch 14/100\n",
            "14/14 [==============================] - 0s 5ms/step - loss: 199.9675 - val_loss: 902.8254\n",
            "Epoch 15/100\n",
            " 1/14 [=>............................] - ETA: 0s - loss: 211.9371INFO:tensorflow:Assets written to: models/model_2_dense/assets\n",
            "14/14 [==============================] - 0s 33ms/step - loss: 192.8930 - val_loss: 797.8776\n",
            "Epoch 16/100\n",
            "14/14 [==============================] - 0s 4ms/step - loss: 196.1900 - val_loss: 911.6381\n",
            "Epoch 17/100\n",
            " 1/14 [=>............................] - ETA: 0s - loss: 317.5352INFO:tensorflow:Assets written to: models/model_2_dense/assets\n",
            "14/14 [==============================] - 0s 32ms/step - loss: 197.3354 - val_loss: 785.8994\n",
            "Epoch 18/100\n",
            "14/14 [==============================] - 0s 5ms/step - loss: 197.9493 - val_loss: 791.2772\n",
            "Epoch 19/100\n",
            "14/14 [==============================] - 0s 3ms/step - loss: 220.6231 - val_loss: 824.2144\n",
            "Epoch 20/100\n",
            " 1/14 [=>............................] - ETA: 0s - loss: 186.6746INFO:tensorflow:Assets written to: models/model_2_dense/assets\n",
            "14/14 [==============================] - 0s 33ms/step - loss: 184.4049 - val_loss: 772.9283\n",
            "Epoch 21/100\n",
            " 1/14 [=>............................] - ETA: 0s - loss: 195.1152INFO:tensorflow:Assets written to: models/model_2_dense/assets\n",
            "14/14 [==============================] - 0s 35ms/step - loss: 183.5579 - val_loss: 768.1918\n",
            "Epoch 22/100\n",
            " 1/14 [=>............................] - ETA: 0s - loss: 178.3882INFO:tensorflow:Assets written to: models/model_2_dense/assets\n",
            "14/14 [==============================] - 0s 34ms/step - loss: 179.8903 - val_loss: 753.0677\n",
            "Epoch 23/100\n",
            "14/14 [==============================] - 0s 5ms/step - loss: 173.3148 - val_loss: 753.4022\n",
            "Epoch 24/100\n",
            "14/14 [==============================] - 0s 5ms/step - loss: 174.3352 - val_loss: 755.5197\n",
            "Epoch 25/100\n",
            "14/14 [==============================] - 0s 5ms/step - loss: 171.9461 - val_loss: 762.7128\n",
            "Epoch 26/100\n",
            "14/14 [==============================] - 0s 3ms/step - loss: 176.2247 - val_loss: 997.6962\n",
            "Epoch 27/100\n",
            "14/14 [==============================] - 0s 3ms/step - loss: 181.6798 - val_loss: 918.7208\n",
            "Epoch 28/100\n",
            "14/14 [==============================] - 0s 4ms/step - loss: 194.9119 - val_loss: 821.5865\n",
            "Epoch 29/100\n",
            "14/14 [==============================] - 0s 3ms/step - loss: 177.3538 - val_loss: 766.0506\n",
            "Epoch 30/100\n",
            " 1/14 [=>............................] - ETA: 0s - loss: 160.6568INFO:tensorflow:Assets written to: models/model_2_dense/assets\n",
            "14/14 [==============================] - 0s 34ms/step - loss: 168.8174 - val_loss: 720.5880\n",
            "Epoch 31/100\n",
            "14/14 [==============================] - 0s 4ms/step - loss: 184.6725 - val_loss: 787.5331\n",
            "Epoch 32/100\n",
            " 1/14 [=>............................] - ETA: 0s - loss: 157.3870INFO:tensorflow:Assets written to: models/model_2_dense/assets\n",
            "14/14 [==============================] - 0s 35ms/step - loss: 167.2218 - val_loss: 710.6004\n",
            "Epoch 33/100\n",
            " 1/14 [=>............................] - ETA: 0s - loss: 160.1162INFO:tensorflow:Assets written to: models/model_2_dense/assets\n",
            "14/14 [==============================] - 1s 50ms/step - loss: 162.9309 - val_loss: 708.5675\n",
            "Epoch 34/100\n",
            " 1/14 [=>............................] - ETA: 0s - loss: 101.8976INFO:tensorflow:Assets written to: models/model_2_dense/assets\n",
            "14/14 [==============================] - 0s 35ms/step - loss: 163.0661 - val_loss: 708.2588\n",
            "Epoch 35/100\n",
            "14/14 [==============================] - 0s 4ms/step - loss: 174.5353 - val_loss: 763.1346\n",
            "Epoch 36/100\n",
            " 1/14 [=>............................] - ETA: 0s - loss: 188.7340INFO:tensorflow:Assets written to: models/model_2_dense/assets\n",
            "14/14 [==============================] - 0s 34ms/step - loss: 185.9688 - val_loss: 695.9522\n",
            "Epoch 37/100\n",
            " 1/14 [=>............................] - ETA: 0s - loss: 166.8936INFO:tensorflow:Assets written to: models/model_2_dense/assets\n",
            "14/14 [==============================] - 0s 35ms/step - loss: 161.4243 - val_loss: 695.8640\n",
            "Epoch 38/100\n",
            "14/14 [==============================] - 0s 5ms/step - loss: 161.9635 - val_loss: 711.6287\n",
            "Epoch 39/100\n",
            "14/14 [==============================] - 0s 5ms/step - loss: 168.5592 - val_loss: 765.6974\n",
            "Epoch 40/100\n",
            " 1/14 [=>............................] - ETA: 0s - loss: 133.5723INFO:tensorflow:Assets written to: models/model_2_dense/assets\n",
            "14/14 [==============================] - 0s 35ms/step - loss: 170.6689 - val_loss: 685.0684\n",
            "Epoch 41/100\n",
            " 1/14 [=>............................] - ETA: 0s - loss: 174.8528INFO:tensorflow:Assets written to: models/model_2_dense/assets\n",
            "14/14 [==============================] - 0s 33ms/step - loss: 172.0911 - val_loss: 681.7686\n",
            "Epoch 42/100\n",
            "14/14 [==============================] - 0s 5ms/step - loss: 160.0939 - val_loss: 792.1470\n",
            "Epoch 43/100\n",
            "14/14 [==============================] - 0s 5ms/step - loss: 177.7025 - val_loss: 691.1424\n",
            "Epoch 44/100\n",
            "14/14 [==============================] - 0s 4ms/step - loss: 157.0865 - val_loss: 691.6257\n",
            "Epoch 45/100\n",
            "14/14 [==============================] - 0s 3ms/step - loss: 160.5732 - val_loss: 789.8910\n",
            "Epoch 46/100\n",
            "14/14 [==============================] - 0s 3ms/step - loss: 176.4038 - val_loss: 689.9637\n",
            "Epoch 47/100\n",
            "14/14 [==============================] - 0s 4ms/step - loss: 157.7004 - val_loss: 690.6959\n",
            "Epoch 48/100\n",
            " 1/14 [=>............................] - ETA: 0s - loss: 163.5261INFO:tensorflow:Assets written to: models/model_2_dense/assets\n",
            "14/14 [==============================] - 0s 32ms/step - loss: 155.8820 - val_loss: 666.9771\n",
            "Epoch 49/100\n",
            "14/14 [==============================] - 0s 5ms/step - loss: 158.0916 - val_loss: 698.1385\n",
            "Epoch 50/100\n",
            "14/14 [==============================] - 0s 3ms/step - loss: 156.6828 - val_loss: 810.7172\n",
            "Epoch 51/100\n",
            "14/14 [==============================] - 0s 4ms/step - loss: 169.0790 - val_loss: 888.0941\n",
            "Epoch 52/100\n",
            "14/14 [==============================] - 0s 3ms/step - loss: 173.7146 - val_loss: 724.6088\n",
            "Epoch 53/100\n",
            "14/14 [==============================] - 0s 3ms/step - loss: 150.7832 - val_loss: 692.0563\n",
            "Epoch 54/100\n",
            " 1/14 [=>............................] - ETA: 0s - loss: 135.9508INFO:tensorflow:Assets written to: models/model_2_dense/assets\n",
            "14/14 [==============================] - 0s 33ms/step - loss: 150.9228 - val_loss: 652.2463\n",
            "Epoch 55/100\n",
            "14/14 [==============================] - 0s 3ms/step - loss: 157.5642 - val_loss: 901.7598\n",
            "Epoch 56/100\n",
            "14/14 [==============================] - 0s 4ms/step - loss: 164.8472 - val_loss: 712.2234\n",
            "Epoch 57/100\n",
            " 1/14 [=>............................] - ETA: 0s - loss: 157.8842INFO:tensorflow:Assets written to: models/model_2_dense/assets\n",
            "14/14 [==============================] - 0s 34ms/step - loss: 155.9111 - val_loss: 642.9407\n",
            "Epoch 58/100\n",
            "14/14 [==============================] - 0s 3ms/step - loss: 150.2925 - val_loss: 704.1073\n",
            "Epoch 59/100\n",
            "14/14 [==============================] - 0s 5ms/step - loss: 151.8515 - val_loss: 660.5697\n",
            "Epoch 60/100\n",
            "14/14 [==============================] - 0s 3ms/step - loss: 158.0827 - val_loss: 643.2057\n",
            "Epoch 61/100\n",
            "14/14 [==============================] - 0s 5ms/step - loss: 158.8681 - val_loss: 650.3742\n",
            "Epoch 62/100\n",
            "14/14 [==============================] - 0s 3ms/step - loss: 150.9597 - val_loss: 643.1238\n",
            "Epoch 63/100\n",
            "14/14 [==============================] - 0s 5ms/step - loss: 146.8195 - val_loss: 722.6813\n",
            "Epoch 64/100\n",
            " 1/14 [=>............................] - ETA: 0s - loss: 152.1260INFO:tensorflow:Assets written to: models/model_2_dense/assets\n",
            "14/14 [==============================] - 0s 32ms/step - loss: 150.8341 - val_loss: 632.1791\n",
            "Epoch 65/100\n",
            "14/14 [==============================] - 0s 3ms/step - loss: 156.2224 - val_loss: 774.1843\n",
            "Epoch 66/100\n",
            "14/14 [==============================] - 0s 5ms/step - loss: 183.3124 - val_loss: 831.7945\n",
            "Epoch 67/100\n",
            "14/14 [==============================] - 0s 3ms/step - loss: 163.2928 - val_loss: 655.6417\n",
            "Epoch 68/100\n",
            " 1/14 [=>............................] - ETA: 0s - loss: 172.2230INFO:tensorflow:Assets written to: models/model_2_dense/assets\n",
            "14/14 [==============================] - 0s 31ms/step - loss: 162.5746 - val_loss: 623.9135\n",
            "Epoch 69/100\n",
            "14/14 [==============================] - 0s 4ms/step - loss: 165.4518 - val_loss: 810.1731\n",
            "Epoch 70/100\n",
            "14/14 [==============================] - 0s 4ms/step - loss: 167.7018 - val_loss: 699.0763\n",
            "Epoch 71/100\n",
            "14/14 [==============================] - 0s 4ms/step - loss: 159.5664 - val_loss: 898.2063\n",
            "Epoch 72/100\n",
            "14/14 [==============================] - 0s 4ms/step - loss: 199.6621 - val_loss: 661.3250\n",
            "Epoch 73/100\n",
            " 1/14 [=>............................] - ETA: 0s - loss: 136.7551INFO:tensorflow:Assets written to: models/model_2_dense/assets\n",
            "14/14 [==============================] - 0s 33ms/step - loss: 147.0326 - val_loss: 621.7612\n",
            "Epoch 74/100\n",
            "14/14 [==============================] - 0s 3ms/step - loss: 162.3848 - val_loss: 673.9567\n",
            "Epoch 75/100\n",
            "14/14 [==============================] - 0s 4ms/step - loss: 157.9976 - val_loss: 934.0376\n",
            "Epoch 76/100\n",
            " 1/14 [=>............................] - ETA: 0s - loss: 193.0738INFO:tensorflow:Assets written to: models/model_2_dense/assets\n",
            "14/14 [==============================] - 0s 33ms/step - loss: 152.7456 - val_loss: 617.1762\n",
            "Epoch 77/100\n",
            "14/14 [==============================] - 0s 3ms/step - loss: 146.1986 - val_loss: 631.7964\n",
            "Epoch 78/100\n",
            "14/14 [==============================] - 0s 3ms/step - loss: 157.8208 - val_loss: 763.2148\n",
            "Epoch 79/100\n",
            "14/14 [==============================] - 0s 4ms/step - loss: 147.4520 - val_loss: 645.7941\n",
            "Epoch 80/100\n",
            "14/14 [==============================] - 0s 4ms/step - loss: 150.6690 - val_loss: 775.9959\n",
            "Epoch 81/100\n",
            " 1/14 [=>............................] - ETA: 0s - loss: 187.5768INFO:tensorflow:Assets written to: models/model_2_dense/assets\n",
            "14/14 [==============================] - 0s 32ms/step - loss: 165.5502 - val_loss: 613.6305\n",
            "Epoch 82/100\n",
            "14/14 [==============================] - 0s 4ms/step - loss: 141.2466 - val_loss: 616.7798\n",
            "Epoch 83/100\n",
            "14/14 [==============================] - 0s 5ms/step - loss: 140.5296 - val_loss: 621.4409\n",
            "Epoch 84/100\n",
            "14/14 [==============================] - 0s 4ms/step - loss: 148.8735 - val_loss: 786.9086\n",
            "Epoch 85/100\n",
            " 1/14 [=>............................] - ETA: 0s - loss: 145.4099INFO:tensorflow:Assets written to: models/model_2_dense/assets\n",
            "14/14 [==============================] - 0s 33ms/step - loss: 148.7137 - val_loss: 609.0030\n",
            "Epoch 86/100\n",
            " 1/14 [=>............................] - ETA: 0s - loss: 118.0986INFO:tensorflow:Assets written to: models/model_2_dense/assets\n",
            "14/14 [==============================] - 0s 32ms/step - loss: 150.3367 - val_loss: 607.1715\n",
            "Epoch 87/100\n",
            "14/14 [==============================] - 0s 5ms/step - loss: 159.0362 - val_loss: 612.4939\n",
            "Epoch 88/100\n",
            "14/14 [==============================] - 0s 3ms/step - loss: 154.5585 - val_loss: 861.9427\n",
            "Epoch 89/100\n",
            "14/14 [==============================] - 0s 3ms/step - loss: 154.7799 - val_loss: 1210.9080\n",
            "Epoch 90/100\n",
            "14/14 [==============================] - 0s 4ms/step - loss: 172.9835 - val_loss: 641.7023\n",
            "Epoch 91/100\n",
            " 1/14 [=>............................] - ETA: 0s - loss: 106.4172INFO:tensorflow:Assets written to: models/model_2_dense/assets\n",
            "14/14 [==============================] - 0s 32ms/step - loss: 140.0570 - val_loss: 603.2612\n",
            "Epoch 92/100\n",
            "14/14 [==============================] - 0s 3ms/step - loss: 142.9455 - val_loss: 608.2224\n",
            "Epoch 93/100\n",
            "14/14 [==============================] - 0s 4ms/step - loss: 141.1972 - val_loss: 717.2509\n",
            "Epoch 94/100\n",
            "14/14 [==============================] - 0s 3ms/step - loss: 152.0864 - val_loss: 613.9266\n",
            "Epoch 95/100\n",
            "14/14 [==============================] - 0s 3ms/step - loss: 145.9004 - val_loss: 613.9651\n",
            "Epoch 96/100\n",
            "14/14 [==============================] - 0s 3ms/step - loss: 143.8797 - val_loss: 626.8514\n",
            "Epoch 97/100\n",
            "14/14 [==============================] - 0s 3ms/step - loss: 142.8968 - val_loss: 745.4133\n",
            "Epoch 98/100\n",
            "14/14 [==============================] - 0s 3ms/step - loss: 167.1765 - val_loss: 705.6050\n",
            "Epoch 99/100\n",
            "14/14 [==============================] - 0s 5ms/step - loss: 145.8595 - val_loss: 603.9240\n",
            "Epoch 100/100\n",
            "14/14 [==============================] - 0s 3ms/step - loss: 147.6328 - val_loss: 604.2599\n"
          ]
        },
        {
          "output_type": "execute_result",
          "data": {
            "text/plain": [
              "<keras.callbacks.History at 0x7f2a1cd1b690>"
            ]
          },
          "metadata": {},
          "execution_count": 89
        }
      ]
    },
    {
      "cell_type": "code",
      "source": [
        "# Evaluate model 2 on test data\n",
        "model_2.evaluate(test_windows, test_labels)"
      ],
      "metadata": {
        "colab": {
          "base_uri": "https://localhost:8080/"
        },
        "id": "KAkBjNtwEcI3",
        "outputId": "2fe9f544-74a9-4d66-bf35-7ef8e6d130f8"
      },
      "execution_count": null,
      "outputs": [
        {
          "output_type": "stream",
          "name": "stdout",
          "text": [
            "14/14 [==============================] - 0s 2ms/step - loss: 604.2599\n"
          ]
        },
        {
          "output_type": "execute_result",
          "data": {
            "text/plain": [
              "604.2598876953125"
            ]
          },
          "metadata": {},
          "execution_count": 90
        }
      ]
    },
    {
      "cell_type": "code",
      "source": [
        "model_2 = tf.keras.models.load_model(\"models/model_2_dense\")\n",
        "model_2.evaluate(test_windows, test_labels)"
      ],
      "metadata": {
        "colab": {
          "base_uri": "https://localhost:8080/"
        },
        "id": "fEfFv8K3FAxd",
        "outputId": "a062fd14-e947-4beb-8baa-ab675eba2e24"
      },
      "execution_count": null,
      "outputs": [
        {
          "output_type": "stream",
          "name": "stdout",
          "text": [
            "14/14 [==============================] - 1s 34ms/step - loss: 603.2613\n"
          ]
        },
        {
          "output_type": "execute_result",
          "data": {
            "text/plain": [
              "603.2612915039062"
            ]
          },
          "metadata": {},
          "execution_count": 91
        }
      ]
    },
    {
      "cell_type": "code",
      "source": [
        "# Get the forecast predictions\n",
        "model_2_prediction = make_prediction(model=model_2, input_data=test_windows)"
      ],
      "metadata": {
        "id": "4tHJJ8dDFP_k"
      },
      "execution_count": null,
      "outputs": []
    },
    {
      "cell_type": "code",
      "source": [
        "# Evaluate the results for model-2 predictions\n",
        "model_2_results = evaluate_preds(y_true=tf.squeeze(test_labels), y_pred=model_2_prediction)\n",
        "model_2_results"
      ],
      "metadata": {
        "colab": {
          "base_uri": "https://localhost:8080/"
        },
        "id": "s1jCiQJRFpwv",
        "outputId": "6843a493-90bd-48e3-937c-189c516f0bea"
      },
      "execution_count": null,
      "outputs": [
        {
          "output_type": "execute_result",
          "data": {
            "text/plain": [
              "{'mae': 603.2613,\n",
              " 'mape': 2.9234288,\n",
              " 'mase': 0.99878794,\n",
              " 'mse': 1466505.4,\n",
              " 'rmse': 1210.9935}"
            ]
          },
          "metadata": {},
          "execution_count": 95
        }
      ]
    },
    {
      "cell_type": "code",
      "source": [
        "model_1_results"
      ],
      "metadata": {
        "colab": {
          "base_uri": "https://localhost:8080/"
        },
        "id": "wT2YG751F8Cl",
        "outputId": "ac04c600-320c-437d-d560-2b911af9016c"
      },
      "execution_count": null,
      "outputs": [
        {
          "output_type": "execute_result",
          "data": {
            "text/plain": [
              "{'mae': 562.756,\n",
              " 'mape': 2.7844803,\n",
              " 'mase': 0.9986764,\n",
              " 'mse': 1333578.2,\n",
              " 'rmse': 1154.8066}"
            ]
          },
          "metadata": {},
          "execution_count": 96
        }
      ]
    },
    {
      "cell_type": "code",
      "source": [
        "# Task is to make a for-loop and create a 30 different models with 1-30 window size and check which one performs best with the horizon of 1."
      ],
      "metadata": {
        "id": "93X4PH8gGIOl"
      },
      "execution_count": null,
      "outputs": []
    },
    {
      "cell_type": "code",
      "source": [
        "offset=400\n",
        "plt.figure(figsize=(10,7))\n",
        "plot_time_series(timesteps=X_test[-len(test_windows):], values=test_labels[:,0], format=\"-\", start=offset, label=\"Test Data\")\n",
        "plot_time_series(timesteps=X_test[-len(test_windows):], values=model_2_prediction, format=\"-\", start=offset, label=\"Model-2 prediction\")"
      ],
      "metadata": {
        "colab": {
          "base_uri": "https://localhost:8080/",
          "height": 442
        },
        "id": "TGgJjk-MGUm7",
        "outputId": "b3353ba8-f189-4033-8d05-19440ab7c91d"
      },
      "execution_count": null,
      "outputs": [
        {
          "output_type": "display_data",
          "data": {
            "text/plain": [
              "<Figure size 720x504 with 1 Axes>"
            ],
            "image/png": "[encoded data removed]"
          },
          "metadata": {
            "needs_background": "light"
          }
        }
      ]
    },
    {
      "cell_type": "markdown",
      "source": [
        "## Model predictions are lagging the test data trend"
      ],
      "metadata": {
        "id": "11yRj9CDHN6f"
      }
    }
  ]
}