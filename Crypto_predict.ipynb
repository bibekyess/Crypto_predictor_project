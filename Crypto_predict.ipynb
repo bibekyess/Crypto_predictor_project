{
  "nbformat": 4,
  "nbformat_minor": 0,
  "metadata": {
    "colab": {
      "name": "Crypto_predict.ipynb",
      "provenance": [],
      "collapsed_sections": [
        "LP4Z-aPao9io"
      ]
    },
    "kernelspec": {
      "name": "python3",
      "display_name": "Python 3"
    },
    "language_info": {
      "name": "python"
    },
    "accelerator": "GPU"
  },
  "cells": [
    {
      "cell_type": "code",
      "source": [
        "# Check for GPU\n",
        "!nvidia-smi -L"
      ],
      "metadata": {
        "colab": {
          "base_uri": "https://localhost:8080/"
        },
        "id": "F0fo71TH1id5",
        "outputId": "1dde9bd2-474c-488b-d88a-b5880f344362"
      },
      "execution_count": null,
      "outputs": [
        {
          "output_type": "stream",
          "name": "stdout",
          "text": [
            "GPU 0: Tesla K80 (UUID: GPU-c523c879-1dc3-7a73-a31f-2d8889c8d17f)\n"
          ]
        }
      ]
    },
    {
      "cell_type": "code",
      "source": [
        "# Get the data\n",
        "!wget https://raw.githubusercontent.com/mlee687/CS470_AI-auto-trading/main/daily_single.csv"
      ],
      "metadata": {
        "colab": {
          "base_uri": "https://localhost:8080/"
        },
        "id": "UHoogqCIEGJ8",
        "outputId": "7b1f70a0-4403-4fbb-b81d-1e0dd60c984f"
      },
      "execution_count": null,
      "outputs": [
        {
          "output_type": "stream",
          "name": "stdout",
          "text": [
            "--2022-05-04 13:37:30--  https://raw.githubusercontent.com/mlee687/CS470_AI-auto-trading/main/daily_single.csv\n",
            "Resolving raw.githubusercontent.com (raw.githubusercontent.com)... 185.199.108.133, 185.199.109.133, 185.199.110.133, ...\n",
            "Connecting to raw.githubusercontent.com (raw.githubusercontent.com)|185.199.108.133|:443... connected.\n",
            "HTTP request sent, awaiting response... 200 OK\n",
            "Length: 50004 (49K) [text/plain]\n",
            "Saving to: ‘daily_single.csv.1’\n",
            "\n",
            "daily_single.csv.1  100%[===================>]  48.83K  --.-KB/s    in 0.01s   \n",
            "\n",
            "2022-05-04 13:37:30 (4.84 MB/s) - ‘daily_single.csv.1’ saved [50004/50004]\n",
            "\n"
          ]
        }
      ]
    },
    {
      "cell_type": "code",
      "source": [
        "# Import with pandas \n",
        "import pandas as pd\n",
        "# Parse dates and set date column to index\n",
        "df = pd.read_csv(\"/content/daily_single.csv\", parse_dates=[\"Timestamp\"])\n",
        "df.rename(columns = {\"Daily_Close\": \"Price\"}, inplace = True)\n",
        "df['Timestamp'] = df['Timestamp'].dt.date\n",
        "btc_df = df.set_index('Timestamp')\n",
        "btc_df.head(), btc_df.tail()"
      ],
      "metadata": {
        "colab": {
          "base_uri": "https://localhost:8080/"
        },
        "id": "trHKQSe_EqhB",
        "outputId": "55184380-3688-45e3-e7e5-ef7606d9ab56"
      },
      "execution_count": null,
      "outputs": [
        {
          "output_type": "execute_result",
          "data": {
            "text/plain": [
              "(             Price\n",
              " Timestamp         \n",
              " 2014-01-01  754.90\n",
              " 2014-01-02  784.19\n",
              " 2014-01-03  809.40\n",
              " 2014-01-04  828.79\n",
              " 2014-01-05  905.00,                Price\n",
              " Timestamp           \n",
              " 2021-03-26  52734.30\n",
              " 2021-03-27  54508.16\n",
              " 2021-03-28  55871.93\n",
              " 2021-03-29  57788.15\n",
              " 2021-03-30  59069.29)"
            ]
          },
          "metadata": {},
          "execution_count": 152
        }
      ]
    },
    {
      "cell_type": "code",
      "source": [
        "len(btc_df)"
      ],
      "metadata": {
        "colab": {
          "base_uri": "https://localhost:8080/"
        },
        "id": "-UCJ6fMoTDPB",
        "outputId": "45db3204-b290-437c-f6e9-524cc784a985"
      },
      "execution_count": null,
      "outputs": [
        {
          "output_type": "execute_result",
          "data": {
            "text/plain": [
              "2236"
            ]
          },
          "metadata": {},
          "execution_count": 153
        }
      ]
    },
    {
      "cell_type": "code",
      "source": [
        "btc_df.info()"
      ],
      "metadata": {
        "colab": {
          "base_uri": "https://localhost:8080/"
        },
        "id": "Y3CAY3F02Sd2",
        "outputId": "5f89706a-4820-4d79-a9f5-d3124a1cdb9b"
      },
      "execution_count": null,
      "outputs": [
        {
          "output_type": "stream",
          "name": "stdout",
          "text": [
            "<class 'pandas.core.frame.DataFrame'>\n",
            "Index: 2236 entries, 2014-01-01 to 2021-03-30\n",
            "Data columns (total 1 columns):\n",
            " #   Column  Non-Null Count  Dtype  \n",
            "---  ------  --------------  -----  \n",
            " 0   Price   2236 non-null   float64\n",
            "dtypes: float64(1)\n",
            "memory usage: 34.9+ KB\n"
          ]
        }
      ]
    },
    {
      "cell_type": "code",
      "source": [
        "btc_df.describe().transpose()"
      ],
      "metadata": {
        "colab": {
          "base_uri": "https://localhost:8080/",
          "height": 80
        },
        "id": "PS379VjKjEvY",
        "outputId": "c208ae1b-6326-4d6e-d00c-ab5299e1554d"
      },
      "execution_count": null,
      "outputs": [
        {
          "output_type": "execute_result",
          "data": {
            "text/plain": [
              "        count         mean          std    min       25%       50%       75%  \\\n",
              "Price  2236.0  6692.873421  9291.712386  191.0  588.5375  4563.135  9107.615   \n",
              "\n",
              "            max  \n",
              "Price  60095.59  "
            ],
            "text/html": [
              "\n",
              "  <div id=\"df-4a2a3883-712d-4960-ab8d-b245f7bd752c\">\n",
              "    <div class=\"colab-df-container\">\n",
              "      <div>\n",
              "<style scoped>\n",
              "    .dataframe tbody tr th:only-of-type {\n",
              "        vertical-align: middle;\n",
              "    }\n",
              "\n",
              "    .dataframe tbody tr th {\n",
              "        vertical-align: top;\n",
              "    }\n",
              "\n",
              "    .dataframe thead th {\n",
              "        text-align: right;\n",
              "    }\n",
              "</style>\n",
              "<table border=\"1\" class=\"dataframe\">\n",
              "  <thead>\n",
              "    <tr style=\"text-align: right;\">\n",
              "      <th></th>\n",
              "      <th>count</th>\n",
              "      <th>mean</th>\n",
              "      <th>std</th>\n",
              "      <th>min</th>\n",
              "      <th>25%</th>\n",
              "      <th>50%</th>\n",
              "      <th>75%</th>\n",
              "      <th>max</th>\n",
              "    </tr>\n",
              "  </thead>\n",
              "  <tbody>\n",
              "    <tr>\n",
              "      <th>Price</th>\n",
              "      <td>2236.0</td>\n",
              "      <td>6692.873421</td>\n",
              "      <td>9291.712386</td>\n",
              "      <td>191.0</td>\n",
              "      <td>588.5375</td>\n",
              "      <td>4563.135</td>\n",
              "      <td>9107.615</td>\n",
              "      <td>60095.59</td>\n",
              "    </tr>\n",
              "  </tbody>\n",
              "</table>\n",
              "</div>\n",
              "      <button class=\"colab-df-convert\" onclick=\"convertToInteractive('df-4a2a3883-712d-4960-ab8d-b245f7bd752c')\"\n",
              "              title=\"Convert this dataframe to an interactive table.\"\n",
              "              style=\"display:none;\">\n",
              "        \n",
              "  <svg xmlns=\"http://www.w3.org/2000/svg\" height=\"24px\"viewBox=\"0 0 24 24\"\n",
              "       width=\"24px\">\n",
              "    <path d=\"M0 0h24v24H0V0z\" fill=\"none\"/>\n",
              "    <path d=\"M18.56 5.44l.94 2.06.94-2.06 2.06-.94-2.06-.94-.94-2.06-.94 2.06-2.06.94zm-11 1L8.5 8.5l.94-2.06 2.06-.94-2.06-.94L8.5 2.5l-.94 2.06-2.06.94zm10 10l.94 2.06.94-2.06 2.06-.94-2.06-.94-.94-2.06-.94 2.06-2.06.94z\"/><path d=\"M17.41 7.96l-1.37-1.37c-.4-.4-.92-.59-1.43-.59-.52 0-1.04.2-1.43.59L10.3 9.45l-7.72 7.72c-.78.78-.78 2.05 0 2.83L4 21.41c.39.39.9.59 1.41.59.51 0 1.02-.2 1.41-.59l7.78-7.78 2.81-2.81c.8-.78.8-2.07 0-2.86zM5.41 20L4 18.59l7.72-7.72 1.47 1.35L5.41 20z\"/>\n",
              "  </svg>\n",
              "      </button>\n",
              "      \n",
              "  <style>\n",
              "    .colab-df-container {\n",
              "      display:flex;\n",
              "      flex-wrap:wrap;\n",
              "      gap: 12px;\n",
              "    }\n",
              "\n",
              "    .colab-df-convert {\n",
              "      background-color: #E8F0FE;\n",
              "      border: none;\n",
              "      border-radius: 50%;\n",
              "      cursor: pointer;\n",
              "      display: none;\n",
              "      fill: #1967D2;\n",
              "      height: 32px;\n",
              "      padding: 0 0 0 0;\n",
              "      width: 32px;\n",
              "    }\n",
              "\n",
              "    .colab-df-convert:hover {\n",
              "      background-color: #E2EBFA;\n",
              "      box-shadow: 0px 1px 2px rgba(60, 64, 67, 0.3), 0px 1px 3px 1px rgba(60, 64, 67, 0.15);\n",
              "      fill: #174EA6;\n",
              "    }\n",
              "\n",
              "    [theme=dark] .colab-df-convert {\n",
              "      background-color: #3B4455;\n",
              "      fill: #D2E3FC;\n",
              "    }\n",
              "\n",
              "    [theme=dark] .colab-df-convert:hover {\n",
              "      background-color: #434B5C;\n",
              "      box-shadow: 0px 1px 3px 1px rgba(0, 0, 0, 0.15);\n",
              "      filter: drop-shadow(0px 1px 2px rgba(0, 0, 0, 0.3));\n",
              "      fill: #FFFFFF;\n",
              "    }\n",
              "  </style>\n",
              "\n",
              "      <script>\n",
              "        const buttonEl =\n",
              "          document.querySelector('#df-4a2a3883-712d-4960-ab8d-b245f7bd752c button.colab-df-convert');\n",
              "        buttonEl.style.display =\n",
              "          google.colab.kernel.accessAllowed ? 'block' : 'none';\n",
              "\n",
              "        async function convertToInteractive(key) {\n",
              "          const element = document.querySelector('#df-4a2a3883-712d-4960-ab8d-b245f7bd752c');\n",
              "          const dataTable =\n",
              "            await google.colab.kernel.invokeFunction('convertToInteractive',\n",
              "                                                     [key], {});\n",
              "          if (!dataTable) return;\n",
              "\n",
              "          const docLinkHtml = 'Like what you see? Visit the ' +\n",
              "            '<a target=\"_blank\" href=https://colab.research.google.com/notebooks/data_table.ipynb>data table notebook</a>'\n",
              "            + ' to learn more about interactive tables.';\n",
              "          element.innerHTML = '';\n",
              "          dataTable['output_type'] = 'display_data';\n",
              "          await google.colab.output.renderOutput(dataTable, element);\n",
              "          const docLink = document.createElement('div');\n",
              "          docLink.innerHTML = docLinkHtml;\n",
              "          element.appendChild(docLink);\n",
              "        }\n",
              "      </script>\n",
              "    </div>\n",
              "  </div>\n",
              "  "
            ]
          },
          "metadata": {},
          "execution_count": 155
        }
      ]
    },
    {
      "cell_type": "code",
      "source": [
        "import matplotlib.pyplot as plt\n",
        "btc_df.plot(figsize = (12,8))\n",
        "plt.title(\"BTC Price from 2014 January to 2021 March\", fontsize=20);\n",
        "# ';' is put at last to remove unnecessary text from being displayed"
      ],
      "metadata": {
        "colab": {
          "base_uri": "https://localhost:8080/",
          "height": 518
        },
        "id": "5x0wg0uIWWxV",
        "outputId": "1796bf03-0da6-495d-8414-96d6cb2e26d5"
      },
      "execution_count": null,
      "outputs": [
        {
          "output_type": "display_data",
          "data": {
            "text/plain": [
              "<Figure size 864x576 with 1 Axes>"
            ],
            "image/png": "[encoded data removed]"
          },
          "metadata": {
            "needs_background": "light"
          }
        }
      ]
    },
    {
      "cell_type": "code",
      "source": [
        "btc_df.index.to_numpy()"
      ],
      "metadata": {
        "colab": {
          "base_uri": "https://localhost:8080/"
        },
        "id": "o7f_7MWgXpJf",
        "outputId": "c5a652d3-e015-4368-d5c1-f8bc82fcb909"
      },
      "execution_count": null,
      "outputs": [
        {
          "output_type": "execute_result",
          "data": {
            "text/plain": [
              "array([datetime.date(2014, 1, 1), datetime.date(2014, 1, 2),\n",
              "       datetime.date(2014, 1, 3), ..., datetime.date(2021, 3, 28),\n",
              "       datetime.date(2021, 3, 29), datetime.date(2021, 3, 30)],\n",
              "      dtype=object)"
            ]
          },
          "metadata": {},
          "execution_count": 157
        }
      ]
    },
    {
      "cell_type": "code",
      "source": [
        "# Makes arrays for each feature\n",
        "timesteps = btc_df.index.to_numpy()\n",
        "prices = btc_df[\"Price\"].to_numpy()\n",
        "boundary = int(0.8 * len(prices)) # 80% train, 20% test\n",
        "X_train, y_train = timesteps[:boundary], prices[:boundary]\n",
        "X_test, y_test = timesteps[boundary:], prices[boundary:]\n",
        "\n",
        "len(X_train), len(X_test), len(y_train), len(y_test)"
      ],
      "metadata": {
        "colab": {
          "base_uri": "https://localhost:8080/"
        },
        "id": "aAwKxgii2l9S",
        "outputId": "90b0a6a0-58fb-415a-9657-cfe1aae148f8"
      },
      "execution_count": null,
      "outputs": [
        {
          "output_type": "execute_result",
          "data": {
            "text/plain": [
              "(1788, 448, 1788, 448)"
            ]
          },
          "metadata": {},
          "execution_count": 158
        }
      ]
    },
    {
      "cell_type": "code",
      "source": [
        "def plot_time_series(timesteps, values, format='.', start=0, end=None, label=None, xlabel='Timestamp', ylabel='Price'): \n",
        "  # for format, we can go with '.' or '-' [scatter or line] and start means offset\n",
        "  plt.plot(timesteps[start:end], values[start:end], format, label=label)\n",
        "  plt.xlabel(xlabel)\n",
        "  plt.ylabel(ylabel)\n",
        "  if label:\n",
        "    plt.legend(fontsize=14)\n",
        "  plt.grid(True)"
      ],
      "metadata": {
        "id": "xYEr2vqS3xOQ"
      },
      "execution_count": null,
      "outputs": []
    },
    {
      "cell_type": "code",
      "source": [
        "plt.figure(figsize=(12,8)) # Creates a figure and adds the following plot to it\n",
        "plot_time_series(X_train, y_train, label= \"Train\")\n",
        "plot_time_series(X_test, y_test, label = \"Test\")\n",
        "# It would be interesting to put start and end as the year"
      ],
      "metadata": {
        "colab": {
          "base_uri": "https://localhost:8080/",
          "height": 497
        },
        "id": "DtgdhNKLbpww",
        "outputId": "68120ffd-4681-414f-b806-825e8fb0c82c"
      },
      "execution_count": null,
      "outputs": [
        {
          "output_type": "display_data",
          "data": {
            "text/plain": [
              "<Figure size 864x576 with 1 Axes>"
            ],
            "image/png": "[encoded data removed]"
          },
          "metadata": {
            "needs_background": "light"
          }
        }
      ]
    },
    {
      "cell_type": "code",
      "source": [
        "# a = [1,2,3,4]\n",
        "# a, a[:-1]"
      ],
      "metadata": {
        "id": "d3M2yq6WX16M"
      },
      "execution_count": null,
      "outputs": []
    },
    {
      "cell_type": "markdown",
      "source": [
        "Naive baseline model:\n",
        "$\\hat{y}_{t} = y_{t-1}$"
      ],
      "metadata": {
        "id": "ZGGjptBfqFLp"
      }
    },
    {
      "cell_type": "code",
      "source": [
        "naive_forecast = y_test[:-1] # Gets every value excluding the last value\n",
        "# naive_forecast[-10:] != y_test[-10:]"
      ],
      "metadata": {
        "id": "Re9Kvp0J26CM"
      },
      "execution_count": null,
      "outputs": []
    },
    {
      "cell_type": "code",
      "source": [
        "# Comparing naive_forecast with the test data\n",
        "plt.figure(figsize=(10, 8))\n",
        "offset = 400\n",
        "plot_time_series(timesteps=X_test, values=y_test, start = 400, format=\"-\", label=\"Test data\")\n",
        "plot_time_series(timesteps=X_test[1:], values=naive_forecast, start = 400, format=\"-\", label=\"Naive forecast\");"
      ],
      "metadata": {
        "colab": {
          "base_uri": "https://localhost:8080/",
          "height": 497
        },
        "id": "9AjDqfKl3dWs",
        "outputId": "93cfcaa5-ac4d-4a7b-f829-7288346b421d"
      },
      "execution_count": null,
      "outputs": [
        {
          "output_type": "display_data",
          "data": {
            "text/plain": [
              "<Figure size 720x576 with 1 Axes>"
            ],
            "image/png": "[encoded data removed]"
          },
          "metadata": {
            "needs_background": "light"
          }
        }
      ]
    },
    {
      "cell_type": "code",
      "source": [
        "# Let's get TensorFlow! \n",
        "import tensorflow as tf"
      ],
      "metadata": {
        "id": "nhDz7M8T3qsZ"
      },
      "execution_count": null,
      "outputs": []
    },
    {
      "cell_type": "code",
      "source": [
        "def mase_(y_true, y_pred):\n",
        "  # Assuming no seasonality and our crypto price data has no seasonality\n",
        "  mae = tf.reduce_mean(tf.abs(y_true, y_pred))\n",
        "  mae_naive = tf.reduce_mean(tf.abs(y_true[1:], naive_forecast)) # naive_forecast = y_true[:-1]\n",
        "  return mae/mae_naive"
      ],
      "metadata": {
        "id": "rKRBNoPxDip6"
      },
      "execution_count": null,
      "outputs": []
    },
    {
      "cell_type": "code",
      "source": [
        "# mase(y_true=y_test[1:], y_pred= naive_forecast).numpy() #should be close to 1"
      ],
      "metadata": {
        "id": "KrYvbvpDbR5B"
      },
      "execution_count": null,
      "outputs": []
    },
    {
      "cell_type": "code",
      "source": [
        "# type(y_test[0]),y_test[0].dtype\n",
        "# Numpy is float64 datatype as default so we need to convert to float32 datatype while using tensorflow"
      ],
      "metadata": {
        "id": "EMzWaUVDFqga"
      },
      "execution_count": null,
      "outputs": []
    },
    {
      "cell_type": "code",
      "source": [
        "# returns error metrics in dictionary form:\n",
        "def evaluate_preds(y_true, y_pred):\n",
        "  y_true = tf.cast(y_true, dtype=tf.float32)\n",
        "  y_pred = tf.cast(y_pred, dtype=tf.float32)\n",
        "\n",
        "  # better to use the numpy version of these too\n",
        "  mae = tf.keras.metrics.mean_absolute_error(y_true, y_pred)\n",
        "  mse = tf.keras.metrics.mean_squared_error(y_true, y_pred) # puts and emphasis on outliers (all errors get squared)\n",
        "  rmse = tf.sqrt(mse)\n",
        "  mape = tf.keras.metrics.mean_absolute_percentage_error(y_true, y_pred)\n",
        "  mase = mase_(y_true, y_pred)\n",
        "  \n",
        "  return_dict =  {\n",
        "                  \"mae\": mae.numpy(),\n",
        "                  \"mse\": mse.numpy(),\n",
        "                  \"rmse\": rmse.numpy(),\n",
        "                  \"mape\": mape.numpy(),\n",
        "                  \"mase\": mase.numpy()\n",
        "                  }\n",
        "  return return_dict"
      ],
      "metadata": {
        "id": "eGYRN2J-PQgV"
      },
      "execution_count": null,
      "outputs": []
    },
    {
      "cell_type": "code",
      "source": [
        "naive_results = evaluate_preds(y_true=y_test[1:],\n",
        "                               y_pred=naive_forecast)\n",
        "naive_results"
      ],
      "metadata": {
        "colab": {
          "base_uri": "https://localhost:8080/"
        },
        "id": "--HgKqOYPbwu",
        "outputId": "3f251fea-0379-4e90-aa77-4115ce95dab8"
      },
      "execution_count": null,
      "outputs": [
        {
          "output_type": "execute_result",
          "data": {
            "text/plain": [
              "{'mae': 571.1008,\n",
              " 'mape': 2.7039125,\n",
              " 'mase': 0.99867797,\n",
              " 'mse': 1341613.6,\n",
              " 'rmse': 1158.2805}"
            ]
          },
          "metadata": {},
          "execution_count": 169
        }
      ]
    },
    {
      "cell_type": "code",
      "source": [
        "tf.reduce_mean(y_test).numpy()"
      ],
      "metadata": {
        "colab": {
          "base_uri": "https://localhost:8080/"
        },
        "id": "36FCu4RvPdiR",
        "outputId": "31d741f5-3d13-4edc-d238-695c92ec2aac"
      },
      "execution_count": null,
      "outputs": [
        {
          "output_type": "execute_result",
          "data": {
            "text/plain": [
              "17809.185937500002"
            ]
          },
          "metadata": {},
          "execution_count": 170
        }
      ]
    },
    {
      "cell_type": "code",
      "source": [
        "# Windowing dataset to turn our data into supervised learning problem by giving labels\n",
        "# Global variables are usually put with capital letters\n",
        "# Using previous 7 days data to predict the price of 1 day\n",
        "HORIZON = 1\n",
        "WINDOW_SIZE = 7"
      ],
      "metadata": {
        "id": "jA9vY8DEPzvS"
      },
      "execution_count": null,
      "outputs": []
    },
    {
      "cell_type": "code",
      "source": [
        ""
      ],
      "metadata": {
        "id": "FuoCshopNegs"
      },
      "execution_count": null,
      "outputs": []
    },
    {
      "cell_type": "code",
      "source": [
        "# a=[1,2,3,4,5]\n",
        "# a[:, :-1]\n",
        "a = tf.expand_dims(tf.range(8)+1, axis=0)[:, :-1]\n",
        "print(a)\n",
        "tf.squeeze(a).numpy()"
      ],
      "metadata": {
        "colab": {
          "base_uri": "https://localhost:8080/"
        },
        "id": "7k_Ljq89dbdl",
        "outputId": "bf880d6b-a17b-4a42-9b4c-a8258ae09f7e"
      },
      "execution_count": null,
      "outputs": [
        {
          "output_type": "stream",
          "name": "stdout",
          "text": [
            "tf.Tensor([[1 2 3 4 5 6 7]], shape=(1, 7), dtype=int32)\n"
          ]
        },
        {
          "output_type": "execute_result",
          "data": {
            "text/plain": [
              "array([1, 2, 3, 4, 5, 6, 7], dtype=int32)"
            ]
          },
          "metadata": {},
          "execution_count": 172
        }
      ]
    },
    {
      "cell_type": "code",
      "source": [
        "# Create function to label windowed data\n",
        "def get_labelled_windows(x, horizon=HORIZON):\n",
        "  \"\"\"\n",
        "  Creates labels for windowed dataset.\n",
        "\n",
        "  E.g. if horizon=1 (default)\n",
        "  Input: [0, 1, 2, 3, 4, 5, 6, 7] -> Output: ([0, 1, 2, 3, 4, 5, 6], [7])\n",
        "  \"\"\"\n",
        "  return x[:, :-horizon], x[:, -horizon:]"
      ],
      "metadata": {
        "id": "Ck4034qEP81_"
      },
      "execution_count": null,
      "outputs": []
    },
    {
      "cell_type": "code",
      "source": [
        "# Test out the window labelling function\n",
        "test_window, test_label = get_labelled_windows(tf.expand_dims(tf.range(8)+1, axis=0), horizon=HORIZON)\n",
        "print(f\"Window: {tf.squeeze(test_window).numpy()} -> Label: {tf.squeeze(test_label).numpy()}\")"
      ],
      "metadata": {
        "colab": {
          "base_uri": "https://localhost:8080/"
        },
        "id": "DO62NEKjP-0x",
        "outputId": "8f93f811-04aa-40b6-bb0e-ec7e9c25609a"
      },
      "execution_count": null,
      "outputs": [
        {
          "output_type": "stream",
          "name": "stdout",
          "text": [
            "Window: [1 2 3 4 5 6 7] -> Label: 8\n"
          ]
        }
      ]
    },
    {
      "cell_type": "markdown",
      "source": [
        "We need to do the above on our entire btc data. For doing it, using python for loops is good but it becomes very slow when using it in python for-loops so we are using numpy index."
      ],
      "metadata": {
        "id": "WDFg27CzPhIJ"
      }
    },
    {
      "cell_type": "code",
      "source": [
        "# make windows from numpy arrays\n",
        "import numpy as np\n",
        "\n",
        "def make_windows(x, window_size=WINDOW_SIZE, horizon=HORIZON):\n",
        "    \"\"\"\n",
        "    returns 2D array of sequential windows of window size\n",
        "    \"\"\"\n",
        "    window_step = np.expand_dims(np.arange(window_size+horizon), axis=0)\n",
        "  \n",
        "    window_indexes = window_step + np.expand_dims(np.arange(len(x) - (window_size+horizon-1)), axis=0).T # -1 to prevent window going off the last value\n",
        "\n",
        "    # Here window_indexes gives the position of the value of respective indexes, so using x[window_indexes] puts the respective x values in the position\n",
        "    # specified in the windoe_indexes. It only works with numpy arrays\n",
        "    windowed_array = x[window_indexes]\n",
        "    windows, labels = get_labelled_windows(windowed_array, horizon=HORIZON)\n",
        "    return windows, labels\n",
        "\n",
        "    # a = np.array([1,2,3,4])\n",
        "    # x = np.array([10,11,12,13,14])\n",
        "    # a, x, x[a]"
      ],
      "metadata": {
        "id": "vpDl6GcsQbAp"
      },
      "execution_count": null,
      "outputs": []
    },
    {
      "cell_type": "code",
      "source": [
        "# Passing the whole dataset in the windows\n",
        "full_windows, full_labels = make_windows(prices, WINDOW_SIZE, HORIZON)\n",
        "len(full_windows), len(full_labels)"
      ],
      "metadata": {
        "colab": {
          "base_uri": "https://localhost:8080/"
        },
        "id": "BJbeWYxYWZUY",
        "outputId": "46f3c3eb-d150-4897-a82b-c07d2cfc4032"
      },
      "execution_count": null,
      "outputs": [
        {
          "output_type": "execute_result",
          "data": {
            "text/plain": [
              "(2229, 2229)"
            ]
          },
          "metadata": {},
          "execution_count": 176
        }
      ]
    },
    {
      "cell_type": "code",
      "source": [
        "def make_train_test_splits(windows, labels, test_split = 0.2):\n",
        "  split_size = int(len(windows) * (1-test_split))\n",
        "  train_windows = windows[:split_size]\n",
        "  train_labels = labels[:split_size]\n",
        "  test_windows = windows[split_size:]\n",
        "  test_labels = labels[split_size:]\n",
        "  # returns in the same order as skit-learn splitting function returns\n",
        "  return train_windows, test_windows, train_labels, test_labels"
      ],
      "metadata": {
        "id": "pfn62A5XZhgE"
      },
      "execution_count": null,
      "outputs": []
    },
    {
      "cell_type": "code",
      "source": [
        "# Create a train and test windows\n",
        "train_windows, test_windows, train_labels, test_labels = make_train_test_splits(full_windows, full_labels)"
      ],
      "metadata": {
        "id": "qi6e_lo5crRL"
      },
      "execution_count": null,
      "outputs": []
    },
    {
      "cell_type": "code",
      "source": [
        "len(train_labels[:-HORIZON]), len(train_labels), len(train_labels[:-HORIZON-1]), len(y_train), len(y_train[WINDOW_SIZE:])"
      ],
      "metadata": {
        "colab": {
          "base_uri": "https://localhost:8080/"
        },
        "id": "g28M0JaPdoUz",
        "outputId": "4c8dd314-ebd3-4029-a49b-97093399fcf5"
      },
      "execution_count": null,
      "outputs": [
        {
          "output_type": "execute_result",
          "data": {
            "text/plain": [
              "(1782, 1783, 1781, 1788, 1781)"
            ]
          },
          "metadata": {},
          "execution_count": 179
        }
      ]
    },
    {
      "cell_type": "code",
      "source": [
        ""
      ],
      "metadata": {
        "id": "JUfMZqvkdtsX"
      },
      "execution_count": null,
      "outputs": []
    },
    {
      "cell_type": "code",
      "source": [
        "train_labels[:5], tf.squeeze(train_labels[:5]).numpy()"
      ],
      "metadata": {
        "colab": {
          "base_uri": "https://localhost:8080/"
        },
        "id": "enuahFOIX2bc",
        "outputId": "ee91632a-0aaf-4b4b-f71e-129660d048f1"
      },
      "execution_count": null,
      "outputs": [
        {
          "output_type": "execute_result",
          "data": {
            "text/plain": [
              "(array([[824.76],\n",
              "        [852.61],\n",
              "        [896.59],\n",
              "        [844.05],\n",
              "        [823.  ]]), array([824.76, 852.61, 896.59, 844.05, 823.  ]))"
            ]
          },
          "metadata": {},
          "execution_count": 180
        }
      ]
    },
    {
      "cell_type": "code",
      "source": [
        "# len(tf.keras.preprocessing.timeseries_dataset_from_array(data =prices, targets = None, sequence_length=7, sampling_rate=1, sequence_stride=1, shuffle=False))"
      ],
      "metadata": {
        "id": "oylC2DiLZDFy"
      },
      "execution_count": null,
      "outputs": []
    },
    {
      "cell_type": "code",
      "source": [
        "# Make the train/test splits\n",
        "# Our approach is to window the data first and then make tests/train splits\n",
        "def make_train_test_splits(windows, labels, test_split=0.2):\n",
        "  \"\"\"\n",
        "  Splits matching pairs of windows and labels into train and test splits.\n",
        "  \"\"\"\n",
        "  split_size = int(len(windows) * (1-test_split)) # this will default to 80% train/20% test\n",
        "  train_windows = windows[:split_size]\n",
        "  train_labels = labels[:split_size]\n",
        "  test_windows = windows[split_size:]\n",
        "  test_labels = labels[split_size:]\n",
        "  return train_windows, test_windows, train_labels, test_labels"
      ],
      "metadata": {
        "id": "rTh_kDAbQmZi"
      },
      "execution_count": null,
      "outputs": []
    },
    {
      "cell_type": "code",
      "source": [
        "train_windows, test_windows, train_labels, test_labels = make_train_test_splits(full_windows, full_labels)\n",
        "len(train_windows), len(test_windows), len(train_labels), len(test_labels)"
      ],
      "metadata": {
        "colab": {
          "base_uri": "https://localhost:8080/"
        },
        "id": "c0IhuBu9RtsI",
        "outputId": "2576f84f-e7c3-4d68-c8de-f8f3567a8ddc"
      },
      "execution_count": null,
      "outputs": [
        {
          "output_type": "execute_result",
          "data": {
            "text/plain": [
              "(1783, 446, 1783, 446)"
            ]
          },
          "metadata": {},
          "execution_count": 183
        }
      ]
    },
    {
      "cell_type": "code",
      "source": [
        "train_windows"
      ],
      "metadata": {
        "colab": {
          "base_uri": "https://localhost:8080/"
        },
        "id": "eo-gMk5-fmy5",
        "outputId": "540a6a3b-ddf6-41e3-d36c-8b9815b0d720"
      },
      "execution_count": null,
      "outputs": [
        {
          "output_type": "execute_result",
          "data": {
            "text/plain": [
              "array([[ 754.9 ,  784.19,  809.4 , ...,  905.  ,  919.24,  785.  ],\n",
              "       [ 784.19,  809.4 ,  828.79, ...,  919.24,  785.  ,  824.76],\n",
              "       [ 809.4 ,  828.79,  905.  , ...,  785.  ,  824.76,  852.61],\n",
              "       ...,\n",
              "       [7208.69, 7181.73, 7133.65, ..., 7326.  , 7298.62, 7222.11],\n",
              "       [7181.73, 7133.65, 7284.59, ..., 7298.62, 7222.11, 7171.68],\n",
              "       [7133.65, 7284.59, 7326.  , ..., 7222.11, 7171.68, 7129.2 ]])"
            ]
          },
          "metadata": {},
          "execution_count": 184
        }
      ]
    },
    {
      "cell_type": "code",
      "source": [
        "# os is imported to save the model's best performance in google colab\n",
        "import os\n",
        "\"\"\"\n",
        "  Since we are comparing different model's performance, it is better to compare each model's best performance with another model's best\n",
        "  Model's performance is going to fluctuate epoch to epoch\n",
        "  Create a function to implement a ModelCheckpoint callback with a specific filename \n",
        "\"\"\"\n",
        "\n",
        "def create_model_checkpoint(model_name, save_path=\"models\"):\n",
        "  return tf.keras.callbacks.ModelCheckpoint(filepath=os.path.join(save_path, model_name),\n",
        "                                            monitor='val_loss',\n",
        "                                            verbose=0, # elsewise continously printout if saved or not\n",
        "                                            save_best_only=True)"
      ],
      "metadata": {
        "id": "105ABwT0Q9B9"
      },
      "execution_count": null,
      "outputs": []
    },
    {
      "cell_type": "code",
      "source": [
        "\"\"\" \n",
        "  Model-1: Dense model (window=7, horizon=1)\n",
        "  The values are chosen by doing experiments\n",
        "\"\"\"\n",
        "\n",
        "import tensorflow as tf\n",
        "from tensorflow.keras import layers\n",
        "\n",
        "# Set random seed for as reprodicible results as possible\n",
        "tf.random.set_seed(42)\n",
        "\n",
        "model_1 = tf.keras.Sequential([\n",
        "  layers.Dense(128, activation='relu'),\n",
        "  layers.Dense(HORIZON, activation='linear') # Same output as it was passed into it (similar to no activation)\n",
        "], name='model_1_dense') # we can use it for our checkpoint function\n",
        "\n",
        "# 2. Compile\n",
        "model_1.compile(loss=\"mae\",\n",
        "                 optimizer=tf.keras.optimizers.Adam(),\n",
        "                 metrics=[\"mae\", \"mse\"])\n",
        "\n",
        "# 3. Fit the model\n",
        "model_1.fit(x=train_windows,\n",
        "            y=train_labels,\n",
        "            epochs=100,\n",
        "            verbose=1, # it refers to how much information we want to print for our models\n",
        "            batch_size=128,\n",
        "            validation_data=(test_windows, test_labels),\n",
        "            callbacks=[create_model_checkpoint(model_name=model_1.name)]) # saves the best model\n",
        "\n"
      ],
      "metadata": {
        "colab": {
          "base_uri": "https://localhost:8080/"
        },
        "id": "oRhcPtINRhrR",
        "outputId": "ad806943-73a4-4971-909d-07639ab137c0"
      },
      "execution_count": null,
      "outputs": [
        {
          "output_type": "stream",
          "name": "stdout",
          "text": [
            "Epoch 1/100\n",
            "14/14 [==============================] - ETA: 0s - loss: 1101.4684 - mae: 1101.4684 - mse: 3685982.0000 INFO:tensorflow:Assets written to: models/model_1_dense/assets\n"
          ]
        },
        {
          "output_type": "stream",
          "name": "stderr",
          "text": [
            "INFO:tensorflow:Assets written to: models/model_1_dense/assets\n"
          ]
        },
        {
          "output_type": "stream",
          "name": "stdout",
          "text": [
            "\b\b\b\b\b\b\b\b\b\b\b\b\b\b\b\b\b\b\b\b\b\b\b\b\b\b\b\b\b\b\b\b\b\b\b\b\b\b\b\b\b\b\b\b\b\b\b\b\b\b\b\b\b\b\b\b\b\b\b\b\b\b\b\b\b\b\b\b\b\b\b\b\b\b\b\b\b\b\b\b\b\b\b\b\b\b\b\b\b\b\b\b\b\b\b\b\b\b\b\b\b\b\b\r14/14 [==============================] - 1s 62ms/step - loss: 1101.4684 - mae: 1101.4684 - mse: 3685982.0000 - val_loss: 1823.5269 - val_mae: 1823.5269 - val_mse: 7447300.0000\n",
            "Epoch 2/100\n",
            "14/14 [==============================] - ETA: 0s - loss: 364.8581 - mae: 364.8581 - mse: 455576.5938INFO:tensorflow:Assets written to: models/model_1_dense/assets\n"
          ]
        },
        {
          "output_type": "stream",
          "name": "stderr",
          "text": [
            "INFO:tensorflow:Assets written to: models/model_1_dense/assets\n"
          ]
        },
        {
          "output_type": "stream",
          "name": "stdout",
          "text": [
            "\b\b\b\b\b\b\b\b\b\b\b\b\b\b\b\b\b\b\b\b\b\b\b\b\b\b\b\b\b\b\b\b\b\b\b\b\b\b\b\b\b\b\b\b\b\b\b\b\b\b\b\b\b\b\b\b\b\b\b\b\b\b\b\b\b\b\b\b\b\b\b\b\b\b\b\b\b\b\b\b\b\b\b\b\b\b\b\b\b\b\b\b\b\b\b\b\b\b\b\b\r14/14 [==============================] - 1s 78ms/step - loss: 364.8581 - mae: 364.8581 - mse: 455576.5938 - val_loss: 1636.1923 - val_mae: 1636.1923 - val_mse: 6570600.0000\n",
            "Epoch 3/100\n",
            "13/14 [==========================>...] - ETA: 0s - loss: 256.2525 - mae: 256.2525 - mse: 252347.0156INFO:tensorflow:Assets written to: models/model_1_dense/assets\n"
          ]
        },
        {
          "output_type": "stream",
          "name": "stderr",
          "text": [
            "INFO:tensorflow:Assets written to: models/model_1_dense/assets\n"
          ]
        },
        {
          "output_type": "stream",
          "name": "stdout",
          "text": [
            "\b\b\b\b\b\b\b\b\b\b\b\b\b\b\b\b\b\b\b\b\b\b\b\b\b\b\b\b\b\b\b\b\b\b\b\b\b\b\b\b\b\b\b\b\b\b\b\b\b\b\b\b\b\b\b\b\b\b\b\b\b\b\b\b\b\b\b\b\b\b\b\b\b\b\b\b\b\b\b\b\b\b\b\b\b\b\b\b\b\b\b\b\b\b\b\b\b\b\b\b\r14/14 [==============================] - 1s 49ms/step - loss: 262.0759 - mae: 262.0759 - mse: 276247.6875 - val_loss: 910.5291 - val_mae: 910.5291 - val_mse: 2657821.0000\n",
            "Epoch 4/100\n",
            "14/14 [==============================] - ETA: 0s - loss: 229.8432 - mae: 229.8432 - mse: 223029.6406INFO:tensorflow:Assets written to: models/model_1_dense/assets\n"
          ]
        },
        {
          "output_type": "stream",
          "name": "stderr",
          "text": [
            "INFO:tensorflow:Assets written to: models/model_1_dense/assets\n"
          ]
        },
        {
          "output_type": "stream",
          "name": "stdout",
          "text": [
            "\b\b\b\b\b\b\b\b\b\b\b\b\b\b\b\b\b\b\b\b\b\b\b\b\b\b\b\b\b\b\b\b\b\b\b\b\b\b\b\b\b\b\b\b\b\b\b\b\b\b\b\b\b\b\b\b\b\b\b\b\b\b\b\b\b\b\b\b\b\b\b\b\b\b\b\b\b\b\b\b\b\b\b\b\b\b\b\b\b\b\b\b\b\b\b\b\b\b\b\b\r14/14 [==============================] - 1s 51ms/step - loss: 229.8432 - mae: 229.8432 - mse: 223029.6406 - val_loss: 871.9885 - val_mae: 871.9885 - val_mse: 2471781.5000\n",
            "Epoch 5/100\n",
            "14/14 [==============================] - 0s 8ms/step - loss: 213.3530 - mae: 213.3530 - mse: 196829.2500 - val_loss: 934.7549 - val_mae: 934.7549 - val_mse: 2760925.5000\n",
            "Epoch 6/100\n",
            "14/14 [==============================] - 0s 6ms/step - loss: 209.7133 - mae: 209.7133 - mse: 192899.4688 - val_loss: 966.5706 - val_mae: 966.5706 - val_mse: 2874033.7500\n",
            "Epoch 7/100\n",
            "14/14 [==============================] - 0s 7ms/step - loss: 206.8332 - mae: 206.8332 - mse: 191047.4844 - val_loss: 965.7445 - val_mae: 965.7445 - val_mse: 2848841.0000\n",
            "Epoch 8/100\n",
            "14/14 [==============================] - 0s 7ms/step - loss: 204.5820 - mae: 204.5820 - mse: 185115.7656 - val_loss: 903.3970 - val_mae: 903.3970 - val_mse: 2583670.7500\n",
            "Epoch 9/100\n",
            "14/14 [==============================] - ETA: 0s - loss: 198.6222 - mae: 198.6222 - mse: 171793.7656INFO:tensorflow:Assets written to: models/model_1_dense/assets\n"
          ]
        },
        {
          "output_type": "stream",
          "name": "stderr",
          "text": [
            "INFO:tensorflow:Assets written to: models/model_1_dense/assets\n"
          ]
        },
        {
          "output_type": "stream",
          "name": "stdout",
          "text": [
            "\b\b\b\b\b\b\b\b\b\b\b\b\b\b\b\b\b\b\b\b\b\b\b\b\b\b\b\b\b\b\b\b\b\b\b\b\b\b\b\b\b\b\b\b\b\b\b\b\b\b\b\b\b\b\b\b\b\b\b\b\b\b\b\b\b\b\b\b\b\b\b\b\b\b\b\b\b\b\b\b\b\b\b\b\b\b\b\b\b\b\b\b\b\b\b\b\b\b\b\b\r14/14 [==============================] - 1s 48ms/step - loss: 198.6222 - mae: 198.6222 - mse: 171793.7656 - val_loss: 835.3904 - val_mae: 835.3904 - val_mse: 2302950.2500\n",
            "Epoch 10/100\n",
            " 1/14 [=>............................] - ETA: 0s - loss: 158.1890 - mae: 158.1890 - mse: 109477.3125INFO:tensorflow:Assets written to: models/model_1_dense/assets\n"
          ]
        },
        {
          "output_type": "stream",
          "name": "stderr",
          "text": [
            "INFO:tensorflow:Assets written to: models/model_1_dense/assets\n"
          ]
        },
        {
          "output_type": "stream",
          "name": "stdout",
          "text": [
            "\b\b\b\b\b\b\b\b\b\b\b\b\b\b\b\b\b\b\b\b\b\b\b\b\b\b\b\b\b\b\b\b\b\b\b\b\b\b\b\b\b\b\b\b\b\b\b\b\b\b\b\b\b\b\b\b\b\b\b\b\b\b\b\b\b\b\b\b\b\b\b\b\b\b\b\b\b\b\b\b\b\b\b\b\b\b\b\b\b\b\b\b\b\b\b\b\b\b\b\b\r14/14 [==============================] - 1s 46ms/step - loss: 196.4742 - mae: 196.4742 - mse: 171026.3125 - val_loss: 802.7703 - val_mae: 802.7703 - val_mse: 2160369.2500\n",
            "Epoch 11/100\n",
            "14/14 [==============================] - ETA: 0s - loss: 193.1243 - mae: 193.1243 - mse: 166223.5000INFO:tensorflow:Assets written to: models/model_1_dense/assets\n"
          ]
        },
        {
          "output_type": "stream",
          "name": "stderr",
          "text": [
            "INFO:tensorflow:Assets written to: models/model_1_dense/assets\n"
          ]
        },
        {
          "output_type": "stream",
          "name": "stdout",
          "text": [
            "\b\b\b\b\b\b\b\b\b\b\b\b\b\b\b\b\b\b\b\b\b\b\b\b\b\b\b\b\b\b\b\b\b\b\b\b\b\b\b\b\b\b\b\b\b\b\b\b\b\b\b\b\b\b\b\b\b\b\b\b\b\b\b\b\b\b\b\b\b\b\b\b\b\b\b\b\b\b\b\b\b\b\b\b\b\b\b\b\b\b\b\b\b\b\b\b\b\b\b\b\r14/14 [==============================] - 1s 48ms/step - loss: 193.1243 - mae: 193.1243 - mse: 166223.5000 - val_loss: 794.5685 - val_mae: 794.5685 - val_mse: 2125808.0000\n",
            "Epoch 12/100\n",
            "14/14 [==============================] - 0s 7ms/step - loss: 186.3034 - mae: 186.3034 - mse: 156349.7344 - val_loss: 794.6605 - val_mae: 794.6605 - val_mse: 2118770.7500\n",
            "Epoch 13/100\n",
            "14/14 [==============================] - 0s 8ms/step - loss: 183.0405 - mae: 183.0405 - mse: 151985.6250 - val_loss: 799.4197 - val_mae: 799.4197 - val_mse: 2129493.5000\n",
            "Epoch 14/100\n",
            "14/14 [==============================] - ETA: 0s - loss: 179.3866 - mae: 179.3866 - mse: 146495.1562INFO:tensorflow:Assets written to: models/model_1_dense/assets\n"
          ]
        },
        {
          "output_type": "stream",
          "name": "stderr",
          "text": [
            "INFO:tensorflow:Assets written to: models/model_1_dense/assets\n"
          ]
        },
        {
          "output_type": "stream",
          "name": "stdout",
          "text": [
            "\b\b\b\b\b\b\b\b\b\b\b\b\b\b\b\b\b\b\b\b\b\b\b\b\b\b\b\b\b\b\b\b\b\b\b\b\b\b\b\b\b\b\b\b\b\b\b\b\b\b\b\b\b\b\b\b\b\b\b\b\b\b\b\b\b\b\b\b\b\b\b\b\b\b\b\b\b\b\b\b\b\b\b\b\b\b\b\b\b\b\b\b\b\b\b\b\b\b\b\b\r14/14 [==============================] - 1s 49ms/step - loss: 179.3866 - mae: 179.3866 - mse: 146495.1562 - val_loss: 738.9971 - val_mae: 738.9971 - val_mse: 1896003.7500\n",
            "Epoch 15/100\n",
            "13/14 [==========================>...] - ETA: 0s - loss: 182.0229 - mae: 182.0229 - mse: 141991.8125INFO:tensorflow:Assets written to: models/model_1_dense/assets\n"
          ]
        },
        {
          "output_type": "stream",
          "name": "stderr",
          "text": [
            "INFO:tensorflow:Assets written to: models/model_1_dense/assets\n"
          ]
        },
        {
          "output_type": "stream",
          "name": "stdout",
          "text": [
            "\b\b\b\b\b\b\b\b\b\b\b\b\b\b\b\b\b\b\b\b\b\b\b\b\b\b\b\b\b\b\b\b\b\b\b\b\b\b\b\b\b\b\b\b\b\b\b\b\b\b\b\b\b\b\b\b\b\b\b\b\b\b\b\b\b\b\b\b\b\b\b\b\b\b\b\b\b\b\b\b\b\b\b\b\b\b\b\b\b\b\b\b\b\b\b\b\b\b\b\b\r14/14 [==============================] - 1s 49ms/step - loss: 183.1302 - mae: 183.1302 - mse: 146731.1875 - val_loss: 729.9410 - val_mae: 729.9410 - val_mse: 1821407.0000\n",
            "Epoch 16/100\n",
            "14/14 [==============================] - 0s 8ms/step - loss: 178.4232 - mae: 178.4232 - mse: 139502.9688 - val_loss: 791.8325 - val_mae: 791.8325 - val_mse: 2067840.3750\n",
            "Epoch 17/100\n",
            "14/14 [==============================] - ETA: 0s - loss: 172.7325 - mae: 172.7325 - mse: 136047.9688INFO:tensorflow:Assets written to: models/model_1_dense/assets\n"
          ]
        },
        {
          "output_type": "stream",
          "name": "stderr",
          "text": [
            "INFO:tensorflow:Assets written to: models/model_1_dense/assets\n"
          ]
        },
        {
          "output_type": "stream",
          "name": "stdout",
          "text": [
            "\b\b\b\b\b\b\b\b\b\b\b\b\b\b\b\b\b\b\b\b\b\b\b\b\b\b\b\b\b\b\b\b\b\b\b\b\b\b\b\b\b\b\b\b\b\b\b\b\b\b\b\b\b\b\b\b\b\b\b\b\b\b\b\b\b\b\b\b\b\b\b\b\b\b\b\b\b\b\b\b\b\b\b\b\b\b\b\b\b\b\b\b\b\b\b\b\b\b\b\b\r14/14 [==============================] - 1s 48ms/step - loss: 172.7325 - mae: 172.7325 - mse: 136047.9688 - val_loss: 722.0017 - val_mae: 722.0017 - val_mse: 1833716.7500\n",
            "Epoch 18/100\n",
            "12/14 [========================>.....] - ETA: 0s - loss: 166.0195 - mae: 166.0195 - mse: 127820.5000INFO:tensorflow:Assets written to: models/model_1_dense/assets\n"
          ]
        },
        {
          "output_type": "stream",
          "name": "stderr",
          "text": [
            "INFO:tensorflow:Assets written to: models/model_1_dense/assets\n"
          ]
        },
        {
          "output_type": "stream",
          "name": "stdout",
          "text": [
            "\b\b\b\b\b\b\b\b\b\b\b\b\b\b\b\b\b\b\b\b\b\b\b\b\b\b\b\b\b\b\b\b\b\b\b\b\b\b\b\b\b\b\b\b\b\b\b\b\b\b\b\b\b\b\b\b\b\b\b\b\b\b\b\b\b\b\b\b\b\b\b\b\b\b\b\b\b\b\b\b\b\b\b\b\b\b\b\b\b\b\b\b\b\b\b\b\b\b\b\b\r14/14 [==============================] - 1s 49ms/step - loss: 165.2434 - mae: 165.2434 - mse: 128065.6719 - val_loss: 710.3107 - val_mae: 710.3107 - val_mse: 1786833.7500\n",
            "Epoch 19/100\n",
            "14/14 [==============================] - 0s 6ms/step - loss: 162.9875 - mae: 162.9875 - mse: 123605.6719 - val_loss: 721.5283 - val_mae: 721.5283 - val_mse: 1817951.7500\n",
            "Epoch 20/100\n",
            " 1/14 [=>............................] - ETA: 0s - loss: 159.0674 - mae: 159.0674 - mse: 100080.6719INFO:tensorflow:Assets written to: models/model_1_dense/assets\n"
          ]
        },
        {
          "output_type": "stream",
          "name": "stderr",
          "text": [
            "INFO:tensorflow:Assets written to: models/model_1_dense/assets\n"
          ]
        },
        {
          "output_type": "stream",
          "name": "stdout",
          "text": [
            "\b\b\b\b\b\b\b\b\b\b\b\b\b\b\b\b\b\b\b\b\b\b\b\b\b\b\b\b\b\b\b\b\b\b\b\b\b\b\b\b\b\b\b\b\b\b\b\b\b\b\b\b\b\b\b\b\b\b\b\b\b\b\b\b\b\b\b\b\b\b\b\b\b\b\b\b\b\b\b\b\b\b\b\b\b\b\b\b\b\b\b\b\b\b\b\b\b\b\b\b\r14/14 [==============================] - 1s 48ms/step - loss: 160.0695 - mae: 160.0695 - mse: 120657.0234 - val_loss: 685.6559 - val_mae: 685.6559 - val_mse: 1686122.7500\n",
            "Epoch 21/100\n",
            "14/14 [==============================] - 0s 7ms/step - loss: 158.1591 - mae: 158.1591 - mse: 118347.5781 - val_loss: 722.2169 - val_mae: 722.2169 - val_mse: 1807791.1250\n",
            "Epoch 22/100\n",
            "11/14 [======================>.......] - ETA: 0s - loss: 149.4980 - mae: 149.4980 - mse: 104409.4922INFO:tensorflow:Assets written to: models/model_1_dense/assets\n"
          ]
        },
        {
          "output_type": "stream",
          "name": "stderr",
          "text": [
            "INFO:tensorflow:Assets written to: models/model_1_dense/assets\n"
          ]
        },
        {
          "output_type": "stream",
          "name": "stdout",
          "text": [
            "\b\b\b\b\b\b\b\b\b\b\b\b\b\b\b\b\b\b\b\b\b\b\b\b\b\b\b\b\b\b\b\b\b\b\b\b\b\b\b\b\b\b\b\b\b\b\b\b\b\b\b\b\b\b\b\b\b\b\b\b\b\b\b\b\b\b\b\b\b\b\b\b\b\b\b\b\b\b\b\b\b\b\b\b\b\b\b\b\b\b\b\b\b\b\b\b\b\b\b\b\r14/14 [==============================] - 1s 49ms/step - loss: 158.7747 - mae: 158.7747 - mse: 116417.6875 - val_loss: 671.1667 - val_mae: 671.1667 - val_mse: 1611121.2500\n",
            "Epoch 23/100\n",
            "14/14 [==============================] - 0s 8ms/step - loss: 163.2771 - mae: 163.2771 - mse: 119600.4609 - val_loss: 733.8444 - val_mae: 733.8444 - val_mse: 1835300.2500\n",
            "Epoch 24/100\n",
            "14/14 [==============================] - 0s 7ms/step - loss: 152.4882 - mae: 152.4882 - mse: 109800.8203 - val_loss: 708.0053 - val_mae: 708.0053 - val_mse: 1747967.7500\n",
            "Epoch 25/100\n",
            "14/14 [==============================] - 0s 7ms/step - loss: 151.1617 - mae: 151.1617 - mse: 108886.1484 - val_loss: 682.2983 - val_mae: 682.2983 - val_mse: 1665091.5000\n",
            "Epoch 26/100\n",
            "12/14 [========================>.....] - ETA: 0s - loss: 147.5801 - mae: 147.5801 - mse: 106302.3359INFO:tensorflow:Assets written to: models/model_1_dense/assets\n"
          ]
        },
        {
          "output_type": "stream",
          "name": "stderr",
          "text": [
            "INFO:tensorflow:Assets written to: models/model_1_dense/assets\n"
          ]
        },
        {
          "output_type": "stream",
          "name": "stdout",
          "text": [
            "\b\b\b\b\b\b\b\b\b\b\b\b\b\b\b\b\b\b\b\b\b\b\b\b\b\b\b\b\b\b\b\b\b\b\b\b\b\b\b\b\b\b\b\b\b\b\b\b\b\b\b\b\b\b\b\b\b\b\b\b\b\b\b\b\b\b\b\b\b\b\b\b\b\b\b\b\b\b\b\b\b\b\b\b\b\b\b\b\b\b\b\b\b\b\b\b\b\b\b\b\r14/14 [==============================] - 1s 47ms/step - loss: 149.1958 - mae: 149.1958 - mse: 107721.7734 - val_loss: 655.1675 - val_mae: 655.1675 - val_mse: 1581801.6250\n",
            "Epoch 27/100\n",
            "14/14 [==============================] - ETA: 0s - loss: 148.8948 - mae: 148.8948 - mse: 105996.5000INFO:tensorflow:Assets written to: models/model_1_dense/assets\n"
          ]
        },
        {
          "output_type": "stream",
          "name": "stderr",
          "text": [
            "INFO:tensorflow:Assets written to: models/model_1_dense/assets\n"
          ]
        },
        {
          "output_type": "stream",
          "name": "stdout",
          "text": [
            "\b\b\b\b\b\b\b\b\b\b\b\b\b\b\b\b\b\b\b\b\b\b\b\b\b\b\b\b\b\b\b\b\b\b\b\b\b\b\b\b\b\b\b\b\b\b\b\b\b\b\b\b\b\b\b\b\b\b\b\b\b\b\b\b\b\b\b\b\b\b\b\b\b\b\b\b\b\b\b\b\b\b\b\b\b\b\b\b\b\b\b\b\b\b\b\b\b\b\b\b\r14/14 [==============================] - 1s 47ms/step - loss: 148.8948 - mae: 148.8948 - mse: 105996.5000 - val_loss: 640.7395 - val_mae: 640.7395 - val_mse: 1533247.1250\n",
            "Epoch 28/100\n",
            "14/14 [==============================] - 0s 7ms/step - loss: 148.3983 - mae: 148.3983 - mse: 104949.6953 - val_loss: 642.9067 - val_mae: 642.9067 - val_mse: 1544390.8750\n",
            "Epoch 29/100\n",
            "14/14 [==============================] - 0s 7ms/step - loss: 146.7692 - mae: 146.7692 - mse: 103940.5703 - val_loss: 654.2294 - val_mae: 654.2294 - val_mse: 1579109.7500\n",
            "Epoch 30/100\n",
            "14/14 [==============================] - 0s 7ms/step - loss: 145.6651 - mae: 145.6651 - mse: 101938.7266 - val_loss: 646.3860 - val_mae: 646.3860 - val_mse: 1556265.0000\n",
            "Epoch 31/100\n",
            "14/14 [==============================] - 0s 8ms/step - loss: 146.8964 - mae: 146.8964 - mse: 103603.4219 - val_loss: 791.1219 - val_mae: 791.1219 - val_mse: 1975462.3750\n",
            "Epoch 32/100\n",
            "14/14 [==============================] - ETA: 0s - loss: 151.2934 - mae: 151.2934 - mse: 103794.4688INFO:tensorflow:Assets written to: models/model_1_dense/assets\n"
          ]
        },
        {
          "output_type": "stream",
          "name": "stderr",
          "text": [
            "INFO:tensorflow:Assets written to: models/model_1_dense/assets\n"
          ]
        },
        {
          "output_type": "stream",
          "name": "stdout",
          "text": [
            "\b\b\b\b\b\b\b\b\b\b\b\b\b\b\b\b\b\b\b\b\b\b\b\b\b\b\b\b\b\b\b\b\b\b\b\b\b\b\b\b\b\b\b\b\b\b\b\b\b\b\b\b\b\b\b\b\b\b\b\b\b\b\b\b\b\b\b\b\b\b\b\b\b\b\b\b\b\b\b\b\b\b\b\b\b\b\b\b\b\b\b\b\b\b\b\b\b\b\b\b\r14/14 [==============================] - 1s 48ms/step - loss: 151.2934 - mae: 151.2934 - mse: 103794.4688 - val_loss: 620.1498 - val_mae: 620.1498 - val_mse: 1478553.5000\n",
            "Epoch 33/100\n",
            "14/14 [==============================] - ETA: 0s - loss: 146.9766 - mae: 146.9766 - mse: 101281.1641INFO:tensorflow:Assets written to: models/model_1_dense/assets\n"
          ]
        },
        {
          "output_type": "stream",
          "name": "stderr",
          "text": [
            "INFO:tensorflow:Assets written to: models/model_1_dense/assets\n"
          ]
        },
        {
          "output_type": "stream",
          "name": "stdout",
          "text": [
            "\b\b\b\b\b\b\b\b\b\b\b\b\b\b\b\b\b\b\b\b\b\b\b\b\b\b\b\b\b\b\b\b\b\b\b\b\b\b\b\b\b\b\b\b\b\b\b\b\b\b\b\b\b\b\b\b\b\b\b\b\b\b\b\b\b\b\b\b\b\b\b\b\b\b\b\b\b\b\b\b\b\b\b\b\b\b\b\b\b\b\b\b\b\b\b\b\b\b\b\b\r14/14 [==============================] - 1s 49ms/step - loss: 146.9766 - mae: 146.9766 - mse: 101281.1641 - val_loss: 618.1885 - val_mae: 618.1885 - val_mse: 1474654.1250\n",
            "Epoch 34/100\n",
            "14/14 [==============================] - 0s 8ms/step - loss: 145.8924 - mae: 145.8924 - mse: 101268.8828 - val_loss: 654.1999 - val_mae: 654.1999 - val_mse: 1569257.0000\n",
            "Epoch 35/100\n",
            "13/14 [==========================>...] - ETA: 0s - loss: 140.6507 - mae: 140.6507 - mse: 97050.0000INFO:tensorflow:Assets written to: models/model_1_dense/assets\n"
          ]
        },
        {
          "output_type": "stream",
          "name": "stderr",
          "text": [
            "INFO:tensorflow:Assets written to: models/model_1_dense/assets\n"
          ]
        },
        {
          "output_type": "stream",
          "name": "stdout",
          "text": [
            "\b\b\b\b\b\b\b\b\b\b\b\b\b\b\b\b\b\b\b\b\b\b\b\b\b\b\b\b\b\b\b\b\b\b\b\b\b\b\b\b\b\b\b\b\b\b\b\b\b\b\b\b\b\b\b\b\b\b\b\b\b\b\b\b\b\b\b\b\b\b\b\b\b\b\b\b\b\b\b\b\b\b\b\b\b\b\b\b\b\b\b\b\b\b\b\b\b\b\b\r14/14 [==============================] - 1s 48ms/step - loss: 142.2126 - mae: 142.2126 - mse: 98747.2188 - val_loss: 616.8658 - val_mae: 616.8658 - val_mse: 1472621.8750\n",
            "Epoch 36/100\n",
            "14/14 [==============================] - 0s 7ms/step - loss: 142.6684 - mae: 142.6684 - mse: 98005.2969 - val_loss: 701.6244 - val_mae: 701.6244 - val_mse: 1691361.2500\n",
            "Epoch 37/100\n",
            "14/14 [==============================] - 0s 8ms/step - loss: 146.3780 - mae: 146.3780 - mse: 100083.1875 - val_loss: 672.4991 - val_mae: 672.4991 - val_mse: 1610113.0000\n",
            "Epoch 38/100\n",
            "14/14 [==============================] - ETA: 0s - loss: 146.1457 - mae: 146.1457 - mse: 102841.3516INFO:tensorflow:Assets written to: models/model_1_dense/assets\n"
          ]
        },
        {
          "output_type": "stream",
          "name": "stderr",
          "text": [
            "INFO:tensorflow:Assets written to: models/model_1_dense/assets\n"
          ]
        },
        {
          "output_type": "stream",
          "name": "stdout",
          "text": [
            "\b\b\b\b\b\b\b\b\b\b\b\b\b\b\b\b\b\b\b\b\b\b\b\b\b\b\b\b\b\b\b\b\b\b\b\b\b\b\b\b\b\b\b\b\b\b\b\b\b\b\b\b\b\b\b\b\b\b\b\b\b\b\b\b\b\b\b\b\b\b\b\b\b\b\b\b\b\b\b\b\b\b\b\b\b\b\b\b\b\b\b\b\b\b\b\b\b\b\b\b\r14/14 [==============================] - 1s 48ms/step - loss: 146.1457 - mae: 146.1457 - mse: 102841.3516 - val_loss: 608.4901 - val_mae: 608.4901 - val_mse: 1448470.0000\n",
            "Epoch 39/100\n",
            "14/14 [==============================] - 0s 7ms/step - loss: 141.7341 - mae: 141.7341 - mse: 97072.8672 - val_loss: 618.6324 - val_mae: 618.6324 - val_mse: 1475277.6250\n",
            "Epoch 40/100\n",
            "14/14 [==============================] - 0s 7ms/step - loss: 140.9656 - mae: 140.9656 - mse: 96063.1562 - val_loss: 725.8323 - val_mae: 725.8323 - val_mse: 1745317.0000\n",
            "Epoch 41/100\n",
            "14/14 [==============================] - 0s 8ms/step - loss: 146.9747 - mae: 146.9747 - mse: 100965.8984 - val_loss: 624.8782 - val_mae: 624.8782 - val_mse: 1487262.6250\n",
            "Epoch 42/100\n",
            "14/14 [==============================] - 0s 8ms/step - loss: 140.8617 - mae: 140.8617 - mse: 95995.0234 - val_loss: 608.8317 - val_mae: 608.8317 - val_mse: 1447788.2500\n",
            "Epoch 43/100\n",
            "14/14 [==============================] - ETA: 0s - loss: 140.8971 - mae: 140.8971 - mse: 95812.2656INFO:tensorflow:Assets written to: models/model_1_dense/assets\n"
          ]
        },
        {
          "output_type": "stream",
          "name": "stderr",
          "text": [
            "INFO:tensorflow:Assets written to: models/model_1_dense/assets\n"
          ]
        },
        {
          "output_type": "stream",
          "name": "stdout",
          "text": [
            "\b\b\b\b\b\b\b\b\b\b\b\b\b\b\b\b\b\b\b\b\b\b\b\b\b\b\b\b\b\b\b\b\b\b\b\b\b\b\b\b\b\b\b\b\b\b\b\b\b\b\b\b\b\b\b\b\b\b\b\b\b\b\b\b\b\b\b\b\b\b\b\b\b\b\b\b\b\b\b\b\b\b\b\b\b\b\b\b\b\b\b\b\b\b\b\b\b\b\b\r14/14 [==============================] - 1s 48ms/step - loss: 140.8971 - mae: 140.8971 - mse: 95812.2656 - val_loss: 604.2318 - val_mae: 604.2318 - val_mse: 1437878.5000\n",
            "Epoch 44/100\n",
            "14/14 [==============================] - 0s 7ms/step - loss: 140.6172 - mae: 140.6172 - mse: 94294.2578 - val_loss: 657.9724 - val_mae: 657.9724 - val_mse: 1561681.3750\n",
            "Epoch 45/100\n",
            "14/14 [==============================] - 0s 8ms/step - loss: 145.0954 - mae: 145.0954 - mse: 97884.3750 - val_loss: 611.8429 - val_mae: 611.8429 - val_mse: 1453006.8750\n",
            "Epoch 46/100\n",
            "14/14 [==============================] - 0s 7ms/step - loss: 137.3552 - mae: 137.3552 - mse: 93381.0078 - val_loss: 604.9779 - val_mae: 604.9779 - val_mse: 1436024.5000\n",
            "Epoch 47/100\n",
            "14/14 [==============================] - ETA: 0s - loss: 139.6044 - mae: 139.6044 - mse: 94610.8906INFO:tensorflow:Assets written to: models/model_1_dense/assets\n"
          ]
        },
        {
          "output_type": "stream",
          "name": "stderr",
          "text": [
            "INFO:tensorflow:Assets written to: models/model_1_dense/assets\n"
          ]
        },
        {
          "output_type": "stream",
          "name": "stdout",
          "text": [
            "\b\b\b\b\b\b\b\b\b\b\b\b\b\b\b\b\b\b\b\b\b\b\b\b\b\b\b\b\b\b\b\b\b\b\b\b\b\b\b\b\b\b\b\b\b\b\b\b\b\b\b\b\b\b\b\b\b\b\b\b\b\b\b\b\b\b\b\b\b\b\b\b\b\b\b\b\b\b\b\b\b\b\b\b\b\b\b\b\b\b\b\b\b\b\b\b\b\b\b\r14/14 [==============================] - 1s 46ms/step - loss: 139.6044 - mae: 139.6044 - mse: 94610.8906 - val_loss: 595.6401 - val_mae: 595.6401 - val_mse: 1415261.3750\n",
            "Epoch 48/100\n",
            "14/14 [==============================] - 0s 8ms/step - loss: 140.2585 - mae: 140.2585 - mse: 93798.6328 - val_loss: 627.5662 - val_mae: 627.5662 - val_mse: 1485448.7500\n",
            "Epoch 49/100\n",
            "14/14 [==============================] - 0s 8ms/step - loss: 138.3710 - mae: 138.3710 - mse: 91258.9141 - val_loss: 615.5536 - val_mae: 615.5536 - val_mse: 1457192.1250\n",
            "Epoch 50/100\n",
            "14/14 [==============================] - ETA: 0s - loss: 135.8162 - mae: 135.8162 - mse: 91383.0469 INFO:tensorflow:Assets written to: models/model_1_dense/assets\n"
          ]
        },
        {
          "output_type": "stream",
          "name": "stderr",
          "text": [
            "INFO:tensorflow:Assets written to: models/model_1_dense/assets\n"
          ]
        },
        {
          "output_type": "stream",
          "name": "stdout",
          "text": [
            "\b\b\b\b\b\b\b\b\b\b\b\b\b\b\b\b\b\b\b\b\b\b\b\b\b\b\b\b\b\b\b\b\b\b\b\b\b\b\b\b\b\b\b\b\b\b\b\b\b\b\b\b\b\b\b\b\b\b\b\b\b\b\b\b\b\b\b\b\b\b\b\b\b\b\b\b\b\b\b\b\b\b\b\b\b\b\b\b\b\b\b\b\b\b\b\b\b\b\b\r14/14 [==============================] - 1s 71ms/step - loss: 135.8162 - mae: 135.8162 - mse: 91383.0469 - val_loss: 591.3418 - val_mae: 591.3418 - val_mse: 1404130.0000\n",
            "Epoch 51/100\n",
            "14/14 [==============================] - 0s 8ms/step - loss: 136.1769 - mae: 136.1769 - mse: 92314.9453 - val_loss: 610.8250 - val_mae: 610.8250 - val_mse: 1443944.5000\n",
            "Epoch 52/100\n",
            "14/14 [==============================] - 0s 7ms/step - loss: 138.2684 - mae: 138.2684 - mse: 91524.1250 - val_loss: 595.0917 - val_mae: 595.0917 - val_mse: 1416519.0000\n",
            "Epoch 53/100\n",
            "14/14 [==============================] - ETA: 0s - loss: 138.2166 - mae: 138.2166 - mse: 93083.0078INFO:tensorflow:Assets written to: models/model_1_dense/assets\n"
          ]
        },
        {
          "output_type": "stream",
          "name": "stderr",
          "text": [
            "INFO:tensorflow:Assets written to: models/model_1_dense/assets\n"
          ]
        },
        {
          "output_type": "stream",
          "name": "stdout",
          "text": [
            "\b\b\b\b\b\b\b\b\b\b\b\b\b\b\b\b\b\b\b\b\b\b\b\b\b\b\b\b\b\b\b\b\b\b\b\b\b\b\b\b\b\b\b\b\b\b\b\b\b\b\b\b\b\b\b\b\b\b\b\b\b\b\b\b\b\b\b\b\b\b\b\b\b\b\b\b\b\b\b\b\b\b\b\b\b\b\b\b\b\b\b\b\b\b\b\b\b\b\b\r14/14 [==============================] - 1s 47ms/step - loss: 138.2166 - mae: 138.2166 - mse: 93083.0078 - val_loss: 590.3892 - val_mae: 590.3892 - val_mse: 1398299.0000\n",
            "Epoch 54/100\n",
            "14/14 [==============================] - 0s 8ms/step - loss: 141.2605 - mae: 141.2605 - mse: 94250.5703 - val_loss: 614.7706 - val_mae: 614.7706 - val_mse: 1463709.3750\n",
            "Epoch 55/100\n",
            "14/14 [==============================] - ETA: 0s - loss: 142.2205 - mae: 142.2205 - mse: 95579.9766 INFO:tensorflow:Assets written to: models/model_1_dense/assets\n"
          ]
        },
        {
          "output_type": "stream",
          "name": "stderr",
          "text": [
            "INFO:tensorflow:Assets written to: models/model_1_dense/assets\n"
          ]
        },
        {
          "output_type": "stream",
          "name": "stdout",
          "text": [
            "\b\b\b\b\b\b\b\b\b\b\b\b\b\b\b\b\b\b\b\b\b\b\b\b\b\b\b\b\b\b\b\b\b\b\b\b\b\b\b\b\b\b\b\b\b\b\b\b\b\b\b\b\b\b\b\b\b\b\b\b\b\b\b\b\b\b\b\b\b\b\b\b\b\b\b\b\b\b\b\b\b\b\b\b\b\b\b\b\b\b\b\b\b\b\b\b\b\b\b\r14/14 [==============================] - 1s 49ms/step - loss: 142.2205 - mae: 142.2205 - mse: 95579.9766 - val_loss: 589.0795 - val_mae: 589.0795 - val_mse: 1393960.1250\n",
            "Epoch 56/100\n",
            "14/14 [==============================] - 0s 8ms/step - loss: 135.8081 - mae: 135.8081 - mse: 92510.0781 - val_loss: 599.8378 - val_mae: 599.8378 - val_mse: 1415661.2500\n",
            "Epoch 57/100\n",
            "14/14 [==============================] - 0s 7ms/step - loss: 135.4442 - mae: 135.4442 - mse: 90530.5938 - val_loss: 635.9651 - val_mae: 635.9651 - val_mse: 1491043.0000\n",
            "Epoch 58/100\n",
            "14/14 [==============================] - 0s 7ms/step - loss: 134.5745 - mae: 134.5745 - mse: 90024.8359 - val_loss: 623.6661 - val_mae: 623.6661 - val_mse: 1465291.6250\n",
            "Epoch 59/100\n",
            "14/14 [==============================] - 0s 9ms/step - loss: 136.0547 - mae: 136.0547 - mse: 90179.8828 - val_loss: 632.2736 - val_mae: 632.2736 - val_mse: 1480801.2500\n",
            "Epoch 60/100\n",
            "11/14 [======================>.......] - ETA: 0s - loss: 129.9242 - mae: 129.9242 - mse: 82623.4453INFO:tensorflow:Assets written to: models/model_1_dense/assets\n"
          ]
        },
        {
          "output_type": "stream",
          "name": "stderr",
          "text": [
            "INFO:tensorflow:Assets written to: models/model_1_dense/assets\n"
          ]
        },
        {
          "output_type": "stream",
          "name": "stdout",
          "text": [
            "\b\b\b\b\b\b\b\b\b\b\b\b\b\b\b\b\b\b\b\b\b\b\b\b\b\b\b\b\b\b\b\b\b\b\b\b\b\b\b\b\b\b\b\b\b\b\b\b\b\b\b\b\b\b\b\b\b\b\b\b\b\b\b\b\b\b\b\b\b\b\b\b\b\b\b\b\b\b\b\b\b\b\b\b\b\b\b\b\b\b\b\b\b\b\b\b\b\b\b\r14/14 [==============================] - 1s 51ms/step - loss: 135.3951 - mae: 135.3951 - mse: 88947.6875 - val_loss: 584.3955 - val_mae: 584.3955 - val_mse: 1388934.3750\n",
            "Epoch 61/100\n",
            "14/14 [==============================] - 0s 7ms/step - loss: 139.0284 - mae: 139.0284 - mse: 93095.5859 - val_loss: 584.9880 - val_mae: 584.9880 - val_mse: 1391138.0000\n",
            "Epoch 62/100\n",
            "13/14 [==========================>...] - ETA: 0s - loss: 137.7252 - mae: 137.7252 - mse: 94320.5078 INFO:tensorflow:Assets written to: models/model_1_dense/assets\n"
          ]
        },
        {
          "output_type": "stream",
          "name": "stderr",
          "text": [
            "INFO:tensorflow:Assets written to: models/model_1_dense/assets\n"
          ]
        },
        {
          "output_type": "stream",
          "name": "stdout",
          "text": [
            "\b\b\b\b\b\b\b\b\b\b\b\b\b\b\b\b\b\b\b\b\b\b\b\b\b\b\b\b\b\b\b\b\b\b\b\b\b\b\b\b\b\b\b\b\b\b\b\b\b\b\b\b\b\b\b\b\b\b\b\b\b\b\b\b\b\b\b\b\b\b\b\b\b\b\b\b\b\b\b\b\b\b\b\b\b\b\b\b\b\b\b\b\b\b\b\b\b\b\b\r14/14 [==============================] - 1s 49ms/step - loss: 137.4404 - mae: 137.4404 - mse: 93706.3047 - val_loss: 581.4537 - val_mae: 581.4537 - val_mse: 1382257.3750\n",
            "Epoch 63/100\n",
            "14/14 [==============================] - 0s 8ms/step - loss: 132.4834 - mae: 132.4834 - mse: 88207.5078 - val_loss: 634.4350 - val_mae: 634.4350 - val_mse: 1481636.1250\n",
            "Epoch 64/100\n",
            "14/14 [==============================] - 0s 7ms/step - loss: 135.4466 - mae: 135.4466 - mse: 90275.6719 - val_loss: 713.3674 - val_mae: 713.3674 - val_mse: 1666185.1250\n",
            "Epoch 65/100\n",
            "14/14 [==============================] - 0s 7ms/step - loss: 136.5736 - mae: 136.5736 - mse: 87900.9844 - val_loss: 615.9663 - val_mae: 615.9663 - val_mse: 1441731.1250\n",
            "Epoch 66/100\n",
            "14/14 [==============================] - 0s 8ms/step - loss: 132.4134 - mae: 132.4134 - mse: 88252.6953 - val_loss: 609.4437 - val_mae: 609.4437 - val_mse: 1428662.5000\n",
            "Epoch 67/100\n",
            "13/14 [==========================>...] - ETA: 0s - loss: 136.2274 - mae: 136.2274 - mse: 90436.2656 INFO:tensorflow:Assets written to: models/model_1_dense/assets\n"
          ]
        },
        {
          "output_type": "stream",
          "name": "stderr",
          "text": [
            "INFO:tensorflow:Assets written to: models/model_1_dense/assets\n"
          ]
        },
        {
          "output_type": "stream",
          "name": "stdout",
          "text": [
            "\b\b\b\b\b\b\b\b\b\b\b\b\b\b\b\b\b\b\b\b\b\b\b\b\b\b\b\b\b\b\b\b\b\b\b\b\b\b\b\b\b\b\b\b\b\b\b\b\b\b\b\b\b\b\b\b\b\b\b\b\b\b\b\b\b\b\b\b\b\b\b\b\b\b\b\b\b\b\b\b\b\b\b\b\b\b\b\b\b\b\b\b\b\b\b\b\b\b\b\r14/14 [==============================] - 1s 48ms/step - loss: 137.7155 - mae: 137.7155 - mse: 92258.5547 - val_loss: 581.0270 - val_mae: 581.0270 - val_mse: 1372685.8750\n",
            "Epoch 68/100\n",
            "14/14 [==============================] - ETA: 0s - loss: 132.8793 - mae: 132.8793 - mse: 87388.2500 INFO:tensorflow:Assets written to: models/model_1_dense/assets\n"
          ]
        },
        {
          "output_type": "stream",
          "name": "stderr",
          "text": [
            "INFO:tensorflow:Assets written to: models/model_1_dense/assets\n"
          ]
        },
        {
          "output_type": "stream",
          "name": "stdout",
          "text": [
            "\b\b\b\b\b\b\b\b\b\b\b\b\b\b\b\b\b\b\b\b\b\b\b\b\b\b\b\b\b\b\b\b\b\b\b\b\b\b\b\b\b\b\b\b\b\b\b\b\b\b\b\b\b\b\b\b\b\b\b\b\b\b\b\b\b\b\b\b\b\b\b\b\b\b\b\b\b\b\b\b\b\b\b\b\b\b\b\b\b\b\b\b\b\b\b\b\b\b\b\r14/14 [==============================] - 1s 50ms/step - loss: 132.8793 - mae: 132.8793 - mse: 87388.2500 - val_loss: 578.4183 - val_mae: 578.4183 - val_mse: 1369048.6250\n",
            "Epoch 69/100\n",
            "14/14 [==============================] - 0s 7ms/step - loss: 136.6080 - mae: 136.6080 - mse: 91667.2188 - val_loss: 623.0688 - val_mae: 623.0688 - val_mse: 1455172.2500\n",
            "Epoch 70/100\n",
            "13/14 [==========================>...] - ETA: 0s - loss: 131.5812 - mae: 131.5812 - mse: 86518.8438INFO:tensorflow:Assets written to: models/model_1_dense/assets\n"
          ]
        },
        {
          "output_type": "stream",
          "name": "stderr",
          "text": [
            "INFO:tensorflow:Assets written to: models/model_1_dense/assets\n"
          ]
        },
        {
          "output_type": "stream",
          "name": "stdout",
          "text": [
            "\b\b\b\b\b\b\b\b\b\b\b\b\b\b\b\b\b\b\b\b\b\b\b\b\b\b\b\b\b\b\b\b\b\b\b\b\b\b\b\b\b\b\b\b\b\b\b\b\b\b\b\b\b\b\b\b\b\b\b\b\b\b\b\b\b\b\b\b\b\b\b\b\b\b\b\b\b\b\b\b\b\b\b\b\b\b\b\b\b\b\b\b\b\b\b\b\b\b\b\r14/14 [==============================] - 1s 48ms/step - loss: 132.1132 - mae: 132.1132 - mse: 86706.4609 - val_loss: 575.5281 - val_mae: 575.5281 - val_mse: 1365532.3750\n",
            "Epoch 71/100\n",
            "14/14 [==============================] - 0s 8ms/step - loss: 136.5641 - mae: 136.5641 - mse: 90064.2969 - val_loss: 592.4233 - val_mae: 592.4233 - val_mse: 1405433.3750\n",
            "Epoch 72/100\n",
            "14/14 [==============================] - ETA: 0s - loss: 144.6254 - mae: 144.6254 - mse: 96750.8672 INFO:tensorflow:Assets written to: models/model_1_dense/assets\n"
          ]
        },
        {
          "output_type": "stream",
          "name": "stderr",
          "text": [
            "INFO:tensorflow:Assets written to: models/model_1_dense/assets\n"
          ]
        },
        {
          "output_type": "stream",
          "name": "stdout",
          "text": [
            "\b\b\b\b\b\b\b\b\b\b\b\b\b\b\b\b\b\b\b\b\b\b\b\b\b\b\b\b\b\b\b\b\b\b\b\b\b\b\b\b\b\b\b\b\b\b\b\b\b\b\b\b\b\b\b\b\b\b\b\b\b\b\b\b\b\b\b\b\b\b\b\b\b\b\b\b\b\b\b\b\b\b\b\b\b\b\b\b\b\b\b\b\b\b\b\b\b\b\b\r14/14 [==============================] - 1s 48ms/step - loss: 144.6254 - mae: 144.6254 - mse: 96750.8672 - val_loss: 573.7808 - val_mae: 573.7808 - val_mse: 1360967.1250\n",
            "Epoch 73/100\n",
            "14/14 [==============================] - 0s 8ms/step - loss: 139.3172 - mae: 139.3172 - mse: 94009.5938 - val_loss: 582.0944 - val_mae: 582.0944 - val_mse: 1371706.7500\n",
            "Epoch 74/100\n",
            "14/14 [==============================] - 0s 8ms/step - loss: 138.3585 - mae: 138.3585 - mse: 90898.0391 - val_loss: 627.6675 - val_mae: 627.6675 - val_mse: 1460331.5000\n",
            "Epoch 75/100\n",
            "14/14 [==============================] - 0s 6ms/step - loss: 134.9120 - mae: 134.9120 - mse: 90793.5938 - val_loss: 595.4852 - val_mae: 595.4852 - val_mse: 1395538.3750\n",
            "Epoch 76/100\n",
            "14/14 [==============================] - ETA: 0s - loss: 131.5670 - mae: 131.5670 - mse: 87004.7031INFO:tensorflow:Assets written to: models/model_1_dense/assets\n"
          ]
        },
        {
          "output_type": "stream",
          "name": "stderr",
          "text": [
            "INFO:tensorflow:Assets written to: models/model_1_dense/assets\n"
          ]
        },
        {
          "output_type": "stream",
          "name": "stdout",
          "text": [
            "\b\b\b\b\b\b\b\b\b\b\b\b\b\b\b\b\b\b\b\b\b\b\b\b\b\b\b\b\b\b\b\b\b\b\b\b\b\b\b\b\b\b\b\b\b\b\b\b\b\b\b\b\b\b\b\b\b\b\b\b\b\b\b\b\b\b\b\b\b\b\b\b\b\b\b\b\b\b\b\b\b\b\b\b\b\b\b\b\b\b\b\b\b\b\b\b\b\b\b\r14/14 [==============================] - 1s 48ms/step - loss: 131.5670 - mae: 131.5670 - mse: 87004.7031 - val_loss: 571.1689 - val_mae: 571.1689 - val_mse: 1355656.6250\n",
            "Epoch 77/100\n",
            "14/14 [==============================] - 0s 8ms/step - loss: 137.9530 - mae: 137.9530 - mse: 91226.2734 - val_loss: 572.2129 - val_mae: 572.2129 - val_mse: 1353040.3750\n",
            "Epoch 78/100\n",
            "14/14 [==============================] - 0s 8ms/step - loss: 132.8780 - mae: 132.8780 - mse: 87069.3828 - val_loss: 614.7012 - val_mae: 614.7012 - val_mse: 1431259.2500\n",
            "Epoch 79/100\n",
            "14/14 [==============================] - 0s 7ms/step - loss: 139.8954 - mae: 139.8954 - mse: 91336.5938 - val_loss: 572.6580 - val_mae: 572.6580 - val_mse: 1359021.6250\n",
            "Epoch 80/100\n",
            "14/14 [==============================] - 0s 8ms/step - loss: 136.1005 - mae: 136.1005 - mse: 88409.0703 - val_loss: 574.0020 - val_mae: 574.0020 - val_mse: 1365526.5000\n",
            "Epoch 81/100\n",
            "14/14 [==============================] - 0s 7ms/step - loss: 131.8882 - mae: 131.8882 - mse: 87045.2891 - val_loss: 619.0408 - val_mae: 619.0408 - val_mse: 1439803.5000\n",
            "Epoch 82/100\n",
            "14/14 [==============================] - 0s 8ms/step - loss: 132.9580 - mae: 132.9580 - mse: 87392.1406 - val_loss: 645.8329 - val_mae: 645.8329 - val_mse: 1495721.5000\n",
            "Epoch 83/100\n",
            "14/14 [==============================] - 0s 7ms/step - loss: 138.6747 - mae: 138.6747 - mse: 90471.9141 - val_loss: 572.3862 - val_mae: 572.3862 - val_mse: 1355005.0000\n",
            "Epoch 84/100\n",
            "14/14 [==============================] - 0s 7ms/step - loss: 137.3543 - mae: 137.3543 - mse: 89357.9219 - val_loss: 583.7297 - val_mae: 583.7297 - val_mse: 1390722.0000\n",
            "Epoch 85/100\n",
            "14/14 [==============================] - 0s 8ms/step - loss: 133.2996 - mae: 133.2996 - mse: 86371.6797 - val_loss: 589.8181 - val_mae: 589.8181 - val_mse: 1381019.1250\n",
            "Epoch 86/100\n",
            "14/14 [==============================] - 0s 7ms/step - loss: 133.0356 - mae: 133.0356 - mse: 86740.5156 - val_loss: 668.2945 - val_mae: 668.2945 - val_mse: 1542845.8750\n",
            "Epoch 87/100\n",
            "14/14 [==============================] - 0s 8ms/step - loss: 132.3948 - mae: 132.3948 - mse: 86932.6953 - val_loss: 631.7612 - val_mae: 631.7610 - val_mse: 1463852.2500\n",
            "Epoch 88/100\n",
            "14/14 [==============================] - 0s 6ms/step - loss: 134.1900 - mae: 134.1900 - mse: 87667.3672 - val_loss: 605.9334 - val_mae: 605.9334 - val_mse: 1410855.6250\n",
            "Epoch 89/100\n",
            "14/14 [==============================] - 0s 8ms/step - loss: 130.2972 - mae: 130.2972 - mse: 85976.7422 - val_loss: 583.5166 - val_mae: 583.5166 - val_mse: 1369515.0000\n",
            "Epoch 90/100\n",
            "14/14 [==============================] - 0s 7ms/step - loss: 130.5934 - mae: 130.5934 - mse: 86242.9141 - val_loss: 586.5950 - val_mae: 586.5950 - val_mse: 1375031.1250\n",
            "Epoch 91/100\n",
            "13/14 [==========================>...] - ETA: 0s - loss: 138.4780 - mae: 138.4780 - mse: 92162.2188INFO:tensorflow:Assets written to: models/model_1_dense/assets\n"
          ]
        },
        {
          "output_type": "stream",
          "name": "stderr",
          "text": [
            "INFO:tensorflow:Assets written to: models/model_1_dense/assets\n"
          ]
        },
        {
          "output_type": "stream",
          "name": "stdout",
          "text": [
            "\b\b\b\b\b\b\b\b\b\b\b\b\b\b\b\b\b\b\b\b\b\b\b\b\b\b\b\b\b\b\b\b\b\b\b\b\b\b\b\b\b\b\b\b\b\b\b\b\b\b\b\b\b\b\b\b\b\b\b\b\b\b\b\b\b\b\b\b\b\b\b\b\b\b\b\b\b\b\b\b\b\b\b\b\b\b\b\b\b\b\b\b\b\b\b\b\b\b\b\r14/14 [==============================] - 1s 48ms/step - loss: 136.4020 - mae: 136.4020 - mse: 89194.8047 - val_loss: 565.7719 - val_mae: 565.7719 - val_mse: 1340969.0000\n",
            "Epoch 92/100\n",
            "14/14 [==============================] - 0s 7ms/step - loss: 130.1774 - mae: 130.1774 - mse: 85566.7188 - val_loss: 594.9121 - val_mae: 594.9121 - val_mse: 1388158.0000\n",
            "Epoch 93/100\n",
            "14/14 [==============================] - 0s 7ms/step - loss: 130.6894 - mae: 130.6894 - mse: 85181.8047 - val_loss: 659.2480 - val_mae: 659.2480 - val_mse: 1520064.2500\n",
            "Epoch 94/100\n",
            "14/14 [==============================] - 0s 7ms/step - loss: 138.7995 - mae: 138.7995 - mse: 89496.2031 - val_loss: 568.5506 - val_mae: 568.5506 - val_mse: 1350210.0000\n",
            "Epoch 95/100\n",
            "14/14 [==============================] - 0s 7ms/step - loss: 134.8216 - mae: 134.8216 - mse: 89024.4844 - val_loss: 571.6528 - val_mae: 571.6528 - val_mse: 1357251.6250\n",
            "Epoch 96/100\n",
            "14/14 [==============================] - 0s 7ms/step - loss: 132.5165 - mae: 132.5165 - mse: 87736.7734 - val_loss: 579.7820 - val_mae: 579.7820 - val_mse: 1375233.6250\n",
            "Epoch 97/100\n",
            "13/14 [==========================>...] - ETA: 0s - loss: 134.4558 - mae: 134.4558 - mse: 84768.2656 INFO:tensorflow:Assets written to: models/model_1_dense/assets\n"
          ]
        },
        {
          "output_type": "stream",
          "name": "stderr",
          "text": [
            "INFO:tensorflow:Assets written to: models/model_1_dense/assets\n"
          ]
        },
        {
          "output_type": "stream",
          "name": "stdout",
          "text": [
            "\b\b\b\b\b\b\b\b\b\b\b\b\b\b\b\b\b\b\b\b\b\b\b\b\b\b\b\b\b\b\b\b\b\b\b\b\b\b\b\b\b\b\b\b\b\b\b\b\b\b\b\b\b\b\b\b\b\b\b\b\b\b\b\b\b\b\b\b\b\b\b\b\b\b\b\b\b\b\b\b\b\b\b\b\b\b\b\b\b\b\b\b\b\b\b\b\b\b\b\r14/14 [==============================] - 1s 48ms/step - loss: 135.5739 - mae: 135.5739 - mse: 86971.9375 - val_loss: 565.1275 - val_mae: 565.1275 - val_mse: 1337065.0000\n",
            "Epoch 98/100\n",
            "14/14 [==============================] - 0s 7ms/step - loss: 130.7368 - mae: 130.7368 - mse: 85185.1016 - val_loss: 575.0678 - val_mae: 575.0678 - val_mse: 1363774.7500\n",
            "Epoch 99/100\n",
            " 1/14 [=>............................] - ETA: 0s - loss: 130.8216 - mae: 130.8216 - mse: 96000.4297INFO:tensorflow:Assets written to: models/model_1_dense/assets\n"
          ]
        },
        {
          "output_type": "stream",
          "name": "stderr",
          "text": [
            "INFO:tensorflow:Assets written to: models/model_1_dense/assets\n"
          ]
        },
        {
          "output_type": "stream",
          "name": "stdout",
          "text": [
            "\b\b\b\b\b\b\b\b\b\b\b\b\b\b\b\b\b\b\b\b\b\b\b\b\b\b\b\b\b\b\b\b\b\b\b\b\b\b\b\b\b\b\b\b\b\b\b\b\b\b\b\b\b\b\b\b\b\b\b\b\b\b\b\b\b\b\b\b\b\b\b\b\b\b\b\b\b\b\b\b\b\b\b\b\b\b\b\b\b\b\b\b\b\b\b\b\b\b\b\r14/14 [==============================] - 1s 48ms/step - loss: 131.0261 - mae: 131.0261 - mse: 83135.2656 - val_loss: 563.8820 - val_mae: 563.8820 - val_mse: 1339608.0000\n",
            "Epoch 100/100\n",
            "14/14 [==============================] - 0s 8ms/step - loss: 129.6634 - mae: 129.6634 - mse: 82576.5078 - val_loss: 571.8762 - val_mae: 571.8762 - val_mse: 1358417.1250\n"
          ]
        },
        {
          "output_type": "execute_result",
          "data": {
            "text/plain": [
              "<keras.callbacks.History at 0x7fa1d5281410>"
            ]
          },
          "metadata": {},
          "execution_count": 186
        }
      ]
    },
    {
      "cell_type": "code",
      "source": [
        "# Evaluate model on test data\n",
        "model_1.evaluate(test_windows, test_labels)\n",
        "# This is not the model's best performance, it is the last epoch's performance"
      ],
      "metadata": {
        "colab": {
          "base_uri": "https://localhost:8080/"
        },
        "id": "uQ8O8suZRkdn",
        "outputId": "679297d1-40f2-4fc1-9760-bfa6ff737b96"
      },
      "execution_count": null,
      "outputs": [
        {
          "output_type": "stream",
          "name": "stdout",
          "text": [
            "14/14 [==============================] - 0s 3ms/step - loss: 571.8762 - mae: 571.8762 - mse: 1358417.2500\n"
          ]
        },
        {
          "output_type": "execute_result",
          "data": {
            "text/plain": [
              "[571.8761596679688, 571.8761596679688, 1358417.25]"
            ]
          },
          "metadata": {},
          "execution_count": 187
        }
      ]
    },
    {
      "cell_type": "code",
      "source": [
        "# Load in saved best performing model_1 and evaluate on test data\n",
        "model_1 = tf.keras.models.load_model(\"models/model_1_dense\")\n",
        "model_1.evaluate(test_windows, test_labels)"
      ],
      "metadata": {
        "colab": {
          "base_uri": "https://localhost:8080/"
        },
        "id": "ZhtycAO6R_cr",
        "outputId": "3921118e-5ac4-44ca-d3ca-b283c4a290f6"
      },
      "execution_count": null,
      "outputs": [
        {
          "output_type": "stream",
          "name": "stdout",
          "text": [
            "14/14 [==============================] - 0s 3ms/step - loss: 563.8820 - mae: 563.8820 - mse: 1339608.0000\n"
          ]
        },
        {
          "output_type": "execute_result",
          "data": {
            "text/plain": [
              "[563.8819580078125, 563.8819580078125, 1339608.0]"
            ]
          },
          "metadata": {},
          "execution_count": 188
        }
      ]
    },
    {
      "cell_type": "markdown",
      "source": [
        "Ateps for making a forecast on the test dataset:\n",
        "* Take in a train model\n",
        "* Take in some input data (same kind of data the model was trained on)\n",
        "* Passes the input data to the model's `predict()` method\n",
        "* Returns the predictions"
      ],
      "metadata": {
        "id": "hzeZelno5imI"
      }
    },
    {
      "cell_type": "code",
      "source": [
        "## After evaluating the model, lets forecast using the model (it is pseudo forecast)\n",
        "def make_prediction(model, input_data):\n",
        "  forecast = model.predict(input_data)\n",
        "  return tf.squeeze(forecast) # Squeezing is needed because we are returning 1D array of predictions"
      ],
      "metadata": {
        "id": "hj3MunMSSHVP"
      },
      "execution_count": null,
      "outputs": []
    },
    {
      "cell_type": "code",
      "source": [
        "# Make predictions using model_1 on the test dataset and evaluate it on test data\n",
        "# Because of the model1 checkpoint, we are getting the predictions from the best performing model\n",
        "model_1_prediction = make_prediction(model_1, test_windows)\n",
        "len(model_1_prediction), model_1_prediction[:10]"
      ],
      "metadata": {
        "colab": {
          "base_uri": "https://localhost:8080/"
        },
        "id": "JpuRxymv6J0U",
        "outputId": "f31a926e-54bb-45e8-c6aa-d0ee2f31c693"
      },
      "execution_count": null,
      "outputs": [
        {
          "output_type": "execute_result",
          "data": {
            "text/plain": [
              "(446, <tf.Tensor: shape=(10,), dtype=float32, numpy=\n",
              " array([7325.8184, 7375.141 , 7473.6396, 7583.598 , 7968.247 , 8359.744 ,\n",
              "        8034.2114, 7894.658 , 8068.199 , 8165.1646], dtype=float32)>)"
            ]
          },
          "metadata": {},
          "execution_count": 190
        }
      ]
    },
    {
      "cell_type": "markdown",
      "source": [
        "The most common errors in machine learning is the input and output size"
      ],
      "metadata": {
        "id": "hic_SCb071LZ"
      }
    },
    {
      "cell_type": "code",
      "source": [
        "test_labels.shape, model_1_prediction.shape, tf.squeeze(test_labels).shape"
      ],
      "metadata": {
        "colab": {
          "base_uri": "https://localhost:8080/"
        },
        "id": "SGJPxLDw77M4",
        "outputId": "097aa010-e54e-49cb-b0c3-ad118ec480eb"
      },
      "execution_count": null,
      "outputs": [
        {
          "output_type": "execute_result",
          "data": {
            "text/plain": [
              "((446, 1), TensorShape([446]), TensorShape([446]))"
            ]
          },
          "metadata": {},
          "execution_count": 191
        }
      ]
    },
    {
      "cell_type": "code",
      "source": [
        "model_1_results = evaluate_preds(y_true=tf.squeeze(test_labels), y_pred=model_1_prediction)\n",
        "model_1_results"
      ],
      "metadata": {
        "colab": {
          "base_uri": "https://localhost:8080/"
        },
        "id": "VUrDorHm7RPv",
        "outputId": "960725fc-acd6-498b-a685-2d3890a14520"
      },
      "execution_count": null,
      "outputs": [
        {
          "output_type": "execute_result",
          "data": {
            "text/plain": [
              "{'mae': 563.88196,\n",
              " 'mape': 2.7862256,\n",
              " 'mase': 0.99867654,\n",
              " 'mse': 1339608.1,\n",
              " 'rmse': 1157.4144}"
            ]
          },
          "metadata": {},
          "execution_count": 192
        }
      ]
    },
    {
      "cell_type": "code",
      "source": [
        "naive_results"
      ],
      "metadata": {
        "id": "KOubaOdbSOrc",
        "colab": {
          "base_uri": "https://localhost:8080/"
        },
        "outputId": "95b28ffa-5095-4595-90d9-263671ec3820"
      },
      "execution_count": null,
      "outputs": [
        {
          "output_type": "execute_result",
          "data": {
            "text/plain": [
              "{'mae': 571.1008,\n",
              " 'mape': 2.7039125,\n",
              " 'mase': 0.99867797,\n",
              " 'mse': 1341613.6,\n",
              " 'rmse': 1158.2805}"
            ]
          },
          "metadata": {},
          "execution_count": 193
        }
      ]
    },
    {
      "cell_type": "code",
      "source": [
        "a = [1,2,3,4]\n",
        "a[-2:]"
      ],
      "metadata": {
        "colab": {
          "base_uri": "https://localhost:8080/"
        },
        "id": "zH-uHJ0H9hg4",
        "outputId": "0fda0fb2-553f-48d9-ac6a-90f5b4615ced"
      },
      "execution_count": null,
      "outputs": [
        {
          "output_type": "execute_result",
          "data": {
            "text/plain": [
              "[3, 4]"
            ]
          },
          "metadata": {},
          "execution_count": 194
        }
      ]
    },
    {
      "cell_type": "code",
      "source": [
        "len(X_test), len(test_windows)"
      ],
      "metadata": {
        "colab": {
          "base_uri": "https://localhost:8080/"
        },
        "id": "d-vquEKa9U1d",
        "outputId": "09f976cf-fa66-4c00-dbfc-243b264e0905"
      },
      "execution_count": null,
      "outputs": [
        {
          "output_type": "execute_result",
          "data": {
            "text/plain": [
              "(448, 446)"
            ]
          },
          "metadata": {},
          "execution_count": 195
        }
      ]
    },
    {
      "cell_type": "code",
      "source": [
        "# Plotting model-1 predictions\n",
        "plt.figure(figsize=(10,7))\n",
        "offset=400\n",
        "plot_time_series(timesteps=X_test[-len(test_windows):], values=test_labels[:, 0], start=offset, label='Test Data', format=\"-\")\n",
        "plot_time_series(timesteps=X_test[-len(test_windows):], values=model_1_prediction, start=offset, label=\"Model-1 prediction\", format='-')"
      ],
      "metadata": {
        "colab": {
          "base_uri": "https://localhost:8080/",
          "height": 442
        },
        "id": "N_1zpMlU8izq",
        "outputId": "cd124ada-60e6-47dd-d0e2-e1e6227367f6"
      },
      "execution_count": null,
      "outputs": [
        {
          "output_type": "display_data",
          "data": {
            "text/plain": [
              "<Figure size 720x504 with 1 Axes>"
            ],
            "image/png": "[encoded data removed]"
          },
          "metadata": {
            "needs_background": "light"
          }
        }
      ]
    },
    {
      "cell_type": "code",
      "source": [
        "# [:,0] means get every rows and get the zeroth dimenstion"
      ],
      "metadata": {
        "id": "VGziiCtA9H63"
      },
      "execution_count": null,
      "outputs": []
    },
    {
      "cell_type": "code",
      "source": [
        "# Autoregressive data is the reason for our prediction coming after the actual value"
      ],
      "metadata": {
        "id": "2qXzVh7AARY0"
      },
      "execution_count": null,
      "outputs": []
    },
    {
      "cell_type": "markdown",
      "source": [
        "### We can make a large horizon predictions (like a week prediction) and later use either mean metric or any other to make a one prediciton"
      ],
      "metadata": {
        "id": "LP4Z-aPao9io"
      }
    },
    {
      "cell_type": "code",
      "source": [
        "# Instead of prediction the exact prediction point, we can predict the prediction direction or prediction intervals like 99% prediction interval"
      ],
      "metadata": {
        "id": "eSRB5Il7pJgY"
      },
      "execution_count": null,
      "outputs": []
    },
    {
      "cell_type": "code",
      "source": [
        "## Model-2: Dense (Windows:30, Horizon:1)\n",
        "HORIZON=1\n",
        "WINDOW_SIZE=30"
      ],
      "metadata": {
        "id": "--RhZqV7pIkC"
      },
      "execution_count": null,
      "outputs": []
    },
    {
      "cell_type": "code",
      "source": [
        "# Make windowed data with appropriate horizon and window sizes\n",
        "full_windows, full_labels = make_windows(prices, window_size=WINDOW_SIZE, horizon=HORIZON)\n",
        "len(full_windows), len(full_labels)"
      ],
      "metadata": {
        "colab": {
          "base_uri": "https://localhost:8080/"
        },
        "id": "Kq5RB2ypCdhg",
        "outputId": "9e1ef6c6-ed32-4d5d-c757-b24414f5fb16"
      },
      "execution_count": null,
      "outputs": [
        {
          "output_type": "execute_result",
          "data": {
            "text/plain": [
              "(2206, 2206)"
            ]
          },
          "metadata": {},
          "execution_count": 201
        }
      ]
    },
    {
      "cell_type": "code",
      "source": [
        "# Make train and testing windows\n",
        "train_windows, test_windows, train_labels, test_labels = make_train_test_splits(windows=full_windows, labels=full_labels)\n",
        "len(train_windows), len(test_windows), len(train_labels), len(test_labels)"
      ],
      "metadata": {
        "colab": {
          "base_uri": "https://localhost:8080/"
        },
        "id": "sTswLjesC07N",
        "outputId": "5dcfb4aa-419b-43ce-be5d-95c57a848f16"
      },
      "execution_count": null,
      "outputs": [
        {
          "output_type": "execute_result",
          "data": {
            "text/plain": [
              "(1764, 442, 1764, 442)"
            ]
          },
          "metadata": {},
          "execution_count": 202
        }
      ]
    },
    {
      "cell_type": "code",
      "source": [
        "train_windows[:3]"
      ],
      "metadata": {
        "colab": {
          "base_uri": "https://localhost:8080/"
        },
        "id": "bsUKj1KwDO7j",
        "outputId": "151b615f-63e8-4c4b-ded7-f85099b9aa27"
      },
      "execution_count": null,
      "outputs": [
        {
          "output_type": "execute_result",
          "data": {
            "text/plain": [
              "array([[754.9 , 784.19, 809.4 , 828.79, 905.  , 919.24, 785.  , 824.76,\n",
              "        852.61, 896.59, 844.05, 823.  , 841.14, 814.4 , 797.2 , 842.07,\n",
              "        826.02, 812.  , 780.  , 806.8 , 751.95, 788.  , 794.21, 799.99,\n",
              "        803.  , 814.99, 782.33, 763.99, 705.01, 680.49],\n",
              "       [784.19, 809.4 , 828.79, 905.  , 919.24, 785.  , 824.76, 852.61,\n",
              "        896.59, 844.05, 823.  , 841.14, 814.4 , 797.2 , 842.07, 826.02,\n",
              "        812.  , 780.  , 806.8 , 751.95, 788.  , 794.21, 799.99, 803.  ,\n",
              "        814.99, 782.33, 763.99, 705.01, 680.49, 687.81],\n",
              "       [809.4 , 828.79, 905.  , 919.24, 785.  , 824.76, 852.61, 896.59,\n",
              "        844.05, 823.  , 841.14, 814.4 , 797.2 , 842.07, 826.02, 812.  ,\n",
              "        780.  , 806.8 , 751.95, 788.  , 794.21, 799.99, 803.  , 814.99,\n",
              "        782.33, 763.99, 705.01, 680.49, 687.81, 675.1 ]])"
            ]
          },
          "metadata": {},
          "execution_count": 203
        }
      ]
    },
    {
      "cell_type": "code",
      "source": [
        "len(prices)"
      ],
      "metadata": {
        "colab": {
          "base_uri": "https://localhost:8080/"
        },
        "id": "mUDcMaqfDZCT",
        "outputId": "ec6b8a7d-bb29-48a7-8185-5ac346130af4"
      },
      "execution_count": null,
      "outputs": [
        {
          "output_type": "execute_result",
          "data": {
            "text/plain": [
              "2236"
            ]
          },
          "metadata": {},
          "execution_count": 204
        }
      ]
    },
    {
      "cell_type": "code",
      "source": [
        "tf.random.set_seed(42)\n",
        "model_2 = tf.keras.Sequential([\n",
        "    layers.Dense(128, activation=\"relu\"),\n",
        "    layers.Dense(HORIZON, activation=\"relu\")\n",
        "], name=\"model_2_dense\")\n",
        "\n",
        "model_2.compile(loss='mae',\n",
        "                optimizer=tf.keras.optimizers.Adam())\n",
        "\n",
        "model_2.fit(train_windows,\n",
        "            train_labels,\n",
        "            epochs=100,\n",
        "            batch_size=128,\n",
        "            verbose=1,\n",
        "            validation_data=(test_windows, test_labels),\n",
        "            callbacks=[create_model_checkpoint(model_name=model_2.name)])"
      ],
      "metadata": {
        "colab": {
          "base_uri": "https://localhost:8080/"
        },
        "id": "RGmgNGQADmjt",
        "outputId": "cac04a44-5b56-4381-8f23-feef8f543df0"
      },
      "execution_count": null,
      "outputs": [
        {
          "output_type": "stream",
          "name": "stdout",
          "text": [
            "Epoch 1/100\n",
            " 1/14 [=>............................] - ETA: 5s - loss: 4251.6206INFO:tensorflow:Assets written to: models/model_2_dense/assets\n"
          ]
        },
        {
          "output_type": "stream",
          "name": "stderr",
          "text": [
            "INFO:tensorflow:Assets written to: models/model_2_dense/assets\n"
          ]
        },
        {
          "output_type": "stream",
          "name": "stdout",
          "text": [
            "\b\b\b\b\b\b\b\b\b\b\b\b\b\b\b\b\b\b\b\b\b\b\b\b\b\b\b\b\b\b\b\b\b\b\b\b\b\b\b\b\b\b\b\b\b\b\b\b\b\b\b\b\b\b\b\b\b\b\b\b\b\b\b\b\b\b\r14/14 [==============================] - 1s 56ms/step - loss: 1372.0996 - val_loss: 5363.8164\n",
            "Epoch 2/100\n",
            " 1/14 [=>............................] - ETA: 0s - loss: 897.0695INFO:tensorflow:Assets written to: models/model_2_dense/assets\n"
          ]
        },
        {
          "output_type": "stream",
          "name": "stderr",
          "text": [
            "INFO:tensorflow:Assets written to: models/model_2_dense/assets\n"
          ]
        },
        {
          "output_type": "stream",
          "name": "stdout",
          "text": [
            "\b\b\b\b\b\b\b\b\b\b\b\b\b\b\b\b\b\b\b\b\b\b\b\b\b\b\b\b\b\b\b\b\b\b\b\b\b\b\b\b\b\b\b\b\b\b\b\b\b\b\b\b\b\b\b\b\b\b\b\b\b\b\b\b\b\r14/14 [==============================] - 1s 43ms/step - loss: 606.1738 - val_loss: 3543.5481\n",
            "Epoch 3/100\n",
            " 1/14 [=>............................] - ETA: 0s - loss: 654.4217INFO:tensorflow:Assets written to: models/model_2_dense/assets\n"
          ]
        },
        {
          "output_type": "stream",
          "name": "stderr",
          "text": [
            "INFO:tensorflow:Assets written to: models/model_2_dense/assets\n"
          ]
        },
        {
          "output_type": "stream",
          "name": "stdout",
          "text": [
            "\b\b\b\b\b\b\b\b\b\b\b\b\b\b\b\b\b\b\b\b\b\b\b\b\b\b\b\b\b\b\b\b\b\b\b\b\b\b\b\b\b\b\b\b\b\b\b\b\b\b\b\b\b\b\b\b\b\b\b\b\b\b\b\b\b\r14/14 [==============================] - 1s 44ms/step - loss: 472.0771 - val_loss: 1521.0830\n",
            "Epoch 4/100\n",
            " 1/14 [=>............................] - ETA: 0s - loss: 266.4693INFO:tensorflow:Assets written to: models/model_2_dense/assets\n"
          ]
        },
        {
          "output_type": "stream",
          "name": "stderr",
          "text": [
            "INFO:tensorflow:Assets written to: models/model_2_dense/assets\n"
          ]
        },
        {
          "output_type": "stream",
          "name": "stdout",
          "text": [
            "\b\b\b\b\b\b\b\b\b\b\b\b\b\b\b\b\b\b\b\b\b\b\b\b\b\b\b\b\b\b\b\b\b\b\b\b\b\b\b\b\b\b\b\b\b\b\b\b\b\b\b\b\b\b\b\b\b\b\b\b\b\b\b\b\b\r14/14 [==============================] - 1s 46ms/step - loss: 311.1849 - val_loss: 1250.7550\n",
            "Epoch 5/100\n",
            " 1/14 [=>............................] - ETA: 0s - loss: 343.7678INFO:tensorflow:Assets written to: models/model_2_dense/assets\n"
          ]
        },
        {
          "output_type": "stream",
          "name": "stderr",
          "text": [
            "INFO:tensorflow:Assets written to: models/model_2_dense/assets\n"
          ]
        },
        {
          "output_type": "stream",
          "name": "stdout",
          "text": [
            "\b\b\b\b\b\b\b\b\b\b\b\b\b\b\b\b\b\b\b\b\b\b\b\b\b\b\b\b\b\b\b\b\b\b\b\b\b\b\b\b\b\b\b\b\b\b\b\b\b\b\b\b\b\b\b\b\b\b\b\b\b\b\b\b\b\r14/14 [==============================] - 1s 44ms/step - loss: 254.1111 - val_loss: 1091.2778\n",
            "Epoch 6/100\n",
            " 1/14 [=>............................] - ETA: 0s - loss: 221.1263INFO:tensorflow:Assets written to: models/model_2_dense/assets\n"
          ]
        },
        {
          "output_type": "stream",
          "name": "stderr",
          "text": [
            "INFO:tensorflow:Assets written to: models/model_2_dense/assets\n"
          ]
        },
        {
          "output_type": "stream",
          "name": "stdout",
          "text": [
            "\b\b\b\b\b\b\b\b\b\b\b\b\b\b\b\b\b\b\b\b\b\b\b\b\b\b\b\b\b\b\b\b\b\b\b\b\b\b\b\b\b\b\b\b\b\b\b\b\b\b\b\b\b\b\b\b\b\b\b\b\b\b\b\b\b\r14/14 [==============================] - 1s 71ms/step - loss: 237.3476 - val_loss: 1027.5642\n",
            "Epoch 7/100\n",
            " 1/14 [=>............................] - ETA: 0s - loss: 196.9706INFO:tensorflow:Assets written to: models/model_2_dense/assets\n"
          ]
        },
        {
          "output_type": "stream",
          "name": "stderr",
          "text": [
            "INFO:tensorflow:Assets written to: models/model_2_dense/assets\n"
          ]
        },
        {
          "output_type": "stream",
          "name": "stdout",
          "text": [
            "\b\b\b\b\b\b\b\b\b\b\b\b\b\b\b\b\b\b\b\b\b\b\b\b\b\b\b\b\b\b\b\b\b\b\b\b\b\b\b\b\b\b\b\b\b\b\b\b\b\b\b\b\b\b\b\b\b\b\b\b\b\b\b\b\b\r14/14 [==============================] - 1s 46ms/step - loss: 229.6923 - val_loss: 941.8699\n",
            "Epoch 8/100\n",
            "14/14 [==============================] - 0s 6ms/step - loss: 233.8298 - val_loss: 1318.6437\n",
            "Epoch 9/100\n",
            "14/14 [==============================] - 0s 6ms/step - loss: 243.0570 - val_loss: 1126.8372\n",
            "Epoch 10/100\n",
            " 1/14 [=>............................] - ETA: 0s - loss: 214.6198INFO:tensorflow:Assets written to: models/model_2_dense/assets\n"
          ]
        },
        {
          "output_type": "stream",
          "name": "stderr",
          "text": [
            "INFO:tensorflow:Assets written to: models/model_2_dense/assets\n"
          ]
        },
        {
          "output_type": "stream",
          "name": "stdout",
          "text": [
            "\b\b\b\b\b\b\b\b\b\b\b\b\b\b\b\b\b\b\b\b\b\b\b\b\b\b\b\b\b\b\b\b\b\b\b\b\b\b\b\b\b\b\b\b\b\b\b\b\b\b\b\b\b\b\b\b\b\b\b\b\b\b\b\b\b\r14/14 [==============================] - 1s 46ms/step - loss: 242.1604 - val_loss: 868.5416\n",
            "Epoch 11/100\n",
            "14/14 [==============================] - 0s 6ms/step - loss: 214.2319 - val_loss: 959.4741\n",
            "Epoch 12/100\n",
            " 1/14 [=>............................] - ETA: 0s - loss: 213.0576INFO:tensorflow:Assets written to: models/model_2_dense/assets\n"
          ]
        },
        {
          "output_type": "stream",
          "name": "stderr",
          "text": [
            "INFO:tensorflow:Assets written to: models/model_2_dense/assets\n"
          ]
        },
        {
          "output_type": "stream",
          "name": "stdout",
          "text": [
            "\b\b\b\b\b\b\b\b\b\b\b\b\b\b\b\b\b\b\b\b\b\b\b\b\b\b\b\b\b\b\b\b\b\b\b\b\b\b\b\b\b\b\b\b\b\b\b\b\b\b\b\b\b\b\b\b\b\b\b\b\b\b\b\b\b\r14/14 [==============================] - 1s 46ms/step - loss: 206.8291 - val_loss: 842.5629\n",
            "Epoch 13/100\n",
            " 1/14 [=>............................] - ETA: 0s - loss: 233.8888INFO:tensorflow:Assets written to: models/model_2_dense/assets\n"
          ]
        },
        {
          "output_type": "stream",
          "name": "stderr",
          "text": [
            "INFO:tensorflow:Assets written to: models/model_2_dense/assets\n"
          ]
        },
        {
          "output_type": "stream",
          "name": "stdout",
          "text": [
            "\b\b\b\b\b\b\b\b\b\b\b\b\b\b\b\b\b\b\b\b\b\b\b\b\b\b\b\b\b\b\b\b\b\b\b\b\b\b\b\b\b\b\b\b\b\b\b\b\b\b\b\b\b\b\b\b\b\b\b\b\b\b\b\b\b\r14/14 [==============================] - 1s 48ms/step - loss: 197.7834 - val_loss: 827.8760\n",
            "Epoch 14/100\n",
            "14/14 [==============================] - 0s 7ms/step - loss: 193.5604 - val_loss: 880.5116\n",
            "Epoch 15/100\n",
            " 1/14 [=>............................] - ETA: 0s - loss: 210.1398INFO:tensorflow:Assets written to: models/model_2_dense/assets\n"
          ]
        },
        {
          "output_type": "stream",
          "name": "stderr",
          "text": [
            "INFO:tensorflow:Assets written to: models/model_2_dense/assets\n"
          ]
        },
        {
          "output_type": "stream",
          "name": "stdout",
          "text": [
            "\b\b\b\b\b\b\b\b\b\b\b\b\b\b\b\b\b\b\b\b\b\b\b\b\b\b\b\b\b\b\b\b\b\b\b\b\b\b\b\b\b\b\b\b\b\b\b\b\b\b\b\b\b\b\b\b\b\b\b\b\b\b\b\b\b\r14/14 [==============================] - 1s 48ms/step - loss: 194.7650 - val_loss: 795.9081\n",
            "Epoch 16/100\n",
            "14/14 [==============================] - 0s 7ms/step - loss: 195.5183 - val_loss: 868.3561\n",
            "Epoch 17/100\n",
            "14/14 [==============================] - 0s 7ms/step - loss: 192.2065 - val_loss: 800.4167\n",
            "Epoch 18/100\n",
            " 1/14 [=>............................] - ETA: 0s - loss: 231.1131INFO:tensorflow:Assets written to: models/model_2_dense/assets\n"
          ]
        },
        {
          "output_type": "stream",
          "name": "stderr",
          "text": [
            "INFO:tensorflow:Assets written to: models/model_2_dense/assets\n"
          ]
        },
        {
          "output_type": "stream",
          "name": "stdout",
          "text": [
            "\b\b\b\b\b\b\b\b\b\b\b\b\b\b\b\b\b\b\b\b\b\b\b\b\b\b\b\b\b\b\b\b\b\b\b\b\b\b\b\b\b\b\b\b\b\b\b\b\b\b\b\b\b\b\b\b\b\b\b\b\b\b\b\b\b\r14/14 [==============================] - 1s 44ms/step - loss: 188.8398 - val_loss: 781.9801\n",
            "Epoch 19/100\n",
            " 1/14 [=>............................] - ETA: 0s - loss: 172.8582INFO:tensorflow:Assets written to: models/model_2_dense/assets\n"
          ]
        },
        {
          "output_type": "stream",
          "name": "stderr",
          "text": [
            "INFO:tensorflow:Assets written to: models/model_2_dense/assets\n"
          ]
        },
        {
          "output_type": "stream",
          "name": "stdout",
          "text": [
            "\b\b\b\b\b\b\b\b\b\b\b\b\b\b\b\b\b\b\b\b\b\b\b\b\b\b\b\b\b\b\b\b\b\b\b\b\b\b\b\b\b\b\b\b\b\b\b\b\b\b\b\b\b\b\b\b\b\b\b\b\b\b\b\b\b\r14/14 [==============================] - 1s 49ms/step - loss: 195.3169 - val_loss: 779.8920\n",
            "Epoch 20/100\n",
            " 1/14 [=>............................] - ETA: 0s - loss: 205.2815INFO:tensorflow:Assets written to: models/model_2_dense/assets\n"
          ]
        },
        {
          "output_type": "stream",
          "name": "stderr",
          "text": [
            "INFO:tensorflow:Assets written to: models/model_2_dense/assets\n"
          ]
        },
        {
          "output_type": "stream",
          "name": "stdout",
          "text": [
            "\b\b\b\b\b\b\b\b\b\b\b\b\b\b\b\b\b\b\b\b\b\b\b\b\b\b\b\b\b\b\b\b\b\b\b\b\b\b\b\b\b\b\b\b\b\b\b\b\b\b\b\b\b\b\b\b\b\b\b\b\b\b\b\b\b\r14/14 [==============================] - 1s 46ms/step - loss: 179.9776 - val_loss: 762.8174\n",
            "Epoch 21/100\n",
            "14/14 [==============================] - 0s 7ms/step - loss: 181.0282 - val_loss: 777.2593\n",
            "Epoch 22/100\n",
            " 1/14 [=>............................] - ETA: 0s - loss: 184.4480INFO:tensorflow:Assets written to: models/model_2_dense/assets\n"
          ]
        },
        {
          "output_type": "stream",
          "name": "stderr",
          "text": [
            "INFO:tensorflow:Assets written to: models/model_2_dense/assets\n"
          ]
        },
        {
          "output_type": "stream",
          "name": "stdout",
          "text": [
            "\b\b\b\b\b\b\b\b\b\b\b\b\b\b\b\b\b\b\b\b\b\b\b\b\b\b\b\b\b\b\b\b\b\b\b\b\b\b\b\b\b\b\b\b\b\b\b\b\b\b\b\b\b\b\b\b\b\b\b\b\b\b\b\b\b\r14/14 [==============================] - 1s 45ms/step - loss: 182.1305 - val_loss: 751.0550\n",
            "Epoch 23/100\n",
            " 1/14 [=>............................] - ETA: 0s - loss: 182.5091INFO:tensorflow:Assets written to: models/model_2_dense/assets\n"
          ]
        },
        {
          "output_type": "stream",
          "name": "stderr",
          "text": [
            "INFO:tensorflow:Assets written to: models/model_2_dense/assets\n"
          ]
        },
        {
          "output_type": "stream",
          "name": "stdout",
          "text": [
            "\b\b\b\b\b\b\b\b\b\b\b\b\b\b\b\b\b\b\b\b\b\b\b\b\b\b\b\b\b\b\b\b\b\b\b\b\b\b\b\b\b\b\b\b\b\b\b\b\b\b\b\b\b\b\b\b\b\b\b\b\b\b\b\b\b\r14/14 [==============================] - 1s 45ms/step - loss: 172.5988 - val_loss: 747.6547\n",
            "Epoch 24/100\n",
            "14/14 [==============================] - 0s 7ms/step - loss: 177.1282 - val_loss: 762.1643\n",
            "Epoch 25/100\n",
            "14/14 [==============================] - 0s 6ms/step - loss: 174.5819 - val_loss: 815.0490\n",
            "Epoch 26/100\n",
            "14/14 [==============================] - 0s 7ms/step - loss: 185.1629 - val_loss: 922.8735\n",
            "Epoch 27/100\n",
            "14/14 [==============================] - 0s 6ms/step - loss: 177.9686 - val_loss: 822.9124\n",
            "Epoch 28/100\n",
            "14/14 [==============================] - 0s 6ms/step - loss: 183.6470 - val_loss: 788.9307\n",
            "Epoch 29/100\n",
            "14/14 [==============================] - 0s 6ms/step - loss: 175.5605 - val_loss: 748.1068\n",
            "Epoch 30/100\n",
            " 1/14 [=>............................] - ETA: 0s - loss: 159.2082INFO:tensorflow:Assets written to: models/model_2_dense/assets\n"
          ]
        },
        {
          "output_type": "stream",
          "name": "stderr",
          "text": [
            "INFO:tensorflow:Assets written to: models/model_2_dense/assets\n"
          ]
        },
        {
          "output_type": "stream",
          "name": "stdout",
          "text": [
            "\b\b\b\b\b\b\b\b\b\b\b\b\b\b\b\b\b\b\b\b\b\b\b\b\b\b\b\b\b\b\b\b\b\b\b\b\b\b\b\b\b\b\b\b\b\b\b\b\b\b\b\b\b\b\b\b\b\b\b\b\b\b\b\b\b\r14/14 [==============================] - 1s 46ms/step - loss: 167.1365 - val_loss: 725.1519\n",
            "Epoch 31/100\n",
            "14/14 [==============================] - 0s 6ms/step - loss: 185.5827 - val_loss: 944.4926\n",
            "Epoch 32/100\n",
            "14/14 [==============================] - 0s 6ms/step - loss: 188.8088 - val_loss: 736.0702\n",
            "Epoch 33/100\n",
            " 1/14 [=>............................] - ETA: 0s - loss: 174.9070INFO:tensorflow:Assets written to: models/model_2_dense/assets\n"
          ]
        },
        {
          "output_type": "stream",
          "name": "stderr",
          "text": [
            "INFO:tensorflow:Assets written to: models/model_2_dense/assets\n"
          ]
        },
        {
          "output_type": "stream",
          "name": "stdout",
          "text": [
            "\b\b\b\b\b\b\b\b\b\b\b\b\b\b\b\b\b\b\b\b\b\b\b\b\b\b\b\b\b\b\b\b\b\b\b\b\b\b\b\b\b\b\b\b\b\b\b\b\b\b\b\b\b\b\b\b\b\b\b\b\b\b\b\b\b\r14/14 [==============================] - 1s 45ms/step - loss: 170.7866 - val_loss: 704.1850\n",
            "Epoch 34/100\n",
            "14/14 [==============================] - 0s 6ms/step - loss: 167.6221 - val_loss: 767.9929\n",
            "Epoch 35/100\n",
            " 1/14 [=>............................] - ETA: 0s - loss: 127.4080INFO:tensorflow:Assets written to: models/model_2_dense/assets\n"
          ]
        },
        {
          "output_type": "stream",
          "name": "stderr",
          "text": [
            "INFO:tensorflow:Assets written to: models/model_2_dense/assets\n"
          ]
        },
        {
          "output_type": "stream",
          "name": "stdout",
          "text": [
            "\b\b\b\b\b\b\b\b\b\b\b\b\b\b\b\b\b\b\b\b\b\b\b\b\b\b\b\b\b\b\b\b\b\b\b\b\b\b\b\b\b\b\b\b\b\b\b\b\b\b\b\b\b\b\b\b\b\b\b\b\b\b\b\b\b\r14/14 [==============================] - 1s 44ms/step - loss: 162.1399 - val_loss: 704.1454\n",
            "Epoch 36/100\n",
            "14/14 [==============================] - 0s 7ms/step - loss: 196.6371 - val_loss: 712.7943\n",
            "Epoch 37/100\n",
            " 1/14 [=>............................] - ETA: 0s - loss: 181.9679INFO:tensorflow:Assets written to: models/model_2_dense/assets\n"
          ]
        },
        {
          "output_type": "stream",
          "name": "stderr",
          "text": [
            "INFO:tensorflow:Assets written to: models/model_2_dense/assets\n"
          ]
        },
        {
          "output_type": "stream",
          "name": "stdout",
          "text": [
            "\b\b\b\b\b\b\b\b\b\b\b\b\b\b\b\b\b\b\b\b\b\b\b\b\b\b\b\b\b\b\b\b\b\b\b\b\b\b\b\b\b\b\b\b\b\b\b\b\b\b\b\b\b\b\b\b\b\b\b\b\b\b\b\b\b\r14/14 [==============================] - 1s 44ms/step - loss: 163.3848 - val_loss: 692.4246\n",
            "Epoch 38/100\n",
            "14/14 [==============================] - 0s 7ms/step - loss: 167.1173 - val_loss: 697.5242\n",
            "Epoch 39/100\n",
            "14/14 [==============================] - 0s 6ms/step - loss: 162.2582 - val_loss: 831.6859\n",
            "Epoch 40/100\n",
            "14/14 [==============================] - 0s 6ms/step - loss: 170.4290 - val_loss: 775.2582\n",
            "Epoch 41/100\n",
            "14/14 [==============================] - 0s 6ms/step - loss: 178.0286 - val_loss: 693.6858\n",
            "Epoch 42/100\n",
            "14/14 [==============================] - 0s 7ms/step - loss: 158.1630 - val_loss: 766.2222\n",
            "Epoch 43/100\n",
            "14/14 [==============================] - 0s 6ms/step - loss: 169.3176 - val_loss: 709.9193\n",
            "Epoch 44/100\n",
            "14/14 [==============================] - 0s 7ms/step - loss: 158.7215 - val_loss: 785.0952\n",
            "Epoch 45/100\n",
            " 1/14 [=>............................] - ETA: 0s - loss: 149.6550INFO:tensorflow:Assets written to: models/model_2_dense/assets\n"
          ]
        },
        {
          "output_type": "stream",
          "name": "stderr",
          "text": [
            "INFO:tensorflow:Assets written to: models/model_2_dense/assets\n"
          ]
        },
        {
          "output_type": "stream",
          "name": "stdout",
          "text": [
            "\b\b\b\b\b\b\b\b\b\b\b\b\b\b\b\b\b\b\b\b\b\b\b\b\b\b\b\b\b\b\b\b\b\b\b\b\b\b\b\b\b\b\b\b\b\b\b\b\b\b\b\b\b\b\b\b\b\b\b\b\b\b\b\b\b\r14/14 [==============================] - 1s 43ms/step - loss: 173.5923 - val_loss: 691.3474\n",
            "Epoch 46/100\n",
            " 1/14 [=>............................] - ETA: 0s - loss: 167.9112INFO:tensorflow:Assets written to: models/model_2_dense/assets\n"
          ]
        },
        {
          "output_type": "stream",
          "name": "stderr",
          "text": [
            "INFO:tensorflow:Assets written to: models/model_2_dense/assets\n"
          ]
        },
        {
          "output_type": "stream",
          "name": "stdout",
          "text": [
            "\b\b\b\b\b\b\b\b\b\b\b\b\b\b\b\b\b\b\b\b\b\b\b\b\b\b\b\b\b\b\b\b\b\b\b\b\b\b\b\b\b\b\b\b\b\b\b\b\b\b\b\b\b\b\b\b\b\b\b\b\b\b\b\b\b\r14/14 [==============================] - 1s 45ms/step - loss: 165.3671 - val_loss: 668.8582\n",
            "Epoch 47/100\n",
            " 1/14 [=>............................] - ETA: 0s - loss: 157.2963INFO:tensorflow:Assets written to: models/model_2_dense/assets\n"
          ]
        },
        {
          "output_type": "stream",
          "name": "stderr",
          "text": [
            "INFO:tensorflow:Assets written to: models/model_2_dense/assets\n"
          ]
        },
        {
          "output_type": "stream",
          "name": "stdout",
          "text": [
            "\b\b\b\b\b\b\b\b\b\b\b\b\b\b\b\b\b\b\b\b\b\b\b\b\b\b\b\b\b\b\b\b\b\b\b\b\b\b\b\b\b\b\b\b\b\b\b\b\b\b\b\b\b\b\b\b\b\b\b\b\b\b\b\b\b\r14/14 [==============================] - 1s 42ms/step - loss: 153.9284 - val_loss: 666.6786\n",
            "Epoch 48/100\n",
            "14/14 [==============================] - 0s 7ms/step - loss: 151.8965 - val_loss: 666.7917\n",
            "Epoch 49/100\n",
            "14/14 [==============================] - 0s 7ms/step - loss: 159.5269 - val_loss: 679.0476\n",
            "Epoch 50/100\n",
            "14/14 [==============================] - 0s 6ms/step - loss: 152.6160 - val_loss: 717.6262\n",
            "Epoch 51/100\n",
            "14/14 [==============================] - 0s 5ms/step - loss: 161.3149 - val_loss: 882.5731\n",
            "Epoch 52/100\n",
            "14/14 [==============================] - 0s 7ms/step - loss: 179.0446 - val_loss: 706.7265\n",
            "Epoch 53/100\n",
            "14/14 [==============================] - 0s 6ms/step - loss: 149.7749 - val_loss: 693.0235\n",
            "Epoch 54/100\n",
            " 1/14 [=>............................] - ETA: 0s - loss: 135.2604INFO:tensorflow:Assets written to: models/model_2_dense/assets\n"
          ]
        },
        {
          "output_type": "stream",
          "name": "stderr",
          "text": [
            "INFO:tensorflow:Assets written to: models/model_2_dense/assets\n"
          ]
        },
        {
          "output_type": "stream",
          "name": "stdout",
          "text": [
            "\b\b\b\b\b\b\b\b\b\b\b\b\b\b\b\b\b\b\b\b\b\b\b\b\b\b\b\b\b\b\b\b\b\b\b\b\b\b\b\b\b\b\b\b\b\b\b\b\b\b\b\b\b\b\b\b\b\b\b\b\b\b\b\b\b\r14/14 [==============================] - 1s 43ms/step - loss: 150.4680 - val_loss: 651.1354\n",
            "Epoch 55/100\n",
            "14/14 [==============================] - 0s 7ms/step - loss: 163.9126 - val_loss: 961.8381\n",
            "Epoch 56/100\n",
            " 1/14 [=>............................] - ETA: 0s - loss: 228.1972INFO:tensorflow:Assets written to: models/model_2_dense/assets\n"
          ]
        },
        {
          "output_type": "stream",
          "name": "stderr",
          "text": [
            "INFO:tensorflow:Assets written to: models/model_2_dense/assets\n"
          ]
        },
        {
          "output_type": "stream",
          "name": "stdout",
          "text": [
            "\b\b\b\b\b\b\b\b\b\b\b\b\b\b\b\b\b\b\b\b\b\b\b\b\b\b\b\b\b\b\b\b\b\b\b\b\b\b\b\b\b\b\b\b\b\b\b\b\b\b\b\b\b\b\b\b\b\b\b\b\b\b\b\b\b\r14/14 [==============================] - 1s 43ms/step - loss: 179.6303 - val_loss: 649.1189\n",
            "Epoch 57/100\n",
            "14/14 [==============================] - 0s 6ms/step - loss: 158.5018 - val_loss: 673.2388\n",
            "Epoch 58/100\n",
            "14/14 [==============================] - 0s 7ms/step - loss: 156.2246 - val_loss: 668.3504\n",
            "Epoch 59/100\n",
            "14/14 [==============================] - ETA: 0s - loss: 157.1393INFO:tensorflow:Assets written to: models/model_2_dense/assets\n"
          ]
        },
        {
          "output_type": "stream",
          "name": "stderr",
          "text": [
            "INFO:tensorflow:Assets written to: models/model_2_dense/assets\n"
          ]
        },
        {
          "output_type": "stream",
          "name": "stdout",
          "text": [
            "\b\b\b\b\b\b\b\b\b\b\b\b\b\b\b\b\b\b\b\b\b\b\b\b\b\b\b\b\b\b\b\b\b\b\b\b\b\b\b\b\b\b\b\b\b\b\b\b\b\b\b\b\b\b\b\b\b\b\b\b\b\b\b\b\b\r14/14 [==============================] - 1s 71ms/step - loss: 157.1393 - val_loss: 638.1348\n",
            "Epoch 60/100\n",
            " 1/14 [=>............................] - ETA: 0s - loss: 136.9111INFO:tensorflow:Assets written to: models/model_2_dense/assets\n"
          ]
        },
        {
          "output_type": "stream",
          "name": "stderr",
          "text": [
            "INFO:tensorflow:Assets written to: models/model_2_dense/assets\n"
          ]
        },
        {
          "output_type": "stream",
          "name": "stdout",
          "text": [
            "\b\b\b\b\b\b\b\b\b\b\b\b\b\b\b\b\b\b\b\b\b\b\b\b\b\b\b\b\b\b\b\b\b\b\b\b\b\b\b\b\b\b\b\b\b\b\b\b\b\b\b\b\b\b\b\b\b\b\b\b\b\b\b\b\b\r14/14 [==============================] - 1s 47ms/step - loss: 165.5027 - val_loss: 637.2512\n",
            "Epoch 61/100\n",
            "14/14 [==============================] - 0s 6ms/step - loss: 150.3960 - val_loss: 690.5607\n",
            "Epoch 62/100\n",
            "14/14 [==============================] - 0s 7ms/step - loss: 171.5056 - val_loss: 650.1177\n",
            "Epoch 63/100\n",
            "14/14 [==============================] - 0s 6ms/step - loss: 152.6674 - val_loss: 638.6284\n",
            "Epoch 64/100\n",
            "14/14 [==============================] - 0s 6ms/step - loss: 145.7584 - val_loss: 651.7063\n",
            "Epoch 65/100\n",
            "14/14 [==============================] - 0s 6ms/step - loss: 154.8430 - val_loss: 775.8221\n",
            "Epoch 66/100\n",
            "14/14 [==============================] - 0s 7ms/step - loss: 168.4166 - val_loss: 755.4880\n",
            "Epoch 67/100\n",
            "14/14 [==============================] - 0s 7ms/step - loss: 145.4458 - val_loss: 690.6177\n",
            "Epoch 68/100\n",
            " 1/14 [=>............................] - ETA: 0s - loss: 183.7149INFO:tensorflow:Assets written to: models/model_2_dense/assets\n"
          ]
        },
        {
          "output_type": "stream",
          "name": "stderr",
          "text": [
            "INFO:tensorflow:Assets written to: models/model_2_dense/assets\n"
          ]
        },
        {
          "output_type": "stream",
          "name": "stdout",
          "text": [
            "\b\b\b\b\b\b\b\b\b\b\b\b\b\b\b\b\b\b\b\b\b\b\b\b\b\b\b\b\b\b\b\b\b\b\b\b\b\b\b\b\b\b\b\b\b\b\b\b\b\b\b\b\b\b\b\b\b\b\b\b\b\b\b\b\b\r14/14 [==============================] - 1s 45ms/step - loss: 163.5427 - val_loss: 626.4257\n",
            "Epoch 69/100\n",
            "14/14 [==============================] - 0s 6ms/step - loss: 169.1395 - val_loss: 820.4280\n",
            "Epoch 70/100\n",
            "14/14 [==============================] - 0s 6ms/step - loss: 162.1384 - val_loss: 670.5687\n",
            "Epoch 71/100\n",
            "14/14 [==============================] - 0s 8ms/step - loss: 161.3476 - val_loss: 901.2624\n",
            "Epoch 72/100\n",
            "14/14 [==============================] - 0s 7ms/step - loss: 198.9752 - val_loss: 659.7496\n",
            "Epoch 73/100\n",
            "14/14 [==============================] - 0s 6ms/step - loss: 146.3261 - val_loss: 629.3884\n",
            "Epoch 74/100\n",
            "14/14 [==============================] - 0s 6ms/step - loss: 150.2139 - val_loss: 854.9048\n",
            "Epoch 75/100\n",
            "14/14 [==============================] - 0s 6ms/step - loss: 172.9810 - val_loss: 762.2597\n",
            "Epoch 76/100\n",
            "14/14 [==============================] - 0s 6ms/step - loss: 167.1365 - val_loss: 799.0766\n",
            "Epoch 77/100\n",
            " 1/14 [=>............................] - ETA: 0s - loss: 218.8814INFO:tensorflow:Assets written to: models/model_2_dense/assets\n"
          ]
        },
        {
          "output_type": "stream",
          "name": "stderr",
          "text": [
            "INFO:tensorflow:Assets written to: models/model_2_dense/assets\n"
          ]
        },
        {
          "output_type": "stream",
          "name": "stdout",
          "text": [
            "\b\b\b\b\b\b\b\b\b\b\b\b\b\b\b\b\b\b\b\b\b\b\b\b\b\b\b\b\b\b\b\b\b\b\b\b\b\b\b\b\b\b\b\b\b\b\b\b\b\b\b\b\b\b\b\b\b\b\b\b\b\b\b\b\b\r14/14 [==============================] - 1s 45ms/step - loss: 155.2555 - val_loss: 617.2737\n",
            "Epoch 78/100\n",
            "14/14 [==============================] - 0s 6ms/step - loss: 144.1714 - val_loss: 685.4675\n",
            "Epoch 79/100\n",
            "14/14 [==============================] - 0s 6ms/step - loss: 146.7644 - val_loss: 619.8881\n",
            "Epoch 80/100\n",
            "14/14 [==============================] - 0s 6ms/step - loss: 150.7998 - val_loss: 825.6550\n",
            "Epoch 81/100\n",
            "14/14 [==============================] - 0s 6ms/step - loss: 163.7673 - val_loss: 649.8982\n",
            "Epoch 82/100\n",
            " 1/14 [=>............................] - ETA: 0s - loss: 96.0567INFO:tensorflow:Assets written to: models/model_2_dense/assets\n"
          ]
        },
        {
          "output_type": "stream",
          "name": "stderr",
          "text": [
            "INFO:tensorflow:Assets written to: models/model_2_dense/assets\n"
          ]
        },
        {
          "output_type": "stream",
          "name": "stdout",
          "text": [
            "\b\b\b\b\b\b\b\b\b\b\b\b\b\b\b\b\b\b\b\b\b\b\b\b\b\b\b\b\b\b\b\b\b\b\b\b\b\b\b\b\b\b\b\b\b\b\b\b\b\b\b\b\b\b\b\b\b\b\b\b\b\b\b\b\r14/14 [==============================] - 1s 45ms/step - loss: 141.1362 - val_loss: 613.8935\n",
            "Epoch 83/100\n",
            "14/14 [==============================] - 0s 6ms/step - loss: 140.1337 - val_loss: 622.0269\n",
            "Epoch 84/100\n",
            "14/14 [==============================] - 0s 7ms/step - loss: 147.6888 - val_loss: 747.1668\n",
            "Epoch 85/100\n",
            "14/14 [==============================] - 0s 7ms/step - loss: 148.8384 - val_loss: 614.3834\n",
            "Epoch 86/100\n",
            " 1/14 [=>............................] - ETA: 0s - loss: 117.5621INFO:tensorflow:Assets written to: models/model_2_dense/assets\n"
          ]
        },
        {
          "output_type": "stream",
          "name": "stderr",
          "text": [
            "INFO:tensorflow:Assets written to: models/model_2_dense/assets\n"
          ]
        },
        {
          "output_type": "stream",
          "name": "stdout",
          "text": [
            "\b\b\b\b\b\b\b\b\b\b\b\b\b\b\b\b\b\b\b\b\b\b\b\b\b\b\b\b\b\b\b\b\b\b\b\b\b\b\b\b\b\b\b\b\b\b\b\b\b\b\b\b\b\b\b\b\b\b\b\b\b\b\b\b\b\r14/14 [==============================] - 1s 46ms/step - loss: 148.6183 - val_loss: 611.5448\n",
            "Epoch 87/100\n",
            "14/14 [==============================] - 0s 7ms/step - loss: 149.7943 - val_loss: 627.4006\n",
            "Epoch 88/100\n",
            "14/14 [==============================] - 0s 6ms/step - loss: 143.3698 - val_loss: 700.4344\n",
            "Epoch 89/100\n",
            "14/14 [==============================] - 0s 6ms/step - loss: 145.3006 - val_loss: 1019.1062\n",
            "Epoch 90/100\n",
            "14/14 [==============================] - 0s 6ms/step - loss: 167.4211 - val_loss: 697.9085\n",
            "Epoch 91/100\n",
            " 1/14 [=>............................] - ETA: 0s - loss: 112.8359INFO:tensorflow:Assets written to: models/model_2_dense/assets\n"
          ]
        },
        {
          "output_type": "stream",
          "name": "stderr",
          "text": [
            "INFO:tensorflow:Assets written to: models/model_2_dense/assets\n"
          ]
        },
        {
          "output_type": "stream",
          "name": "stdout",
          "text": [
            "\b\b\b\b\b\b\b\b\b\b\b\b\b\b\b\b\b\b\b\b\b\b\b\b\b\b\b\b\b\b\b\b\b\b\b\b\b\b\b\b\b\b\b\b\b\b\b\b\b\b\b\b\b\b\b\b\b\b\b\b\b\b\b\b\b\r14/14 [==============================] - 1s 45ms/step - loss: 140.1350 - val_loss: 604.8782\n",
            "Epoch 92/100\n",
            "14/14 [==============================] - 0s 7ms/step - loss: 142.5664 - val_loss: 629.5065\n",
            "Epoch 93/100\n",
            "14/14 [==============================] - 0s 7ms/step - loss: 140.1753 - val_loss: 674.2047\n",
            "Epoch 94/100\n",
            "14/14 [==============================] - 0s 6ms/step - loss: 146.4852 - val_loss: 636.5905\n",
            "Epoch 95/100\n",
            "14/14 [==============================] - 0s 6ms/step - loss: 147.1512 - val_loss: 655.1958\n",
            "Epoch 96/100\n",
            "14/14 [==============================] - 0s 7ms/step - loss: 158.5683 - val_loss: 920.2260\n",
            "Epoch 97/100\n",
            "14/14 [==============================] - 0s 7ms/step - loss: 157.0666 - val_loss: 898.7682\n",
            "Epoch 98/100\n",
            " 1/14 [=>............................] - ETA: 0s - loss: 213.6150INFO:tensorflow:Assets written to: models/model_2_dense/assets\n"
          ]
        },
        {
          "output_type": "stream",
          "name": "stderr",
          "text": [
            "INFO:tensorflow:Assets written to: models/model_2_dense/assets\n"
          ]
        },
        {
          "output_type": "stream",
          "name": "stdout",
          "text": [
            "\b\b\b\b\b\b\b\b\b\b\b\b\b\b\b\b\b\b\b\b\b\b\b\b\b\b\b\b\b\b\b\b\b\b\b\b\b\b\b\b\b\b\b\b\b\b\b\b\b\b\b\b\b\b\b\b\b\b\b\b\b\b\b\b\b\r14/14 [==============================] - 1s 44ms/step - loss: 175.3379 - val_loss: 604.2959\n",
            "Epoch 99/100\n",
            "14/14 [==============================] - 0s 6ms/step - loss: 150.0565 - val_loss: 626.4244\n",
            "Epoch 100/100\n",
            "13/14 [==========================>...] - ETA: 0s - loss: 136.1120INFO:tensorflow:Assets written to: models/model_2_dense/assets\n"
          ]
        },
        {
          "output_type": "stream",
          "name": "stderr",
          "text": [
            "INFO:tensorflow:Assets written to: models/model_2_dense/assets\n"
          ]
        },
        {
          "output_type": "stream",
          "name": "stdout",
          "text": [
            "\b\b\b\b\b\b\b\b\b\b\b\b\b\b\b\b\b\b\b\b\b\b\b\b\b\b\b\b\b\b\b\b\b\b\b\b\b\b\b\b\b\b\b\b\b\b\b\b\b\b\b\b\b\b\b\b\b\b\b\b\b\b\b\b\b\r14/14 [==============================] - 1s 60ms/step - loss: 139.4721 - val_loss: 597.4157\n"
          ]
        },
        {
          "output_type": "execute_result",
          "data": {
            "text/plain": [
              "<keras.callbacks.History at 0x7fa1d5d9df50>"
            ]
          },
          "metadata": {},
          "execution_count": 205
        }
      ]
    },
    {
      "cell_type": "code",
      "source": [
        "# Evaluate model 2 on test data\n",
        "model_2.evaluate(test_windows, test_labels)"
      ],
      "metadata": {
        "colab": {
          "base_uri": "https://localhost:8080/"
        },
        "id": "KAkBjNtwEcI3",
        "outputId": "31262dee-1ae1-487c-9130-7fe02c2c3c1e"
      },
      "execution_count": null,
      "outputs": [
        {
          "output_type": "stream",
          "name": "stdout",
          "text": [
            "14/14 [==============================] - 0s 3ms/step - loss: 597.4157\n"
          ]
        },
        {
          "output_type": "execute_result",
          "data": {
            "text/plain": [
              "597.4157104492188"
            ]
          },
          "metadata": {},
          "execution_count": 206
        }
      ]
    },
    {
      "cell_type": "code",
      "source": [
        "model_2 = tf.keras.models.load_model(\"models/model_2_dense\")\n",
        "model_2.evaluate(test_windows, test_labels)"
      ],
      "metadata": {
        "colab": {
          "base_uri": "https://localhost:8080/"
        },
        "id": "fEfFv8K3FAxd",
        "outputId": "1cc90d53-28a7-4804-a744-757ae75bc9b6"
      },
      "execution_count": null,
      "outputs": [
        {
          "output_type": "stream",
          "name": "stdout",
          "text": [
            "14/14 [==============================] - 0s 3ms/step - loss: 597.4157\n"
          ]
        },
        {
          "output_type": "execute_result",
          "data": {
            "text/plain": [
              "597.4157104492188"
            ]
          },
          "metadata": {},
          "execution_count": 207
        }
      ]
    },
    {
      "cell_type": "code",
      "source": [
        "# Get the forecast predictions\n",
        "model_2_prediction = make_prediction(model=model_2, input_data=test_windows)"
      ],
      "metadata": {
        "id": "4tHJJ8dDFP_k"
      },
      "execution_count": null,
      "outputs": []
    },
    {
      "cell_type": "code",
      "source": [
        "# Evaluate the results for model-2 predictions\n",
        "model_2_results = evaluate_preds(y_true=tf.squeeze(test_labels), y_pred=model_2_prediction)\n",
        "model_2_results"
      ],
      "metadata": {
        "colab": {
          "base_uri": "https://localhost:8080/"
        },
        "id": "s1jCiQJRFpwv",
        "outputId": "bfb54326-4e64-48fd-892a-b8e4f8c0fa6a"
      },
      "execution_count": null,
      "outputs": [
        {
          "output_type": "execute_result",
          "data": {
            "text/plain": [
              "{'mae': 597.41565,\n",
              " 'mape': 2.8864303,\n",
              " 'mase': 0.9987878,\n",
              " 'mse': 1448184.1,\n",
              " 'rmse': 1203.4053}"
            ]
          },
          "metadata": {},
          "execution_count": 209
        }
      ]
    },
    {
      "cell_type": "code",
      "source": [
        "model_1_results"
      ],
      "metadata": {
        "colab": {
          "base_uri": "https://localhost:8080/"
        },
        "id": "wT2YG751F8Cl",
        "outputId": "cf647327-91ff-432e-ccec-c239f03dbd50"
      },
      "execution_count": null,
      "outputs": [
        {
          "output_type": "execute_result",
          "data": {
            "text/plain": [
              "{'mae': 563.88196,\n",
              " 'mape': 2.7862256,\n",
              " 'mase': 0.99867654,\n",
              " 'mse': 1339608.1,\n",
              " 'rmse': 1157.4144}"
            ]
          },
          "metadata": {},
          "execution_count": 210
        }
      ]
    },
    {
      "cell_type": "code",
      "source": [
        "# Task is to make a for-loop and create a 30 different models with 1-30 window size and check which one performs best with the horizon of 1."
      ],
      "metadata": {
        "id": "93X4PH8gGIOl"
      },
      "execution_count": null,
      "outputs": []
    },
    {
      "cell_type": "code",
      "source": [
        "offset=400\n",
        "plt.figure(figsize=(10,7))\n",
        "plot_time_series(timesteps=X_test[-len(test_windows):], values=test_labels[:,0], format=\"-\", start=offset, label=\"Test Data\")\n",
        "plot_time_series(timesteps=X_test[-len(test_windows):], values=model_2_prediction, format=\"-\", start=offset, label=\"Model-2 prediction\")"
      ],
      "metadata": {
        "colab": {
          "base_uri": "https://localhost:8080/"
        },
        "id": "TGgJjk-MGUm7",
        "outputId": "49a4d469-9604-4c85-fa22-9f5536a03b9b"
      },
      "execution_count": null,
      "outputs": [
        {
          "output_type": "display_data",
          "data": {
            "text/plain": [
              "<Figure size 720x504 with 1 Axes>"
            ],
            "image/png": "[encoded data removed]"
          },
          "metadata": {
            "needs_background": "light"
          }
        }
      ]
    },
    {
      "cell_type": "markdown",
      "source": [
        "## Model predictions are lagging the test data trend"
      ],
      "metadata": {
        "id": "11yRj9CDHN6f"
      }
    },
    {
      "cell_type": "markdown",
      "source": [
        "## Model 3: Dense (Window =30, Horizon =7)"
      ],
      "metadata": {
        "id": "mAf73gMgQH2U"
      }
    },
    {
      "cell_type": "code",
      "source": [
        "HORIZON =7\n",
        "WINDOW_SIZE = 30\n",
        "\n",
        "full_windows, full_labels = make_windows(prices, window_size=WINDOW_SIZE, horizon=HORIZON)\n",
        "len(full_windows), len(full_labels)"
      ],
      "metadata": {
        "colab": {
          "base_uri": "https://localhost:8080/"
        },
        "id": "raUGpNKiSo1Y",
        "outputId": "7f283224-93f5-4873-fdd0-d23ac095bd64"
      },
      "execution_count": null,
      "outputs": [
        {
          "output_type": "execute_result",
          "data": {
            "text/plain": [
              "(2200, 2200)"
            ]
          },
          "metadata": {},
          "execution_count": 213
        }
      ]
    },
    {
      "cell_type": "code",
      "source": [
        "train_windows, test_windows, train_labels, test_labels = make_train_test_splits(windows=full_windows, labels=full_labels)\n",
        "len(train_windows), len(test_windows), len(train_labels), len(test_labels)"
      ],
      "metadata": {
        "colab": {
          "base_uri": "https://localhost:8080/"
        },
        "id": "chskk58lS3ya",
        "outputId": "1a88a27f-24fb-41e5-db1e-d0972294cb18"
      },
      "execution_count": null,
      "outputs": [
        {
          "output_type": "execute_result",
          "data": {
            "text/plain": [
              "(1760, 440, 1760, 440)"
            ]
          },
          "metadata": {},
          "execution_count": 214
        }
      ]
    },
    {
      "cell_type": "code",
      "source": [
        "tf.random.set_seed(42)\n",
        "\n",
        "# Create model (same as model_1 except the different data input and output size)\n",
        "model_3 = tf.keras.Sequential([\n",
        "  layers.Dense(128, activation=\"relu\"),\n",
        "  layers.Dense(HORIZON)\n",
        "], name = \"model_3_dense\")\n",
        "\n",
        "# Compile\n",
        "model_3.compile(loss=\"MAE\", optimizer=tf.keras.optimizers.Adam())\n",
        "\n",
        "# Fit\n",
        "model_3.fit(train_windows,\n",
        "            train_labels,\n",
        "            batch_size = 128,\n",
        "            epochs=100,\n",
        "            verbose=0,\n",
        "            validation_data=(test_windows, test_labels),\n",
        "            callbacks=[create_model_checkpoint(model_name=model_3.name)])"
      ],
      "metadata": {
        "colab": {
          "base_uri": "https://localhost:8080/"
        },
        "id": "Uvz9y4YbTK5Z",
        "outputId": "2fd06e3f-5a32-41d9-8ee2-b2308f758682"
      },
      "execution_count": null,
      "outputs": [
        {
          "output_type": "stream",
          "name": "stdout",
          "text": [
            "INFO:tensorflow:Assets written to: models/model_3_dense/assets\n"
          ]
        },
        {
          "output_type": "stream",
          "name": "stderr",
          "text": [
            "INFO:tensorflow:Assets written to: models/model_3_dense/assets\n"
          ]
        },
        {
          "output_type": "stream",
          "name": "stdout",
          "text": [
            "INFO:tensorflow:Assets written to: models/model_3_dense/assets\n"
          ]
        },
        {
          "output_type": "stream",
          "name": "stderr",
          "text": [
            "INFO:tensorflow:Assets written to: models/model_3_dense/assets\n"
          ]
        },
        {
          "output_type": "stream",
          "name": "stdout",
          "text": [
            "INFO:tensorflow:Assets written to: models/model_3_dense/assets\n"
          ]
        },
        {
          "output_type": "stream",
          "name": "stderr",
          "text": [
            "INFO:tensorflow:Assets written to: models/model_3_dense/assets\n"
          ]
        },
        {
          "output_type": "stream",
          "name": "stdout",
          "text": [
            "INFO:tensorflow:Assets written to: models/model_3_dense/assets\n"
          ]
        },
        {
          "output_type": "stream",
          "name": "stderr",
          "text": [
            "INFO:tensorflow:Assets written to: models/model_3_dense/assets\n"
          ]
        },
        {
          "output_type": "stream",
          "name": "stdout",
          "text": [
            "INFO:tensorflow:Assets written to: models/model_3_dense/assets\n"
          ]
        },
        {
          "output_type": "stream",
          "name": "stderr",
          "text": [
            "INFO:tensorflow:Assets written to: models/model_3_dense/assets\n"
          ]
        },
        {
          "output_type": "stream",
          "name": "stdout",
          "text": [
            "INFO:tensorflow:Assets written to: models/model_3_dense/assets\n"
          ]
        },
        {
          "output_type": "stream",
          "name": "stderr",
          "text": [
            "INFO:tensorflow:Assets written to: models/model_3_dense/assets\n"
          ]
        },
        {
          "output_type": "stream",
          "name": "stdout",
          "text": [
            "INFO:tensorflow:Assets written to: models/model_3_dense/assets\n"
          ]
        },
        {
          "output_type": "stream",
          "name": "stderr",
          "text": [
            "INFO:tensorflow:Assets written to: models/model_3_dense/assets\n"
          ]
        },
        {
          "output_type": "stream",
          "name": "stdout",
          "text": [
            "INFO:tensorflow:Assets written to: models/model_3_dense/assets\n"
          ]
        },
        {
          "output_type": "stream",
          "name": "stderr",
          "text": [
            "INFO:tensorflow:Assets written to: models/model_3_dense/assets\n"
          ]
        },
        {
          "output_type": "stream",
          "name": "stdout",
          "text": [
            "INFO:tensorflow:Assets written to: models/model_3_dense/assets\n"
          ]
        },
        {
          "output_type": "stream",
          "name": "stderr",
          "text": [
            "INFO:tensorflow:Assets written to: models/model_3_dense/assets\n"
          ]
        },
        {
          "output_type": "stream",
          "name": "stdout",
          "text": [
            "INFO:tensorflow:Assets written to: models/model_3_dense/assets\n"
          ]
        },
        {
          "output_type": "stream",
          "name": "stderr",
          "text": [
            "INFO:tensorflow:Assets written to: models/model_3_dense/assets\n"
          ]
        },
        {
          "output_type": "stream",
          "name": "stdout",
          "text": [
            "INFO:tensorflow:Assets written to: models/model_3_dense/assets\n"
          ]
        },
        {
          "output_type": "stream",
          "name": "stderr",
          "text": [
            "INFO:tensorflow:Assets written to: models/model_3_dense/assets\n"
          ]
        },
        {
          "output_type": "stream",
          "name": "stdout",
          "text": [
            "INFO:tensorflow:Assets written to: models/model_3_dense/assets\n"
          ]
        },
        {
          "output_type": "stream",
          "name": "stderr",
          "text": [
            "INFO:tensorflow:Assets written to: models/model_3_dense/assets\n"
          ]
        },
        {
          "output_type": "stream",
          "name": "stdout",
          "text": [
            "INFO:tensorflow:Assets written to: models/model_3_dense/assets\n"
          ]
        },
        {
          "output_type": "stream",
          "name": "stderr",
          "text": [
            "INFO:tensorflow:Assets written to: models/model_3_dense/assets\n"
          ]
        },
        {
          "output_type": "stream",
          "name": "stdout",
          "text": [
            "INFO:tensorflow:Assets written to: models/model_3_dense/assets\n"
          ]
        },
        {
          "output_type": "stream",
          "name": "stderr",
          "text": [
            "INFO:tensorflow:Assets written to: models/model_3_dense/assets\n"
          ]
        },
        {
          "output_type": "stream",
          "name": "stdout",
          "text": [
            "INFO:tensorflow:Assets written to: models/model_3_dense/assets\n"
          ]
        },
        {
          "output_type": "stream",
          "name": "stderr",
          "text": [
            "INFO:tensorflow:Assets written to: models/model_3_dense/assets\n"
          ]
        },
        {
          "output_type": "stream",
          "name": "stdout",
          "text": [
            "INFO:tensorflow:Assets written to: models/model_3_dense/assets\n"
          ]
        },
        {
          "output_type": "stream",
          "name": "stderr",
          "text": [
            "INFO:tensorflow:Assets written to: models/model_3_dense/assets\n"
          ]
        },
        {
          "output_type": "stream",
          "name": "stdout",
          "text": [
            "INFO:tensorflow:Assets written to: models/model_3_dense/assets\n"
          ]
        },
        {
          "output_type": "stream",
          "name": "stderr",
          "text": [
            "INFO:tensorflow:Assets written to: models/model_3_dense/assets\n"
          ]
        },
        {
          "output_type": "stream",
          "name": "stdout",
          "text": [
            "INFO:tensorflow:Assets written to: models/model_3_dense/assets\n"
          ]
        },
        {
          "output_type": "stream",
          "name": "stderr",
          "text": [
            "INFO:tensorflow:Assets written to: models/model_3_dense/assets\n"
          ]
        },
        {
          "output_type": "stream",
          "name": "stdout",
          "text": [
            "INFO:tensorflow:Assets written to: models/model_3_dense/assets\n"
          ]
        },
        {
          "output_type": "stream",
          "name": "stderr",
          "text": [
            "INFO:tensorflow:Assets written to: models/model_3_dense/assets\n"
          ]
        },
        {
          "output_type": "stream",
          "name": "stdout",
          "text": [
            "INFO:tensorflow:Assets written to: models/model_3_dense/assets\n"
          ]
        },
        {
          "output_type": "stream",
          "name": "stderr",
          "text": [
            "INFO:tensorflow:Assets written to: models/model_3_dense/assets\n"
          ]
        },
        {
          "output_type": "stream",
          "name": "stdout",
          "text": [
            "INFO:tensorflow:Assets written to: models/model_3_dense/assets\n"
          ]
        },
        {
          "output_type": "stream",
          "name": "stderr",
          "text": [
            "INFO:tensorflow:Assets written to: models/model_3_dense/assets\n"
          ]
        },
        {
          "output_type": "stream",
          "name": "stdout",
          "text": [
            "INFO:tensorflow:Assets written to: models/model_3_dense/assets\n"
          ]
        },
        {
          "output_type": "stream",
          "name": "stderr",
          "text": [
            "INFO:tensorflow:Assets written to: models/model_3_dense/assets\n"
          ]
        },
        {
          "output_type": "stream",
          "name": "stdout",
          "text": [
            "INFO:tensorflow:Assets written to: models/model_3_dense/assets\n"
          ]
        },
        {
          "output_type": "stream",
          "name": "stderr",
          "text": [
            "INFO:tensorflow:Assets written to: models/model_3_dense/assets\n"
          ]
        },
        {
          "output_type": "stream",
          "name": "stdout",
          "text": [
            "INFO:tensorflow:Assets written to: models/model_3_dense/assets\n"
          ]
        },
        {
          "output_type": "stream",
          "name": "stderr",
          "text": [
            "INFO:tensorflow:Assets written to: models/model_3_dense/assets\n"
          ]
        },
        {
          "output_type": "execute_result",
          "data": {
            "text/plain": [
              "<keras.callbacks.History at 0x7fa1d5be5590>"
            ]
          },
          "metadata": {},
          "execution_count": 215
        }
      ]
    },
    {
      "cell_type": "code",
      "source": [
        "# Evaluate the model on the test data\n",
        "model_3.evaluate(x = test_windows, y=test_labels)"
      ],
      "metadata": {
        "colab": {
          "base_uri": "https://localhost:8080/"
        },
        "id": "_IvGHEpiUUtZ",
        "outputId": "2ba563fc-6249-4e9b-c4d5-ff7c2f9c0e4b"
      },
      "execution_count": null,
      "outputs": [
        {
          "output_type": "stream",
          "name": "stdout",
          "text": [
            "14/14 [==============================] - 0s 3ms/step - loss: 1171.5865\n"
          ]
        },
        {
          "output_type": "execute_result",
          "data": {
            "text/plain": [
              "1171.5865478515625"
            ]
          },
          "metadata": {},
          "execution_count": 216
        }
      ]
    },
    {
      "cell_type": "code",
      "source": [
        "# Load the best version of model_3 and evaluate\n",
        "model_3 = tf.keras.models.load_model(\"models/model_3_dense\")\n",
        "model_3.evaluate(x = test_windows, y=test_labels)\n",
        "\"\"\"\n",
        "  Here the errors are high compared to the other models\n",
        "  But, since we are predicting the price for 7 days, the\n",
        "  errors for all the days are added up to give higher value\n",
        "\n",
        "\"\"\""
      ],
      "metadata": {
        "colab": {
          "base_uri": "https://localhost:8080/",
          "height": 54
        },
        "id": "mSc-Jo_2VSfI",
        "outputId": "1e0ec01b-9c24-4df5-c127-472d4366ff2a"
      },
      "execution_count": null,
      "outputs": [
        {
          "output_type": "stream",
          "name": "stdout",
          "text": [
            "14/14 [==============================] - 0s 3ms/step - loss: 1161.2301\n"
          ]
        },
        {
          "output_type": "execute_result",
          "data": {
            "text/plain": [
              "'\\n  Here the errors are high compared to the other models\\n  But, since we are predicting the price for 7 days, the\\n  errors for all the days are added up to give higher value\\n\\n'"
            ],
            "application/vnd.google.colaboratory.intrinsic+json": {
              "type": "string"
            }
          },
          "metadata": {},
          "execution_count": 217
        }
      ]
    },
    {
      "cell_type": "code",
      "source": [
        "# Make predictions with model_3\n",
        "model_3_prediction = make_prediction(model_3, input_data=test_windows)\n",
        "model_3_prediction[:2]"
      ],
      "metadata": {
        "colab": {
          "base_uri": "https://localhost:8080/"
        },
        "id": "MY_laPhNVgYL",
        "outputId": "6977b68e-53c3-41f2-afd2-8cfe98a3d1a0"
      },
      "execution_count": null,
      "outputs": [
        {
          "output_type": "execute_result",
          "data": {
            "text/plain": [
              "<tf.Tensor: shape=(2, 7), dtype=float32, numpy=\n",
              "array([[7296.3564, 7394.4556, 7439.787 , 7275.1436, 7161.792 , 7393.26  ,\n",
              "        7215.575 ],\n",
              "       [7369.169 , 7385.024 , 7437.034 , 7376.398 , 7180.594 , 7426.9663,\n",
              "        7283.3745]], dtype=float32)>"
            ]
          },
          "metadata": {},
          "execution_count": 218
        }
      ]
    },
    {
      "cell_type": "code",
      "source": [
        "model_3_prediction.shape, model_2_prediction.shape"
      ],
      "metadata": {
        "colab": {
          "base_uri": "https://localhost:8080/"
        },
        "id": "4s-ZWyELW-rO",
        "outputId": "6f734d6c-7403-4167-aa89-08b7c799b3b7"
      },
      "execution_count": null,
      "outputs": [
        {
          "output_type": "execute_result",
          "data": {
            "text/plain": [
              "(TensorShape([440, 7]), TensorShape([442]))"
            ]
          },
          "metadata": {},
          "execution_count": 219
        }
      ]
    },
    {
      "cell_type": "code",
      "source": [
        "# Make our evaluation function work for larger horizons\n",
        "# returns error metrics in dictionary form:\n",
        "def evaluate_preds(y_true, y_pred):\n",
        "  y_true = tf.cast(y_true, dtype=tf.float32)\n",
        "  y_pred = tf.cast(y_pred, dtype=tf.float32)\n",
        "\n",
        "  # better to use the numpy version of these too\n",
        "  mae = tf.keras.metrics.mean_absolute_error(y_true, y_pred)\n",
        "  mse = tf.keras.metrics.mean_squared_error(y_true, y_pred) # puts and emphasis on outliers (all errors get squared)\n",
        "  rmse = tf.sqrt(mse)\n",
        "  mape = tf.keras.metrics.mean_absolute_percentage_error(y_true, y_pred)\n",
        "  mase = mase_(y_true, y_pred)\n",
        "  \n",
        "  # Account for different size metrics for longer horizons, we want to\n",
        "  # reduce metrics to a single value\n",
        "  if mae.ndim >0:\n",
        "    # Aggregating the model_3 mae results to a single value just like tensorflow does\n",
        "    mae = tf.reduce_mean(mae)\n",
        "    mse = tf.reduce_mean(mse)\n",
        "    rmse = tf.reduce_mean(rmse)\n",
        "    mape = tf.reduce_mean(mape)\n",
        "    mase = tf.reduce_mean(mase)\n",
        "\n",
        "  return_dict =  {\n",
        "                  \"mae\": mae.numpy(),\n",
        "                  \"mse\": mse.numpy(),\n",
        "                  \"rmse\": rmse.numpy(),\n",
        "                  \"mape\": mape.numpy(),\n",
        "                  \"mase\": mase.numpy()\n",
        "                  }\n",
        "  return return_dict"
      ],
      "metadata": {
        "id": "xh8bphmDZgDa"
      },
      "execution_count": null,
      "outputs": []
    },
    {
      "cell_type": "code",
      "source": [
        "# Evaluate model_3 results\n",
        "model_3_results = evaluate_preds(y_true=tf.squeeze(test_labels), y_pred=model_3_prediction)\n",
        "model_3_results"
      ],
      "metadata": {
        "colab": {
          "base_uri": "https://localhost:8080/"
        },
        "id": "D550wK0MVvsN",
        "outputId": "e22bf440-a185-431d-a15b-b0f3947fb4fc"
      },
      "execution_count": null,
      "outputs": [
        {
          "output_type": "execute_result",
          "data": {
            "text/plain": [
              "{'mae': 1161.2301,\n",
              " 'mape': 5.9157295,\n",
              " 'mase': 0.99872345,\n",
              " 'mse': 4623193.5,\n",
              " 'rmse': 1346.3054}"
            ]
          },
          "metadata": {},
          "execution_count": 221
        }
      ]
    },
    {
      "cell_type": "code",
      "source": [
        "model_3_prediction"
      ],
      "metadata": {
        "colab": {
          "base_uri": "https://localhost:8080/"
        },
        "id": "8xUojK3XbkmO",
        "outputId": "ecf56d9f-1d0f-4291-ac9d-6688bc5ea382"
      },
      "execution_count": null,
      "outputs": [
        {
          "output_type": "execute_result",
          "data": {
            "text/plain": [
              "<tf.Tensor: shape=(440, 7), dtype=float32, numpy=\n",
              "array([[ 7296.3564,  7394.4556,  7439.787 , ...,  7161.792 ,  7393.26  ,\n",
              "         7215.575 ],\n",
              "       [ 7369.169 ,  7385.024 ,  7437.034 , ...,  7180.594 ,  7426.9663,\n",
              "         7283.3745],\n",
              "       [ 7468.534 ,  7541.931 ,  7518.7905, ...,  7351.747 ,  7527.7417,\n",
              "         7314.0737],\n",
              "       ...,\n",
              "       [57371.    , 59756.73  , 60560.184 , ..., 58080.95  , 59730.83  ,\n",
              "        60661.54  ],\n",
              "       [57850.95  , 58096.12  , 59192.805 , ..., 57251.938 , 57038.86  ,\n",
              "        57387.24  ],\n",
              "       [56088.543 , 57150.184 , 57424.13  , ..., 54201.004 , 56655.28  ,\n",
              "        55820.11  ]], dtype=float32)>"
            ]
          },
          "metadata": {},
          "execution_count": 222
        }
      ]
    },
    {
      "cell_type": "code",
      "source": [
        "plt.figure(figsize=(10, 8))\n",
        "offset = 400\n",
        "plot_time_series(timesteps=X_test[-len(test_windows):], values = test_labels[:, 0], start=offset, format = \"-\", label=\"Test data\")\n",
        "plot_time_series(timesteps=X_test[-len(test_windows):], values= tf.reduce_mean(model_3_prediction, axis = 1), start=offset, label=\"Model-3 prediction\")"
      ],
      "metadata": {
        "colab": {
          "base_uri": "https://localhost:8080/",
          "height": 497
        },
        "id": "AD_SR2O0W72H",
        "outputId": "3602e551-6507-4138-e77b-177260664be2"
      },
      "execution_count": null,
      "outputs": [
        {
          "output_type": "display_data",
          "data": {
            "text/plain": [
              "<Figure size 720x576 with 1 Axes>"
            ],
            "image/png": "[encoded data removed]"
          },
          "metadata": {
            "needs_background": "light"
          }
        }
      ]
    },
    {
      "cell_type": "markdown",
      "source": [
        "### Usually, to visualize we need to reduce the dimension. But, I think I can make more accurate prediction by getting the prediction value of that day from each arrays"
      ],
      "metadata": {
        "id": "VNcyUtQ9aqdi"
      }
    },
    {
      "cell_type": "markdown",
      "source": [
        "## Comparing models"
      ],
      "metadata": {
        "id": "OZulHcBVcvzy"
      }
    },
    {
      "cell_type": "code",
      "source": [
        "pd.DataFrame({\"model_naive\": naive_results[\"mae\"],\n",
        "              \"model_1\": model_1_results[\"mae\"],\n",
        "              \"model_2\": model_2_results[\"mae\"],\n",
        "              \"model_3\": model_3_results[\"mae\"]\n",
        "              }, index = [\"mae\"]).plot(figsize=(12,8), kind=\"bar\")"
      ],
      "metadata": {
        "colab": {
          "base_uri": "https://localhost:8080/",
          "height": 513
        },
        "id": "Nq5lgpDKc6OP",
        "outputId": "c01174de-534d-4d8e-b525-24586096fc9f"
      },
      "execution_count": null,
      "outputs": [
        {
          "output_type": "execute_result",
          "data": {
            "text/plain": [
              "<matplotlib.axes._subplots.AxesSubplot at 0x7fa266163250>"
            ]
          },
          "metadata": {},
          "execution_count": 224
        },
        {
          "output_type": "display_data",
          "data": {
            "text/plain": [
              "<Figure size 864x576 with 1 Axes>"
            ],
            "image/png": "[encoded data removed]"
          },
          "metadata": {
            "needs_background": "light"
          }
        }
      ]
    },
    {
      "cell_type": "markdown",
      "source": [
        "# Naive model gives the good results because the bitcoin dataset is also a auto-correlated data; Timeseries follow significant autocorrelation."
      ],
      "metadata": {
        "id": "9wh-MSO-eTwH"
      }
    },
    {
      "cell_type": "markdown",
      "source": [
        "### The models are not CNN, maybe they are Recurrent Neural Networks (RNN)"
      ],
      "metadata": {
        "id": "wj8gwOT5fhQ2"
      }
    },
    {
      "cell_type": "markdown",
      "source": [
        "## Model-4: Conv1D"
      ],
      "metadata": {
        "id": "CjMo5r6eoMls"
      }
    },
    {
      "cell_type": "code",
      "source": [
        "HORIZON = 1\n",
        "WINDOW_SIZE = 7\n"
      ],
      "metadata": {
        "id": "WYFb2At_oVpd"
      },
      "execution_count": null,
      "outputs": []
    },
    {
      "cell_type": "code",
      "source": [
        "prices"
      ],
      "metadata": {
        "colab": {
          "base_uri": "https://localhost:8080/"
        },
        "id": "B81d8uqZw17x",
        "outputId": "9627e44c-50c1-437a-81c0-32072a08229a"
      },
      "execution_count": null,
      "outputs": [
        {
          "output_type": "execute_result",
          "data": {
            "text/plain": [
              "array([  754.9 ,   784.19,   809.4 , ..., 55871.93, 57788.15, 59069.29])"
            ]
          },
          "metadata": {},
          "execution_count": 226
        }
      ]
    },
    {
      "cell_type": "code",
      "source": [
        "# Create windowed data\n",
        "full_windows, full_labels = make_windows(prices, window_size=WINDOW_SIZE, horizon=HORIZON)\n",
        "len(full_windows), len(full_labels)"
      ],
      "metadata": {
        "colab": {
          "base_uri": "https://localhost:8080/"
        },
        "id": "OZzKJrHnoj16",
        "outputId": "b930a9e8-f71b-4f70-8fc8-e27572d131e0"
      },
      "execution_count": null,
      "outputs": [
        {
          "output_type": "execute_result",
          "data": {
            "text/plain": [
              "(2229, 2229)"
            ]
          },
          "metadata": {},
          "execution_count": 227
        }
      ]
    },
    {
      "cell_type": "code",
      "source": [
        "train_windows, test_windows, train_labels, test_labels = make_train_test_splits(full_windows, full_labels)"
      ],
      "metadata": {
        "id": "VEPQrFWjoz4W"
      },
      "execution_count": null,
      "outputs": []
    },
    {
      "cell_type": "markdown",
      "source": [
        "Tensorflow conv1D model uses temporal convolution.\n",
        "We need an input shape of: `(batch_size, timesteps, input_dim)`"
      ],
      "metadata": {
        "id": "cBXTGU8Yo72N"
      }
    },
    {
      "cell_type": "code",
      "source": [
        "# Current input shape of our data\n",
        "# which means one sample of training window\n",
        "# input_dim should be one because we want our model to use 1 week of data to predict 1 horizon at a time\n",
        "train_windows[0].shape"
      ],
      "metadata": {
        "colab": {
          "base_uri": "https://localhost:8080/"
        },
        "id": "_rNhEeBFpdpw",
        "outputId": "c9d63a27-eec9-46c0-df0d-2486c88d94fe"
      },
      "execution_count": null,
      "outputs": [
        {
          "output_type": "execute_result",
          "data": {
            "text/plain": [
              "(7,)"
            ]
          },
          "metadata": {},
          "execution_count": 229
        }
      ]
    },
    {
      "cell_type": "code",
      "source": [
        "# Before we pass our data to the conv1D layer, reshaping it:\n",
        "x = tf.constant(train_windows[0])\n",
        "x"
      ],
      "metadata": {
        "colab": {
          "base_uri": "https://localhost:8080/"
        },
        "id": "Mv_6peyepjsK",
        "outputId": "875dcde4-b0e0-4438-feaf-f91fedc38313"
      },
      "execution_count": null,
      "outputs": [
        {
          "output_type": "execute_result",
          "data": {
            "text/plain": [
              "<tf.Tensor: shape=(7,), dtype=float64, numpy=array([754.9 , 784.19, 809.4 , 828.79, 905.  , 919.24, 785.  ])>"
            ]
          },
          "metadata": {},
          "execution_count": 230
        }
      ]
    },
    {
      "cell_type": "code",
      "source": [
        "expand_dims_layer = layers.Lambda(lambda x: tf.expand_dims(x, axis=1)) # add an extra dimension for input dim\n",
        "# Instead of doing tf.expand_dims() directly, we are using lambda layers and the benefit of doing this\n",
        "# is that we can add this to a model"
      ],
      "metadata": {
        "id": "wQrxl7ihpmVu"
      },
      "execution_count": null,
      "outputs": []
    },
    {
      "cell_type": "code",
      "source": [
        "# Test out our lambda layer\n",
        "print(f\"Original shape: {x.shape}\") # WINDOW_SIZE\n",
        "print(f\"Expanded shape: {expand_dims_layer(x).shape}\")\n",
        "print(f\"Original values with expanded shape:\\n {expand_dims_layer(x)}\")"
      ],
      "metadata": {
        "colab": {
          "base_uri": "https://localhost:8080/"
        },
        "id": "mLh5UpXjqsG1",
        "outputId": "a40415d4-d652-4714-d0bd-ae4db1057686"
      },
      "execution_count": null,
      "outputs": [
        {
          "output_type": "stream",
          "name": "stdout",
          "text": [
            "Original shape: (7,)\n",
            "Expanded shape: (7, 1)\n",
            "Original values with expanded shape:\n",
            " [[754.9 ]\n",
            " [784.19]\n",
            " [809.4 ]\n",
            " [828.79]\n",
            " [905.  ]\n",
            " [919.24]\n",
            " [785.  ]]\n"
          ]
        }
      ]
    },
    {
      "cell_type": "code",
      "source": [
        "# Adjustments: 1000 epochs, 256 filters (multiples of 8)\n",
        "# Create model_4\n",
        "\n",
        "\n",
        "tf.random.set_seed(42)\n",
        "\n",
        "# Create Conv1D model\n",
        "model_4 = tf.keras.Sequential([\n",
        "  # expand_dims_layer\n",
        "  layers.Lambda(lambda k: tf.expand_dims(k, axis=1)), # firstly adjust the size of our input data\n",
        "  layers.Conv1D(filters=256, kernel_size=5, strides=1, padding=\"causal\", activation=\"relu\"),\n",
        "  layers.Dense(HORIZON)\n",
        "], name=\"model_4_conv1D\")\n",
        "\n",
        "# Compile model\n",
        "model_4.compile(loss=\"mae\",\n",
        "                optimizer=tf.keras.optimizers.Adam())\n",
        "\n",
        "# Fit model\n",
        "model_4.fit(train_windows, #if faced data cardinality error, do tf.stack(train_windows) or np.array(train_windows)\n",
        "            train_labels, \n",
        "            batch_size=128, \n",
        "            epochs=100, \n",
        "            verbose=0,\n",
        "            validation_data=(test_windows, test_labels),\n",
        "            callbacks=[create_model_checkpoint(model_name=model_4.name)]\n",
        "            )"
      ],
      "metadata": {
        "colab": {
          "base_uri": "https://localhost:8080/"
        },
        "id": "FUityxbArU0v",
        "outputId": "8439c600-f3c5-4561-d83d-b9ed207f663e"
      },
      "execution_count": null,
      "outputs": [
        {
          "output_type": "stream",
          "name": "stdout",
          "text": [
            "INFO:tensorflow:Assets written to: models/model_4_conv1D/assets\n"
          ]
        },
        {
          "output_type": "stream",
          "name": "stderr",
          "text": [
            "INFO:tensorflow:Assets written to: models/model_4_conv1D/assets\n"
          ]
        },
        {
          "output_type": "stream",
          "name": "stdout",
          "text": [
            "INFO:tensorflow:Assets written to: models/model_4_conv1D/assets\n"
          ]
        },
        {
          "output_type": "stream",
          "name": "stderr",
          "text": [
            "INFO:tensorflow:Assets written to: models/model_4_conv1D/assets\n"
          ]
        },
        {
          "output_type": "stream",
          "name": "stdout",
          "text": [
            "INFO:tensorflow:Assets written to: models/model_4_conv1D/assets\n"
          ]
        },
        {
          "output_type": "stream",
          "name": "stderr",
          "text": [
            "INFO:tensorflow:Assets written to: models/model_4_conv1D/assets\n"
          ]
        },
        {
          "output_type": "stream",
          "name": "stdout",
          "text": [
            "INFO:tensorflow:Assets written to: models/model_4_conv1D/assets\n"
          ]
        },
        {
          "output_type": "stream",
          "name": "stderr",
          "text": [
            "INFO:tensorflow:Assets written to: models/model_4_conv1D/assets\n"
          ]
        },
        {
          "output_type": "stream",
          "name": "stdout",
          "text": [
            "INFO:tensorflow:Assets written to: models/model_4_conv1D/assets\n"
          ]
        },
        {
          "output_type": "stream",
          "name": "stderr",
          "text": [
            "INFO:tensorflow:Assets written to: models/model_4_conv1D/assets\n"
          ]
        },
        {
          "output_type": "stream",
          "name": "stdout",
          "text": [
            "INFO:tensorflow:Assets written to: models/model_4_conv1D/assets\n"
          ]
        },
        {
          "output_type": "stream",
          "name": "stderr",
          "text": [
            "INFO:tensorflow:Assets written to: models/model_4_conv1D/assets\n"
          ]
        },
        {
          "output_type": "stream",
          "name": "stdout",
          "text": [
            "INFO:tensorflow:Assets written to: models/model_4_conv1D/assets\n"
          ]
        },
        {
          "output_type": "stream",
          "name": "stderr",
          "text": [
            "INFO:tensorflow:Assets written to: models/model_4_conv1D/assets\n"
          ]
        },
        {
          "output_type": "stream",
          "name": "stdout",
          "text": [
            "INFO:tensorflow:Assets written to: models/model_4_conv1D/assets\n"
          ]
        },
        {
          "output_type": "stream",
          "name": "stderr",
          "text": [
            "INFO:tensorflow:Assets written to: models/model_4_conv1D/assets\n"
          ]
        },
        {
          "output_type": "stream",
          "name": "stdout",
          "text": [
            "INFO:tensorflow:Assets written to: models/model_4_conv1D/assets\n"
          ]
        },
        {
          "output_type": "stream",
          "name": "stderr",
          "text": [
            "INFO:tensorflow:Assets written to: models/model_4_conv1D/assets\n"
          ]
        },
        {
          "output_type": "stream",
          "name": "stdout",
          "text": [
            "INFO:tensorflow:Assets written to: models/model_4_conv1D/assets\n"
          ]
        },
        {
          "output_type": "stream",
          "name": "stderr",
          "text": [
            "INFO:tensorflow:Assets written to: models/model_4_conv1D/assets\n"
          ]
        },
        {
          "output_type": "stream",
          "name": "stdout",
          "text": [
            "INFO:tensorflow:Assets written to: models/model_4_conv1D/assets\n"
          ]
        },
        {
          "output_type": "stream",
          "name": "stderr",
          "text": [
            "INFO:tensorflow:Assets written to: models/model_4_conv1D/assets\n"
          ]
        },
        {
          "output_type": "stream",
          "name": "stdout",
          "text": [
            "INFO:tensorflow:Assets written to: models/model_4_conv1D/assets\n"
          ]
        },
        {
          "output_type": "stream",
          "name": "stderr",
          "text": [
            "INFO:tensorflow:Assets written to: models/model_4_conv1D/assets\n"
          ]
        },
        {
          "output_type": "stream",
          "name": "stdout",
          "text": [
            "INFO:tensorflow:Assets written to: models/model_4_conv1D/assets\n"
          ]
        },
        {
          "output_type": "stream",
          "name": "stderr",
          "text": [
            "INFO:tensorflow:Assets written to: models/model_4_conv1D/assets\n"
          ]
        },
        {
          "output_type": "stream",
          "name": "stdout",
          "text": [
            "INFO:tensorflow:Assets written to: models/model_4_conv1D/assets\n"
          ]
        },
        {
          "output_type": "stream",
          "name": "stderr",
          "text": [
            "INFO:tensorflow:Assets written to: models/model_4_conv1D/assets\n"
          ]
        },
        {
          "output_type": "stream",
          "name": "stdout",
          "text": [
            "INFO:tensorflow:Assets written to: models/model_4_conv1D/assets\n"
          ]
        },
        {
          "output_type": "stream",
          "name": "stderr",
          "text": [
            "INFO:tensorflow:Assets written to: models/model_4_conv1D/assets\n"
          ]
        },
        {
          "output_type": "stream",
          "name": "stdout",
          "text": [
            "INFO:tensorflow:Assets written to: models/model_4_conv1D/assets\n"
          ]
        },
        {
          "output_type": "stream",
          "name": "stderr",
          "text": [
            "INFO:tensorflow:Assets written to: models/model_4_conv1D/assets\n"
          ]
        },
        {
          "output_type": "stream",
          "name": "stdout",
          "text": [
            "INFO:tensorflow:Assets written to: models/model_4_conv1D/assets\n"
          ]
        },
        {
          "output_type": "stream",
          "name": "stderr",
          "text": [
            "INFO:tensorflow:Assets written to: models/model_4_conv1D/assets\n"
          ]
        },
        {
          "output_type": "stream",
          "name": "stdout",
          "text": [
            "INFO:tensorflow:Assets written to: models/model_4_conv1D/assets\n"
          ]
        },
        {
          "output_type": "stream",
          "name": "stderr",
          "text": [
            "INFO:tensorflow:Assets written to: models/model_4_conv1D/assets\n"
          ]
        },
        {
          "output_type": "stream",
          "name": "stdout",
          "text": [
            "INFO:tensorflow:Assets written to: models/model_4_conv1D/assets\n"
          ]
        },
        {
          "output_type": "stream",
          "name": "stderr",
          "text": [
            "INFO:tensorflow:Assets written to: models/model_4_conv1D/assets\n"
          ]
        },
        {
          "output_type": "stream",
          "name": "stdout",
          "text": [
            "INFO:tensorflow:Assets written to: models/model_4_conv1D/assets\n"
          ]
        },
        {
          "output_type": "stream",
          "name": "stderr",
          "text": [
            "INFO:tensorflow:Assets written to: models/model_4_conv1D/assets\n"
          ]
        },
        {
          "output_type": "stream",
          "name": "stdout",
          "text": [
            "INFO:tensorflow:Assets written to: models/model_4_conv1D/assets\n"
          ]
        },
        {
          "output_type": "stream",
          "name": "stderr",
          "text": [
            "INFO:tensorflow:Assets written to: models/model_4_conv1D/assets\n"
          ]
        },
        {
          "output_type": "stream",
          "name": "stdout",
          "text": [
            "INFO:tensorflow:Assets written to: models/model_4_conv1D/assets\n"
          ]
        },
        {
          "output_type": "stream",
          "name": "stderr",
          "text": [
            "INFO:tensorflow:Assets written to: models/model_4_conv1D/assets\n"
          ]
        },
        {
          "output_type": "stream",
          "name": "stdout",
          "text": [
            "INFO:tensorflow:Assets written to: models/model_4_conv1D/assets\n"
          ]
        },
        {
          "output_type": "stream",
          "name": "stderr",
          "text": [
            "INFO:tensorflow:Assets written to: models/model_4_conv1D/assets\n"
          ]
        },
        {
          "output_type": "stream",
          "name": "stdout",
          "text": [
            "INFO:tensorflow:Assets written to: models/model_4_conv1D/assets\n"
          ]
        },
        {
          "output_type": "stream",
          "name": "stderr",
          "text": [
            "INFO:tensorflow:Assets written to: models/model_4_conv1D/assets\n"
          ]
        },
        {
          "output_type": "stream",
          "name": "stdout",
          "text": [
            "INFO:tensorflow:Assets written to: models/model_4_conv1D/assets\n"
          ]
        },
        {
          "output_type": "stream",
          "name": "stderr",
          "text": [
            "INFO:tensorflow:Assets written to: models/model_4_conv1D/assets\n"
          ]
        },
        {
          "output_type": "stream",
          "name": "stdout",
          "text": [
            "INFO:tensorflow:Assets written to: models/model_4_conv1D/assets\n"
          ]
        },
        {
          "output_type": "stream",
          "name": "stderr",
          "text": [
            "INFO:tensorflow:Assets written to: models/model_4_conv1D/assets\n"
          ]
        },
        {
          "output_type": "stream",
          "name": "stdout",
          "text": [
            "INFO:tensorflow:Assets written to: models/model_4_conv1D/assets\n"
          ]
        },
        {
          "output_type": "stream",
          "name": "stderr",
          "text": [
            "INFO:tensorflow:Assets written to: models/model_4_conv1D/assets\n"
          ]
        },
        {
          "output_type": "stream",
          "name": "stdout",
          "text": [
            "INFO:tensorflow:Assets written to: models/model_4_conv1D/assets\n"
          ]
        },
        {
          "output_type": "stream",
          "name": "stderr",
          "text": [
            "INFO:tensorflow:Assets written to: models/model_4_conv1D/assets\n"
          ]
        },
        {
          "output_type": "stream",
          "name": "stdout",
          "text": [
            "INFO:tensorflow:Assets written to: models/model_4_conv1D/assets\n"
          ]
        },
        {
          "output_type": "stream",
          "name": "stderr",
          "text": [
            "INFO:tensorflow:Assets written to: models/model_4_conv1D/assets\n"
          ]
        },
        {
          "output_type": "stream",
          "name": "stdout",
          "text": [
            "INFO:tensorflow:Assets written to: models/model_4_conv1D/assets\n"
          ]
        },
        {
          "output_type": "stream",
          "name": "stderr",
          "text": [
            "INFO:tensorflow:Assets written to: models/model_4_conv1D/assets\n"
          ]
        },
        {
          "output_type": "stream",
          "name": "stdout",
          "text": [
            "INFO:tensorflow:Assets written to: models/model_4_conv1D/assets\n"
          ]
        },
        {
          "output_type": "stream",
          "name": "stderr",
          "text": [
            "INFO:tensorflow:Assets written to: models/model_4_conv1D/assets\n"
          ]
        },
        {
          "output_type": "execute_result",
          "data": {
            "text/plain": [
              "<keras.callbacks.History at 0x7fa2664d1650>"
            ]
          },
          "metadata": {},
          "execution_count": 233
        }
      ]
    },
    {
      "cell_type": "code",
      "source": [
        "# train_windows, tf.stack(train_windows)"
      ],
      "metadata": {
        "id": "H0pl-NzjxJ9l"
      },
      "execution_count": null,
      "outputs": []
    },
    {
      "cell_type": "code",
      "source": [
        "model_4.summary()"
      ],
      "metadata": {
        "colab": {
          "base_uri": "https://localhost:8080/"
        },
        "id": "PAQvFjVmv9Nj",
        "outputId": "0be6c5cd-6a16-4401-83e8-581894ca2b05"
      },
      "execution_count": null,
      "outputs": [
        {
          "output_type": "stream",
          "name": "stdout",
          "text": [
            "Model: \"model_4_conv1D\"\n",
            "_________________________________________________________________\n",
            " Layer (type)                Output Shape              Param #   \n",
            "=================================================================\n",
            " lambda_4 (Lambda)           (None, 1, 7)              0         \n",
            "                                                                 \n",
            " conv1d_1 (Conv1D)           (None, 1, 256)            9216      \n",
            "                                                                 \n",
            " dense_14 (Dense)            (None, 1, 1)              257       \n",
            "                                                                 \n",
            "=================================================================\n",
            "Total params: 9,473\n",
            "Trainable params: 9,473\n",
            "Non-trainable params: 0\n",
            "_________________________________________________________________\n"
          ]
        }
      ]
    },
    {
      "cell_type": "code",
      "source": [
        "model_2.summary()"
      ],
      "metadata": {
        "colab": {
          "base_uri": "https://localhost:8080/"
        },
        "id": "QUTNbUHQyYtE",
        "outputId": "cb3dad70-5a01-4823-938c-ff97389cf088"
      },
      "execution_count": null,
      "outputs": [
        {
          "output_type": "stream",
          "name": "stdout",
          "text": [
            "Model: \"model_2_dense\"\n",
            "_________________________________________________________________\n",
            " Layer (type)                Output Shape              Param #   \n",
            "=================================================================\n",
            " dense_10 (Dense)            (None, 128)               3968      \n",
            "                                                                 \n",
            " dense_11 (Dense)            (None, 1)                 129       \n",
            "                                                                 \n",
            "=================================================================\n",
            "Total params: 4,097\n",
            "Trainable params: 4,097\n",
            "Non-trainable params: 0\n",
            "_________________________________________________________________\n"
          ]
        }
      ]
    },
    {
      "cell_type": "code",
      "source": [
        "model_4.evaluate(test_windows, test_labels)"
      ],
      "metadata": {
        "colab": {
          "base_uri": "https://localhost:8080/"
        },
        "id": "EiYM32ntydUA",
        "outputId": "1d363710-7a38-4803-cce2-d1d32f239b57"
      },
      "execution_count": null,
      "outputs": [
        {
          "output_type": "stream",
          "name": "stdout",
          "text": [
            "14/14 [==============================] - 0s 4ms/step - loss: 563.0298\n"
          ]
        },
        {
          "output_type": "execute_result",
          "data": {
            "text/plain": [
              "563.02978515625"
            ]
          },
          "metadata": {},
          "execution_count": 237
        }
      ]
    },
    {
      "cell_type": "code",
      "source": [
        "model_4 = tf.keras.models.load_model(\"models/model_4_conv1D\")\n",
        "model_4.evaluate(test_windows, test_labels)"
      ],
      "metadata": {
        "colab": {
          "base_uri": "https://localhost:8080/"
        },
        "id": "0aBSlzP-yhgp",
        "outputId": "6e828805-2b3d-4cf7-809b-20c70776c63d"
      },
      "execution_count": null,
      "outputs": [
        {
          "output_type": "stream",
          "name": "stdout",
          "text": [
            "14/14 [==============================] - 0s 5ms/step - loss: 563.0298\n"
          ]
        },
        {
          "output_type": "execute_result",
          "data": {
            "text/plain": [
              "563.02978515625"
            ]
          },
          "metadata": {},
          "execution_count": 238
        }
      ]
    },
    {
      "cell_type": "code",
      "source": [
        "# Model predictions\n",
        "model_4_preds = make_prediction(model_4, test_windows)\n",
        "model_4_preds[:5]"
      ],
      "metadata": {
        "colab": {
          "base_uri": "https://localhost:8080/"
        },
        "id": "vXhBw5eZyw0T",
        "outputId": "8f3318bb-7ec0-4ea5-c84a-22171f127a36"
      },
      "execution_count": null,
      "outputs": [
        {
          "output_type": "execute_result",
          "data": {
            "text/plain": [
              "<tf.Tensor: shape=(5,), dtype=float32, numpy=\n",
              "array([7327.7354, 7379.137 , 7467.457 , 7580.3633, 7953.0327],\n",
              "      dtype=float32)>"
            ]
          },
          "metadata": {},
          "execution_count": 239
        }
      ]
    },
    {
      "cell_type": "code",
      "source": [
        "# Evaluate predictions\n",
        "model_4_results = evaluate_preds(y_true=tf.squeeze(test_labels), y_pred=model_4_preds)\n",
        "model_4_results"
      ],
      "metadata": {
        "colab": {
          "base_uri": "https://localhost:8080/"
        },
        "id": "wO85vBCFy66C",
        "outputId": "642a994b-3629-49e9-fb56-87d1d9e5adbb"
      },
      "execution_count": null,
      "outputs": [
        {
          "output_type": "execute_result",
          "data": {
            "text/plain": [
              "{'mae': 563.02985,\n",
              " 'mape': 2.752843,\n",
              " 'mase': 0.99867654,\n",
              " 'mse': 1327197.2,\n",
              " 'rmse': 1152.0405}"
            ]
          },
          "metadata": {},
          "execution_count": 240
        }
      ]
    },
    {
      "cell_type": "code",
      "source": [
        "naive_results"
      ],
      "metadata": {
        "colab": {
          "base_uri": "https://localhost:8080/"
        },
        "id": "kpsrD5vwzMeQ",
        "outputId": "529276be-b3e3-48b4-d331-4c5d8a5f8138"
      },
      "execution_count": null,
      "outputs": [
        {
          "output_type": "execute_result",
          "data": {
            "text/plain": [
              "{'mae': 571.1008,\n",
              " 'mape': 2.7039125,\n",
              " 'mase': 0.99867797,\n",
              " 'mse': 1341613.6,\n",
              " 'rmse': 1158.2805}"
            ]
          },
          "metadata": {},
          "execution_count": 241
        }
      ]
    },
    {
      "cell_type": "markdown",
      "source": [
        "# Model 5: RNN (LSTM)"
      ],
      "metadata": {
        "id": "K6kZdGmkzjL4"
      }
    },
    {
      "cell_type": "code",
      "source": [
        "# See improving a model section of the bit-predict notebook\n",
        "tf.random.set_seed(42)\n",
        "\n",
        "# Make an LSTM model with the functional API\n",
        "inputs=layers.Input(shape=WINDOW_SIZE)\n",
        "x = layers.Lambda(lambda x: tf.expand_dims(x, axis=1))(inputs)\n",
        "# x = layers.LSTM(128, return_sequences=True)(x) # to create more than 1 hidden layer\n",
        "x = layers.LSTM(128, activation=\"relu\")(x) # default activation function is \"tanx\"\n",
        "# One of the way of improving the accuracy of neural network is adding more layers\n",
        "# x = layers.Dense(32, activation=\"relu\")(x)\n",
        "output = layers.Dense(HORIZON)(x)\n",
        "model_5 = tf.keras.Model(inputs=inputs, outputs=output, name=\"model_5_lstm\")\n",
        "\n",
        "# Compile\n",
        "model_5.compile(loss=\"mae\",\n",
        "                optimizer=tf.keras.optimizers.Adam())\n",
        "\n",
        "# Fit\n",
        "model_5.fit(train_windows,\n",
        "            train_labels,\n",
        "            epochs=100,\n",
        "            verbose=1,\n",
        "            batch_size=128,\n",
        "            validation_data=(test_windows, test_labels),\n",
        "            callbacks=[create_model_checkpoint(model_name=model_5.name)]\n",
        "            )\n",
        "\n"
      ],
      "metadata": {
        "colab": {
          "base_uri": "https://localhost:8080/"
        },
        "id": "TtY7ZSZHz59n",
        "outputId": "8b8333c1-c480-486d-f7d8-f1cb2f11751e"
      },
      "execution_count": null,
      "outputs": [
        {
          "output_type": "stream",
          "name": "stdout",
          "text": [
            "WARNING:tensorflow:Layer lstm_1 will not use cuDNN kernels since it doesn't meet the criteria. It will use a generic GPU kernel as fallback when running on GPU.\n"
          ]
        },
        {
          "output_type": "stream",
          "name": "stderr",
          "text": [
            "WARNING:tensorflow:Layer lstm_1 will not use cuDNN kernels since it doesn't meet the criteria. It will use a generic GPU kernel as fallback when running on GPU.\n"
          ]
        },
        {
          "output_type": "stream",
          "name": "stdout",
          "text": [
            "Epoch 1/100\n",
            "13/14 [==========================>...] - ETA: 0s - loss: 3158.7576INFO:tensorflow:Assets written to: models/model_5_lstm/assets\n"
          ]
        },
        {
          "output_type": "stream",
          "name": "stderr",
          "text": [
            "INFO:tensorflow:Assets written to: models/model_5_lstm/assets\n",
            "WARNING:absl:<keras.layers.recurrent.LSTMCell object at 0x7fa1d6f2b450> has the same name 'LSTMCell' as a built-in Keras object. Consider renaming <class 'keras.layers.recurrent.LSTMCell'> to avoid naming conflicts when loading with `tf.keras.models.load_model`. If renaming is not possible, pass the object in the `custom_objects` parameter of the load function.\n"
          ]
        },
        {
          "output_type": "stream",
          "name": "stdout",
          "text": [
            "\b\b\b\b\b\b\b\b\b\b\b\b\b\b\b\b\b\b\b\b\b\b\b\b\b\b\b\b\b\b\b\b\b\b\b\b\b\b\b\b\b\b\b\b\b\b\b\b\b\b\b\b\b\b\b\b\b\b\b\b\b\b\b\b\b\b\r14/14 [==============================] - 4s 208ms/step - loss: 3095.0969 - val_loss: 10997.6348\n",
            "Epoch 2/100\n",
            "13/14 [==========================>...] - ETA: 0s - loss: 1672.4941INFO:tensorflow:Assets written to: models/model_5_lstm/assets\n"
          ]
        },
        {
          "output_type": "stream",
          "name": "stderr",
          "text": [
            "INFO:tensorflow:Assets written to: models/model_5_lstm/assets\n",
            "WARNING:absl:<keras.layers.recurrent.LSTMCell object at 0x7fa1d6f2b450> has the same name 'LSTMCell' as a built-in Keras object. Consider renaming <class 'keras.layers.recurrent.LSTMCell'> to avoid naming conflicts when loading with `tf.keras.models.load_model`. If renaming is not possible, pass the object in the `custom_objects` parameter of the load function.\n"
          ]
        },
        {
          "output_type": "stream",
          "name": "stdout",
          "text": [
            "\b\b\b\b\b\b\b\b\b\b\b\b\b\b\b\b\b\b\b\b\b\b\b\b\b\b\b\b\b\b\b\b\b\b\b\b\b\b\b\b\b\b\b\b\b\b\b\b\b\b\b\b\b\b\b\b\b\b\b\b\b\b\b\b\b\b\r14/14 [==============================] - 2s 182ms/step - loss: 1626.9008 - val_loss: 3911.0088\n",
            "Epoch 3/100\n",
            "14/14 [==============================] - ETA: 0s - loss: 403.4806INFO:tensorflow:Assets written to: models/model_5_lstm/assets\n"
          ]
        },
        {
          "output_type": "stream",
          "name": "stderr",
          "text": [
            "INFO:tensorflow:Assets written to: models/model_5_lstm/assets\n",
            "WARNING:absl:<keras.layers.recurrent.LSTMCell object at 0x7fa1d6f2b450> has the same name 'LSTMCell' as a built-in Keras object. Consider renaming <class 'keras.layers.recurrent.LSTMCell'> to avoid naming conflicts when loading with `tf.keras.models.load_model`. If renaming is not possible, pass the object in the `custom_objects` parameter of the load function.\n"
          ]
        },
        {
          "output_type": "stream",
          "name": "stdout",
          "text": [
            "\b\b\b\b\b\b\b\b\b\b\b\b\b\b\b\b\b\b\b\b\b\b\b\b\b\b\b\b\b\b\b\b\b\b\b\b\b\b\b\b\b\b\b\b\b\b\b\b\b\b\b\b\b\b\b\b\b\b\b\b\b\b\b\b\b\r14/14 [==============================] - 3s 217ms/step - loss: 403.4806 - val_loss: 1469.0135\n",
            "Epoch 4/100\n",
            "14/14 [==============================] - ETA: 0s - loss: 290.4884INFO:tensorflow:Assets written to: models/model_5_lstm/assets\n"
          ]
        },
        {
          "output_type": "stream",
          "name": "stderr",
          "text": [
            "INFO:tensorflow:Assets written to: models/model_5_lstm/assets\n",
            "WARNING:absl:<keras.layers.recurrent.LSTMCell object at 0x7fa1d6f2b450> has the same name 'LSTMCell' as a built-in Keras object. Consider renaming <class 'keras.layers.recurrent.LSTMCell'> to avoid naming conflicts when loading with `tf.keras.models.load_model`. If renaming is not possible, pass the object in the `custom_objects` parameter of the load function.\n"
          ]
        },
        {
          "output_type": "stream",
          "name": "stdout",
          "text": [
            "\b\b\b\b\b\b\b\b\b\b\b\b\b\b\b\b\b\b\b\b\b\b\b\b\b\b\b\b\b\b\b\b\b\b\b\b\b\b\b\b\b\b\b\b\b\b\b\b\b\b\b\b\b\b\b\b\b\b\b\b\b\b\b\b\b\r14/14 [==============================] - 2s 182ms/step - loss: 290.4884 - val_loss: 1212.0912\n",
            "Epoch 5/100\n",
            "13/14 [==========================>...] - ETA: 0s - loss: 230.0776INFO:tensorflow:Assets written to: models/model_5_lstm/assets\n"
          ]
        },
        {
          "output_type": "stream",
          "name": "stderr",
          "text": [
            "INFO:tensorflow:Assets written to: models/model_5_lstm/assets\n",
            "WARNING:absl:<keras.layers.recurrent.LSTMCell object at 0x7fa1d6f2b450> has the same name 'LSTMCell' as a built-in Keras object. Consider renaming <class 'keras.layers.recurrent.LSTMCell'> to avoid naming conflicts when loading with `tf.keras.models.load_model`. If renaming is not possible, pass the object in the `custom_objects` parameter of the load function.\n"
          ]
        },
        {
          "output_type": "stream",
          "name": "stdout",
          "text": [
            "\b\b\b\b\b\b\b\b\b\b\b\b\b\b\b\b\b\b\b\b\b\b\b\b\b\b\b\b\b\b\b\b\b\b\b\b\b\b\b\b\b\b\b\b\b\b\b\b\b\b\b\b\b\b\b\b\b\b\b\b\b\b\b\b\b\r14/14 [==============================] - 2s 184ms/step - loss: 229.8725 - val_loss: 869.4639\n",
            "Epoch 6/100\n",
            "14/14 [==============================] - 0s 12ms/step - loss: 213.5283 - val_loss: 1007.1724\n",
            "Epoch 7/100\n",
            "14/14 [==============================] - 0s 11ms/step - loss: 214.5539 - val_loss: 916.8719\n",
            "Epoch 8/100\n",
            "14/14 [==============================] - 0s 13ms/step - loss: 210.3837 - val_loss: 929.8438\n",
            "Epoch 9/100\n",
            "14/14 [==============================] - 0s 12ms/step - loss: 209.0407 - val_loss: 894.3558\n",
            "Epoch 10/100\n",
            "14/14 [==============================] - 0s 12ms/step - loss: 208.1452 - val_loss: 947.1334\n",
            "Epoch 11/100\n",
            "14/14 [==============================] - 0s 13ms/step - loss: 207.1694 - val_loss: 873.8170\n",
            "Epoch 12/100\n",
            "14/14 [==============================] - 0s 12ms/step - loss: 205.8418 - val_loss: 876.9940\n",
            "Epoch 13/100\n",
            "14/14 [==============================] - ETA: 0s - loss: 204.5708INFO:tensorflow:Assets written to: models/model_5_lstm/assets\n"
          ]
        },
        {
          "output_type": "stream",
          "name": "stderr",
          "text": [
            "INFO:tensorflow:Assets written to: models/model_5_lstm/assets\n",
            "WARNING:absl:<keras.layers.recurrent.LSTMCell object at 0x7fa1d6f2b450> has the same name 'LSTMCell' as a built-in Keras object. Consider renaming <class 'keras.layers.recurrent.LSTMCell'> to avoid naming conflicts when loading with `tf.keras.models.load_model`. If renaming is not possible, pass the object in the `custom_objects` parameter of the load function.\n"
          ]
        },
        {
          "output_type": "stream",
          "name": "stdout",
          "text": [
            "\b\b\b\b\b\b\b\b\b\b\b\b\b\b\b\b\b\b\b\b\b\b\b\b\b\b\b\b\b\b\b\b\b\b\b\b\b\b\b\b\b\b\b\b\b\b\b\b\b\b\b\b\b\b\b\b\b\b\b\b\b\b\b\b\b\r14/14 [==============================] - 2s 188ms/step - loss: 204.5708 - val_loss: 861.7523\n",
            "Epoch 14/100\n",
            "14/14 [==============================] - 0s 12ms/step - loss: 203.4718 - val_loss: 884.7316\n",
            "Epoch 15/100\n",
            "14/14 [==============================] - 0s 10ms/step - loss: 203.0755 - val_loss: 903.8789\n",
            "Epoch 16/100\n",
            "14/14 [==============================] - 0s 13ms/step - loss: 199.9152 - val_loss: 867.3813\n",
            "Epoch 17/100\n",
            "14/14 [==============================] - 0s 12ms/step - loss: 198.5207 - val_loss: 868.9608\n",
            "Epoch 18/100\n",
            "14/14 [==============================] - 0s 12ms/step - loss: 197.4298 - val_loss: 869.5586\n",
            "Epoch 19/100\n",
            "13/14 [==========================>...] - ETA: 0s - loss: 199.8171INFO:tensorflow:Assets written to: models/model_5_lstm/assets\n"
          ]
        },
        {
          "output_type": "stream",
          "name": "stderr",
          "text": [
            "INFO:tensorflow:Assets written to: models/model_5_lstm/assets\n",
            "WARNING:absl:<keras.layers.recurrent.LSTMCell object at 0x7fa1d6f2b450> has the same name 'LSTMCell' as a built-in Keras object. Consider renaming <class 'keras.layers.recurrent.LSTMCell'> to avoid naming conflicts when loading with `tf.keras.models.load_model`. If renaming is not possible, pass the object in the `custom_objects` parameter of the load function.\n"
          ]
        },
        {
          "output_type": "stream",
          "name": "stdout",
          "text": [
            "\b\b\b\b\b\b\b\b\b\b\b\b\b\b\b\b\b\b\b\b\b\b\b\b\b\b\b\b\b\b\b\b\b\b\b\b\b\b\b\b\b\b\b\b\b\b\b\b\b\b\b\b\b\b\b\b\b\b\b\b\b\b\b\b\b\r14/14 [==============================] - 3s 219ms/step - loss: 196.5982 - val_loss: 847.4629\n",
            "Epoch 20/100\n",
            "12/14 [========================>.....] - ETA: 0s - loss: 197.4993INFO:tensorflow:Assets written to: models/model_5_lstm/assets\n"
          ]
        },
        {
          "output_type": "stream",
          "name": "stderr",
          "text": [
            "INFO:tensorflow:Assets written to: models/model_5_lstm/assets\n",
            "WARNING:absl:<keras.layers.recurrent.LSTMCell object at 0x7fa1d6f2b450> has the same name 'LSTMCell' as a built-in Keras object. Consider renaming <class 'keras.layers.recurrent.LSTMCell'> to avoid naming conflicts when loading with `tf.keras.models.load_model`. If renaming is not possible, pass the object in the `custom_objects` parameter of the load function.\n"
          ]
        },
        {
          "output_type": "stream",
          "name": "stdout",
          "text": [
            "\b\b\b\b\b\b\b\b\b\b\b\b\b\b\b\b\b\b\b\b\b\b\b\b\b\b\b\b\b\b\b\b\b\b\b\b\b\b\b\b\b\b\b\b\b\b\b\b\b\b\b\b\b\b\b\b\b\b\b\b\b\b\b\b\b\r14/14 [==============================] - 3s 191ms/step - loss: 194.8521 - val_loss: 807.9313\n",
            "Epoch 21/100\n",
            "14/14 [==============================] - 0s 12ms/step - loss: 193.5974 - val_loss: 833.2915\n",
            "Epoch 22/100\n",
            "14/14 [==============================] - 0s 12ms/step - loss: 192.1645 - val_loss: 851.9042\n",
            "Epoch 23/100\n",
            "13/14 [==========================>...] - ETA: 0s - loss: 191.5735INFO:tensorflow:Assets written to: models/model_5_lstm/assets\n"
          ]
        },
        {
          "output_type": "stream",
          "name": "stderr",
          "text": [
            "INFO:tensorflow:Assets written to: models/model_5_lstm/assets\n",
            "WARNING:absl:<keras.layers.recurrent.LSTMCell object at 0x7fa1d6f2b450> has the same name 'LSTMCell' as a built-in Keras object. Consider renaming <class 'keras.layers.recurrent.LSTMCell'> to avoid naming conflicts when loading with `tf.keras.models.load_model`. If renaming is not possible, pass the object in the `custom_objects` parameter of the load function.\n"
          ]
        },
        {
          "output_type": "stream",
          "name": "stdout",
          "text": [
            "\b\b\b\b\b\b\b\b\b\b\b\b\b\b\b\b\b\b\b\b\b\b\b\b\b\b\b\b\b\b\b\b\b\b\b\b\b\b\b\b\b\b\b\b\b\b\b\b\b\b\b\b\b\b\b\b\b\b\b\b\b\b\b\b\b\r14/14 [==============================] - 2s 187ms/step - loss: 190.3922 - val_loss: 806.0175\n",
            "Epoch 24/100\n",
            "14/14 [==============================] - ETA: 0s - loss: 191.2002INFO:tensorflow:Assets written to: models/model_5_lstm/assets\n"
          ]
        },
        {
          "output_type": "stream",
          "name": "stderr",
          "text": [
            "INFO:tensorflow:Assets written to: models/model_5_lstm/assets\n",
            "WARNING:absl:<keras.layers.recurrent.LSTMCell object at 0x7fa1d6f2b450> has the same name 'LSTMCell' as a built-in Keras object. Consider renaming <class 'keras.layers.recurrent.LSTMCell'> to avoid naming conflicts when loading with `tf.keras.models.load_model`. If renaming is not possible, pass the object in the `custom_objects` parameter of the load function.\n"
          ]
        },
        {
          "output_type": "stream",
          "name": "stdout",
          "text": [
            "\b\b\b\b\b\b\b\b\b\b\b\b\b\b\b\b\b\b\b\b\b\b\b\b\b\b\b\b\b\b\b\b\b\b\b\b\b\b\b\b\b\b\b\b\b\b\b\b\b\b\b\b\b\b\b\b\b\b\b\b\b\b\b\b\b\r14/14 [==============================] - 2s 191ms/step - loss: 191.2002 - val_loss: 776.3761\n",
            "Epoch 25/100\n",
            "14/14 [==============================] - 0s 13ms/step - loss: 189.2732 - val_loss: 789.4398\n",
            "Epoch 26/100\n",
            "14/14 [==============================] - 0s 12ms/step - loss: 185.4485 - val_loss: 826.9142\n",
            "Epoch 27/100\n",
            "13/14 [==========================>...] - ETA: 0s - loss: 180.6794INFO:tensorflow:Assets written to: models/model_5_lstm/assets\n"
          ]
        },
        {
          "output_type": "stream",
          "name": "stderr",
          "text": [
            "INFO:tensorflow:Assets written to: models/model_5_lstm/assets\n",
            "WARNING:absl:<keras.layers.recurrent.LSTMCell object at 0x7fa1d6f2b450> has the same name 'LSTMCell' as a built-in Keras object. Consider renaming <class 'keras.layers.recurrent.LSTMCell'> to avoid naming conflicts when loading with `tf.keras.models.load_model`. If renaming is not possible, pass the object in the `custom_objects` parameter of the load function.\n"
          ]
        },
        {
          "output_type": "stream",
          "name": "stdout",
          "text": [
            "\b\b\b\b\b\b\b\b\b\b\b\b\b\b\b\b\b\b\b\b\b\b\b\b\b\b\b\b\b\b\b\b\b\b\b\b\b\b\b\b\b\b\b\b\b\b\b\b\b\b\b\b\b\b\b\b\b\b\b\b\b\b\b\b\b\r14/14 [==============================] - 2s 186ms/step - loss: 180.7771 - val_loss: 720.4573\n",
            "Epoch 28/100\n",
            "13/14 [==========================>...] - ETA: 0s - loss: 174.7659INFO:tensorflow:Assets written to: models/model_5_lstm/assets\n"
          ]
        },
        {
          "output_type": "stream",
          "name": "stderr",
          "text": [
            "INFO:tensorflow:Assets written to: models/model_5_lstm/assets\n",
            "WARNING:absl:<keras.layers.recurrent.LSTMCell object at 0x7fa1d6f2b450> has the same name 'LSTMCell' as a built-in Keras object. Consider renaming <class 'keras.layers.recurrent.LSTMCell'> to avoid naming conflicts when loading with `tf.keras.models.load_model`. If renaming is not possible, pass the object in the `custom_objects` parameter of the load function.\n"
          ]
        },
        {
          "output_type": "stream",
          "name": "stdout",
          "text": [
            "\b\b\b\b\b\b\b\b\b\b\b\b\b\b\b\b\b\b\b\b\b\b\b\b\b\b\b\b\b\b\b\b\b\b\b\b\b\b\b\b\b\b\b\b\b\b\b\b\b\b\b\b\b\b\b\b\b\b\b\b\b\b\b\b\b\r14/14 [==============================] - 3s 225ms/step - loss: 177.3669 - val_loss: 702.2065\n",
            "Epoch 29/100\n",
            "14/14 [==============================] - 0s 13ms/step - loss: 200.3021 - val_loss: 801.3126\n",
            "Epoch 30/100\n",
            "14/14 [==============================] - 0s 11ms/step - loss: 185.9404 - val_loss: 766.1492\n",
            "Epoch 31/100\n",
            "14/14 [==============================] - 0s 13ms/step - loss: 180.4454 - val_loss: 748.2369\n",
            "Epoch 32/100\n",
            "14/14 [==============================] - 0s 12ms/step - loss: 178.5164 - val_loss: 738.5285\n",
            "Epoch 33/100\n",
            "14/14 [==============================] - 0s 12ms/step - loss: 176.6198 - val_loss: 817.3339\n",
            "Epoch 34/100\n",
            "14/14 [==============================] - 0s 12ms/step - loss: 175.6466 - val_loss: 801.8497\n",
            "Epoch 35/100\n",
            "14/14 [==============================] - 0s 12ms/step - loss: 173.6287 - val_loss: 758.5747\n",
            "Epoch 36/100\n",
            "14/14 [==============================] - 0s 12ms/step - loss: 171.5962 - val_loss: 772.8608\n",
            "Epoch 37/100\n",
            "14/14 [==============================] - 0s 13ms/step - loss: 170.8313 - val_loss: 769.5958\n",
            "Epoch 38/100\n",
            "14/14 [==============================] - 0s 12ms/step - loss: 170.5411 - val_loss: 750.4099\n",
            "Epoch 39/100\n",
            "14/14 [==============================] - 0s 12ms/step - loss: 168.5429 - val_loss: 748.6723\n",
            "Epoch 40/100\n",
            "14/14 [==============================] - 0s 12ms/step - loss: 166.9150 - val_loss: 726.0621\n",
            "Epoch 41/100\n",
            "14/14 [==============================] - 0s 13ms/step - loss: 166.0399 - val_loss: 720.7272\n",
            "Epoch 42/100\n",
            "14/14 [==============================] - 0s 13ms/step - loss: 163.9615 - val_loss: 729.0596\n",
            "Epoch 43/100\n",
            "14/14 [==============================] - 0s 15ms/step - loss: 163.0873 - val_loss: 703.0963\n",
            "Epoch 44/100\n",
            "13/14 [==========================>...] - ETA: 0s - loss: 170.3519INFO:tensorflow:Assets written to: models/model_5_lstm/assets\n"
          ]
        },
        {
          "output_type": "stream",
          "name": "stderr",
          "text": [
            "INFO:tensorflow:Assets written to: models/model_5_lstm/assets\n",
            "WARNING:absl:<keras.layers.recurrent.LSTMCell object at 0x7fa1d6f2b450> has the same name 'LSTMCell' as a built-in Keras object. Consider renaming <class 'keras.layers.recurrent.LSTMCell'> to avoid naming conflicts when loading with `tf.keras.models.load_model`. If renaming is not possible, pass the object in the `custom_objects` parameter of the load function.\n"
          ]
        },
        {
          "output_type": "stream",
          "name": "stdout",
          "text": [
            "\b\b\b\b\b\b\b\b\b\b\b\b\b\b\b\b\b\b\b\b\b\b\b\b\b\b\b\b\b\b\b\b\b\b\b\b\b\b\b\b\b\b\b\b\b\b\b\b\b\b\b\b\b\b\b\b\b\b\b\b\b\b\b\b\b\r14/14 [==============================] - 2s 187ms/step - loss: 168.9907 - val_loss: 686.8839\n",
            "Epoch 45/100\n",
            "14/14 [==============================] - ETA: 0s - loss: 169.3746INFO:tensorflow:Assets written to: models/model_5_lstm/assets\n"
          ]
        },
        {
          "output_type": "stream",
          "name": "stderr",
          "text": [
            "INFO:tensorflow:Assets written to: models/model_5_lstm/assets\n",
            "WARNING:absl:<keras.layers.recurrent.LSTMCell object at 0x7fa1d6f2b450> has the same name 'LSTMCell' as a built-in Keras object. Consider renaming <class 'keras.layers.recurrent.LSTMCell'> to avoid naming conflicts when loading with `tf.keras.models.load_model`. If renaming is not possible, pass the object in the `custom_objects` parameter of the load function.\n"
          ]
        },
        {
          "output_type": "stream",
          "name": "stdout",
          "text": [
            "\b\b\b\b\b\b\b\b\b\b\b\b\b\b\b\b\b\b\b\b\b\b\b\b\b\b\b\b\b\b\b\b\b\b\b\b\b\b\b\b\b\b\b\b\b\b\b\b\b\b\b\b\b\b\b\b\b\b\b\b\b\b\b\b\b\r14/14 [==============================] - 2s 185ms/step - loss: 169.3746 - val_loss: 671.9966\n",
            "Epoch 46/100\n",
            "11/14 [======================>.......] - ETA: 0s - loss: 169.6511INFO:tensorflow:Assets written to: models/model_5_lstm/assets\n"
          ]
        },
        {
          "output_type": "stream",
          "name": "stderr",
          "text": [
            "INFO:tensorflow:Assets written to: models/model_5_lstm/assets\n",
            "WARNING:absl:<keras.layers.recurrent.LSTMCell object at 0x7fa1d6f2b450> has the same name 'LSTMCell' as a built-in Keras object. Consider renaming <class 'keras.layers.recurrent.LSTMCell'> to avoid naming conflicts when loading with `tf.keras.models.load_model`. If renaming is not possible, pass the object in the `custom_objects` parameter of the load function.\n"
          ]
        },
        {
          "output_type": "stream",
          "name": "stdout",
          "text": [
            "\b\b\b\b\b\b\b\b\b\b\b\b\b\b\b\b\b\b\b\b\b\b\b\b\b\b\b\b\b\b\b\b\b\b\b\b\b\b\b\b\b\b\b\b\b\b\b\b\b\b\b\b\b\b\b\b\b\b\b\b\b\b\b\b\b\r14/14 [==============================] - 2s 190ms/step - loss: 162.2892 - val_loss: 667.8841\n",
            "Epoch 47/100\n",
            "14/14 [==============================] - 0s 12ms/step - loss: 159.5396 - val_loss: 690.8062\n",
            "Epoch 48/100\n",
            "14/14 [==============================] - 0s 12ms/step - loss: 157.0992 - val_loss: 714.4673\n",
            "Epoch 49/100\n",
            "14/14 [==============================] - ETA: 0s - loss: 156.7978INFO:tensorflow:Assets written to: models/model_5_lstm/assets\n"
          ]
        },
        {
          "output_type": "stream",
          "name": "stderr",
          "text": [
            "INFO:tensorflow:Assets written to: models/model_5_lstm/assets\n",
            "WARNING:absl:<keras.layers.recurrent.LSTMCell object at 0x7fa1d6f2b450> has the same name 'LSTMCell' as a built-in Keras object. Consider renaming <class 'keras.layers.recurrent.LSTMCell'> to avoid naming conflicts when loading with `tf.keras.models.load_model`. If renaming is not possible, pass the object in the `custom_objects` parameter of the load function.\n"
          ]
        },
        {
          "output_type": "stream",
          "name": "stdout",
          "text": [
            "\b\b\b\b\b\b\b\b\b\b\b\b\b\b\b\b\b\b\b\b\b\b\b\b\b\b\b\b\b\b\b\b\b\b\b\b\b\b\b\b\b\b\b\b\b\b\b\b\b\b\b\b\b\b\b\b\b\b\b\b\b\b\b\b\b\r14/14 [==============================] - 3s 225ms/step - loss: 156.7978 - val_loss: 655.0980\n",
            "Epoch 50/100\n",
            "13/14 [==========================>...] - ETA: 0s - loss: 161.2749INFO:tensorflow:Assets written to: models/model_5_lstm/assets\n"
          ]
        },
        {
          "output_type": "stream",
          "name": "stderr",
          "text": [
            "INFO:tensorflow:Assets written to: models/model_5_lstm/assets\n",
            "WARNING:absl:<keras.layers.recurrent.LSTMCell object at 0x7fa1d6f2b450> has the same name 'LSTMCell' as a built-in Keras object. Consider renaming <class 'keras.layers.recurrent.LSTMCell'> to avoid naming conflicts when loading with `tf.keras.models.load_model`. If renaming is not possible, pass the object in the `custom_objects` parameter of the load function.\n"
          ]
        },
        {
          "output_type": "stream",
          "name": "stdout",
          "text": [
            "\b\b\b\b\b\b\b\b\b\b\b\b\b\b\b\b\b\b\b\b\b\b\b\b\b\b\b\b\b\b\b\b\b\b\b\b\b\b\b\b\b\b\b\b\b\b\b\b\b\b\b\b\b\b\b\b\b\b\b\b\b\b\b\b\b\r14/14 [==============================] - 2s 189ms/step - loss: 160.2477 - val_loss: 652.5287\n",
            "Epoch 51/100\n",
            "14/14 [==============================] - 0s 12ms/step - loss: 155.8842 - val_loss: 653.9545\n",
            "Epoch 52/100\n",
            "14/14 [==============================] - ETA: 0s - loss: 154.2570INFO:tensorflow:Assets written to: models/model_5_lstm/assets\n"
          ]
        },
        {
          "output_type": "stream",
          "name": "stderr",
          "text": [
            "INFO:tensorflow:Assets written to: models/model_5_lstm/assets\n",
            "WARNING:absl:<keras.layers.recurrent.LSTMCell object at 0x7fa1d6f2b450> has the same name 'LSTMCell' as a built-in Keras object. Consider renaming <class 'keras.layers.recurrent.LSTMCell'> to avoid naming conflicts when loading with `tf.keras.models.load_model`. If renaming is not possible, pass the object in the `custom_objects` parameter of the load function.\n"
          ]
        },
        {
          "output_type": "stream",
          "name": "stdout",
          "text": [
            "\b\b\b\b\b\b\b\b\b\b\b\b\b\b\b\b\b\b\b\b\b\b\b\b\b\b\b\b\b\b\b\b\b\b\b\b\b\b\b\b\b\b\b\b\b\b\b\b\b\b\b\b\b\b\b\b\b\b\b\b\b\b\b\b\b\r14/14 [==============================] - 2s 185ms/step - loss: 154.2570 - val_loss: 649.9645\n",
            "Epoch 53/100\n",
            "14/14 [==============================] - ETA: 0s - loss: 153.7128INFO:tensorflow:Assets written to: models/model_5_lstm/assets\n"
          ]
        },
        {
          "output_type": "stream",
          "name": "stderr",
          "text": [
            "INFO:tensorflow:Assets written to: models/model_5_lstm/assets\n",
            "WARNING:absl:<keras.layers.recurrent.LSTMCell object at 0x7fa1d6f2b450> has the same name 'LSTMCell' as a built-in Keras object. Consider renaming <class 'keras.layers.recurrent.LSTMCell'> to avoid naming conflicts when loading with `tf.keras.models.load_model`. If renaming is not possible, pass the object in the `custom_objects` parameter of the load function.\n"
          ]
        },
        {
          "output_type": "stream",
          "name": "stdout",
          "text": [
            "\b\b\b\b\b\b\b\b\b\b\b\b\b\b\b\b\b\b\b\b\b\b\b\b\b\b\b\b\b\b\b\b\b\b\b\b\b\b\b\b\b\b\b\b\b\b\b\b\b\b\b\b\b\b\b\b\b\b\b\b\b\b\b\b\b\r14/14 [==============================] - 2s 184ms/step - loss: 153.7128 - val_loss: 647.3254\n",
            "Epoch 54/100\n",
            "13/14 [==========================>...] - ETA: 0s - loss: 153.0165INFO:tensorflow:Assets written to: models/model_5_lstm/assets\n"
          ]
        },
        {
          "output_type": "stream",
          "name": "stderr",
          "text": [
            "INFO:tensorflow:Assets written to: models/model_5_lstm/assets\n",
            "WARNING:absl:<keras.layers.recurrent.LSTMCell object at 0x7fa1d6f2b450> has the same name 'LSTMCell' as a built-in Keras object. Consider renaming <class 'keras.layers.recurrent.LSTMCell'> to avoid naming conflicts when loading with `tf.keras.models.load_model`. If renaming is not possible, pass the object in the `custom_objects` parameter of the load function.\n"
          ]
        },
        {
          "output_type": "stream",
          "name": "stdout",
          "text": [
            "\b\b\b\b\b\b\b\b\b\b\b\b\b\b\b\b\b\b\b\b\b\b\b\b\b\b\b\b\b\b\b\b\b\b\b\b\b\b\b\b\b\b\b\b\b\b\b\b\b\b\b\b\b\b\b\b\b\b\b\b\b\b\b\b\b\r14/14 [==============================] - 3s 220ms/step - loss: 152.9613 - val_loss: 645.4500\n",
            "Epoch 55/100\n",
            "14/14 [==============================] - 0s 13ms/step - loss: 151.5489 - val_loss: 646.0311\n",
            "Epoch 56/100\n",
            "14/14 [==============================] - 0s 12ms/step - loss: 150.9307 - val_loss: 665.4196\n",
            "Epoch 57/100\n",
            "14/14 [==============================] - 0s 12ms/step - loss: 150.2966 - val_loss: 658.2278\n",
            "Epoch 58/100\n",
            "13/14 [==========================>...] - ETA: 0s - loss: 147.0456INFO:tensorflow:Assets written to: models/model_5_lstm/assets\n"
          ]
        },
        {
          "output_type": "stream",
          "name": "stderr",
          "text": [
            "INFO:tensorflow:Assets written to: models/model_5_lstm/assets\n",
            "WARNING:absl:<keras.layers.recurrent.LSTMCell object at 0x7fa1d6f2b450> has the same name 'LSTMCell' as a built-in Keras object. Consider renaming <class 'keras.layers.recurrent.LSTMCell'> to avoid naming conflicts when loading with `tf.keras.models.load_model`. If renaming is not possible, pass the object in the `custom_objects` parameter of the load function.\n"
          ]
        },
        {
          "output_type": "stream",
          "name": "stdout",
          "text": [
            "\b\b\b\b\b\b\b\b\b\b\b\b\b\b\b\b\b\b\b\b\b\b\b\b\b\b\b\b\b\b\b\b\b\b\b\b\b\b\b\b\b\b\b\b\b\b\b\b\b\b\b\b\b\b\b\b\b\b\b\b\b\b\b\b\b\r14/14 [==============================] - 2s 186ms/step - loss: 150.5427 - val_loss: 635.2477\n",
            "Epoch 59/100\n",
            "14/14 [==============================] - 0s 12ms/step - loss: 148.5207 - val_loss: 659.7518\n",
            "Epoch 60/100\n",
            "14/14 [==============================] - 0s 13ms/step - loss: 148.5474 - val_loss: 699.8359\n",
            "Epoch 61/100\n",
            "14/14 [==============================] - 0s 13ms/step - loss: 148.6339 - val_loss: 640.8013\n",
            "Epoch 62/100\n",
            "14/14 [==============================] - 0s 12ms/step - loss: 147.6112 - val_loss: 635.9683\n",
            "Epoch 63/100\n",
            "14/14 [==============================] - 0s 12ms/step - loss: 146.9446 - val_loss: 651.4787\n",
            "Epoch 64/100\n",
            "12/14 [========================>.....] - ETA: 0s - loss: 148.7262INFO:tensorflow:Assets written to: models/model_5_lstm/assets\n"
          ]
        },
        {
          "output_type": "stream",
          "name": "stderr",
          "text": [
            "INFO:tensorflow:Assets written to: models/model_5_lstm/assets\n",
            "WARNING:absl:<keras.layers.recurrent.LSTMCell object at 0x7fa1d6f2b450> has the same name 'LSTMCell' as a built-in Keras object. Consider renaming <class 'keras.layers.recurrent.LSTMCell'> to avoid naming conflicts when loading with `tf.keras.models.load_model`. If renaming is not possible, pass the object in the `custom_objects` parameter of the load function.\n"
          ]
        },
        {
          "output_type": "stream",
          "name": "stdout",
          "text": [
            "\b\b\b\b\b\b\b\b\b\b\b\b\b\b\b\b\b\b\b\b\b\b\b\b\b\b\b\b\b\b\b\b\b\b\b\b\b\b\b\b\b\b\b\b\b\b\b\b\b\b\b\b\b\b\b\b\b\b\b\b\b\b\b\b\b\r14/14 [==============================] - 2s 191ms/step - loss: 146.8891 - val_loss: 624.9725\n",
            "Epoch 65/100\n",
            "14/14 [==============================] - 0s 12ms/step - loss: 147.9570 - val_loss: 685.9846\n",
            "Epoch 66/100\n",
            "14/14 [==============================] - 0s 12ms/step - loss: 145.6583 - val_loss: 641.8666\n",
            "Epoch 67/100\n",
            "12/14 [========================>.....] - ETA: 0s - loss: 142.5473INFO:tensorflow:Assets written to: models/model_5_lstm/assets\n"
          ]
        },
        {
          "output_type": "stream",
          "name": "stderr",
          "text": [
            "INFO:tensorflow:Assets written to: models/model_5_lstm/assets\n",
            "WARNING:absl:<keras.layers.recurrent.LSTMCell object at 0x7fa1d6f2b450> has the same name 'LSTMCell' as a built-in Keras object. Consider renaming <class 'keras.layers.recurrent.LSTMCell'> to avoid naming conflicts when loading with `tf.keras.models.load_model`. If renaming is not possible, pass the object in the `custom_objects` parameter of the load function.\n"
          ]
        },
        {
          "output_type": "stream",
          "name": "stdout",
          "text": [
            "\b\b\b\b\b\b\b\b\b\b\b\b\b\b\b\b\b\b\b\b\b\b\b\b\b\b\b\b\b\b\b\b\b\b\b\b\b\b\b\b\b\b\b\b\b\b\b\b\b\b\b\b\b\b\b\b\b\b\b\b\b\b\b\b\b\r14/14 [==============================] - 2s 187ms/step - loss: 146.0368 - val_loss: 621.8425\n",
            "Epoch 68/100\n",
            "14/14 [==============================] - 0s 12ms/step - loss: 146.7642 - val_loss: 652.1619\n",
            "Epoch 69/100\n",
            "14/14 [==============================] - 0s 12ms/step - loss: 146.1160 - val_loss: 630.1523\n",
            "Epoch 70/100\n",
            "12/14 [========================>.....] - ETA: 0s - loss: 141.1957INFO:tensorflow:Assets written to: models/model_5_lstm/assets\n"
          ]
        },
        {
          "output_type": "stream",
          "name": "stderr",
          "text": [
            "INFO:tensorflow:Assets written to: models/model_5_lstm/assets\n",
            "WARNING:absl:<keras.layers.recurrent.LSTMCell object at 0x7fa1d6f2b450> has the same name 'LSTMCell' as a built-in Keras object. Consider renaming <class 'keras.layers.recurrent.LSTMCell'> to avoid naming conflicts when loading with `tf.keras.models.load_model`. If renaming is not possible, pass the object in the `custom_objects` parameter of the load function.\n"
          ]
        },
        {
          "output_type": "stream",
          "name": "stdout",
          "text": [
            "\b\b\b\b\b\b\b\b\b\b\b\b\b\b\b\b\b\b\b\b\b\b\b\b\b\b\b\b\b\b\b\b\b\b\b\b\b\b\b\b\b\b\b\b\b\b\b\b\b\b\b\b\b\b\b\b\b\b\b\b\b\b\b\b\b\r14/14 [==============================] - 3s 192ms/step - loss: 147.3013 - val_loss: 616.3434\n",
            "Epoch 71/100\n",
            "13/14 [==========================>...] - ETA: 0s - loss: 153.1717INFO:tensorflow:Assets written to: models/model_5_lstm/assets\n"
          ]
        },
        {
          "output_type": "stream",
          "name": "stderr",
          "text": [
            "INFO:tensorflow:Assets written to: models/model_5_lstm/assets\n",
            "WARNING:absl:<keras.layers.recurrent.LSTMCell object at 0x7fa1d6f2b450> has the same name 'LSTMCell' as a built-in Keras object. Consider renaming <class 'keras.layers.recurrent.LSTMCell'> to avoid naming conflicts when loading with `tf.keras.models.load_model`. If renaming is not possible, pass the object in the `custom_objects` parameter of the load function.\n"
          ]
        },
        {
          "output_type": "stream",
          "name": "stdout",
          "text": [
            "\b\b\b\b\b\b\b\b\b\b\b\b\b\b\b\b\b\b\b\b\b\b\b\b\b\b\b\b\b\b\b\b\b\b\b\b\b\b\b\b\b\b\b\b\b\b\b\b\b\b\b\b\b\b\b\b\b\b\b\b\b\b\b\b\b\r14/14 [==============================] - 3s 233ms/step - loss: 153.1615 - val_loss: 615.7502\n",
            "Epoch 72/100\n",
            "14/14 [==============================] - 0s 12ms/step - loss: 155.3015 - val_loss: 673.6431\n",
            "Epoch 73/100\n",
            "14/14 [==============================] - 0s 11ms/step - loss: 147.5294 - val_loss: 667.4611\n",
            "Epoch 74/100\n",
            "14/14 [==============================] - 0s 12ms/step - loss: 144.3259 - val_loss: 623.6090\n",
            "Epoch 75/100\n",
            "12/14 [========================>.....] - ETA: 0s - loss: 143.7967INFO:tensorflow:Assets written to: models/model_5_lstm/assets\n"
          ]
        },
        {
          "output_type": "stream",
          "name": "stderr",
          "text": [
            "INFO:tensorflow:Assets written to: models/model_5_lstm/assets\n",
            "WARNING:absl:<keras.layers.recurrent.LSTMCell object at 0x7fa1d6f2b450> has the same name 'LSTMCell' as a built-in Keras object. Consider renaming <class 'keras.layers.recurrent.LSTMCell'> to avoid naming conflicts when loading with `tf.keras.models.load_model`. If renaming is not possible, pass the object in the `custom_objects` parameter of the load function.\n"
          ]
        },
        {
          "output_type": "stream",
          "name": "stdout",
          "text": [
            "\b\b\b\b\b\b\b\b\b\b\b\b\b\b\b\b\b\b\b\b\b\b\b\b\b\b\b\b\b\b\b\b\b\b\b\b\b\b\b\b\b\b\b\b\b\b\b\b\b\b\b\b\b\b\b\b\b\b\b\b\b\b\b\b\b\r14/14 [==============================] - 2s 186ms/step - loss: 143.5679 - val_loss: 612.1233\n",
            "Epoch 76/100\n",
            "14/14 [==============================] - 0s 11ms/step - loss: 143.5831 - val_loss: 621.3460\n",
            "Epoch 77/100\n",
            "14/14 [==============================] - 0s 12ms/step - loss: 142.8463 - val_loss: 619.2382\n",
            "Epoch 78/100\n",
            "12/14 [========================>.....] - ETA: 0s - loss: 139.6149INFO:tensorflow:Assets written to: models/model_5_lstm/assets\n"
          ]
        },
        {
          "output_type": "stream",
          "name": "stderr",
          "text": [
            "INFO:tensorflow:Assets written to: models/model_5_lstm/assets\n",
            "WARNING:absl:<keras.layers.recurrent.LSTMCell object at 0x7fa1d6f2b450> has the same name 'LSTMCell' as a built-in Keras object. Consider renaming <class 'keras.layers.recurrent.LSTMCell'> to avoid naming conflicts when loading with `tf.keras.models.load_model`. If renaming is not possible, pass the object in the `custom_objects` parameter of the load function.\n"
          ]
        },
        {
          "output_type": "stream",
          "name": "stdout",
          "text": [
            "\b\b\b\b\b\b\b\b\b\b\b\b\b\b\b\b\b\b\b\b\b\b\b\b\b\b\b\b\b\b\b\b\b\b\b\b\b\b\b\b\b\b\b\b\b\b\b\b\b\b\b\b\b\b\b\b\b\b\b\b\b\b\b\b\b\r14/14 [==============================] - 3s 192ms/step - loss: 143.3759 - val_loss: 608.2902\n",
            "Epoch 79/100\n",
            "14/14 [==============================] - 0s 13ms/step - loss: 143.0520 - val_loss: 614.0178\n",
            "Epoch 80/100\n",
            "14/14 [==============================] - 0s 12ms/step - loss: 141.5308 - val_loss: 610.1228\n",
            "Epoch 81/100\n",
            "14/14 [==============================] - 0s 12ms/step - loss: 141.8572 - val_loss: 626.2985\n",
            "Epoch 82/100\n",
            "14/14 [==============================] - 0s 12ms/step - loss: 141.1483 - val_loss: 618.3405\n",
            "Epoch 83/100\n",
            "14/14 [==============================] - 0s 13ms/step - loss: 140.9982 - val_loss: 610.1554\n",
            "Epoch 84/100\n",
            "12/14 [========================>.....] - ETA: 0s - loss: 143.4042INFO:tensorflow:Assets written to: models/model_5_lstm/assets\n"
          ]
        },
        {
          "output_type": "stream",
          "name": "stderr",
          "text": [
            "INFO:tensorflow:Assets written to: models/model_5_lstm/assets\n",
            "WARNING:absl:<keras.layers.recurrent.LSTMCell object at 0x7fa1d6f2b450> has the same name 'LSTMCell' as a built-in Keras object. Consider renaming <class 'keras.layers.recurrent.LSTMCell'> to avoid naming conflicts when loading with `tf.keras.models.load_model`. If renaming is not possible, pass the object in the `custom_objects` parameter of the load function.\n"
          ]
        },
        {
          "output_type": "stream",
          "name": "stdout",
          "text": [
            "\b\b\b\b\b\b\b\b\b\b\b\b\b\b\b\b\b\b\b\b\b\b\b\b\b\b\b\b\b\b\b\b\b\b\b\b\b\b\b\b\b\b\b\b\b\b\b\b\b\b\b\b\b\b\b\b\b\b\b\b\b\b\b\b\b\r14/14 [==============================] - 2s 189ms/step - loss: 141.2170 - val_loss: 605.6880\n",
            "Epoch 85/100\n",
            "14/14 [==============================] - 0s 13ms/step - loss: 141.6239 - val_loss: 672.9085\n",
            "Epoch 86/100\n",
            "14/14 [==============================] - 0s 12ms/step - loss: 141.4875 - val_loss: 623.3578\n",
            "Epoch 87/100\n",
            "11/14 [======================>.......] - ETA: 0s - loss: 143.9005INFO:tensorflow:Assets written to: models/model_5_lstm/assets\n"
          ]
        },
        {
          "output_type": "stream",
          "name": "stderr",
          "text": [
            "INFO:tensorflow:Assets written to: models/model_5_lstm/assets\n",
            "WARNING:absl:<keras.layers.recurrent.LSTMCell object at 0x7fa1d6f2b450> has the same name 'LSTMCell' as a built-in Keras object. Consider renaming <class 'keras.layers.recurrent.LSTMCell'> to avoid naming conflicts when loading with `tf.keras.models.load_model`. If renaming is not possible, pass the object in the `custom_objects` parameter of the load function.\n"
          ]
        },
        {
          "output_type": "stream",
          "name": "stdout",
          "text": [
            "\b\b\b\b\b\b\b\b\b\b\b\b\b\b\b\b\b\b\b\b\b\b\b\b\b\b\b\b\b\b\b\b\b\b\b\b\b\b\b\b\b\b\b\b\b\b\b\b\b\b\b\b\b\b\b\b\b\b\b\b\b\b\b\b\b\r14/14 [==============================] - 3s 233ms/step - loss: 140.4497 - val_loss: 604.8956\n",
            "Epoch 88/100\n",
            "14/14 [==============================] - 0s 12ms/step - loss: 140.4147 - val_loss: 640.0856\n",
            "Epoch 89/100\n",
            "11/14 [======================>.......] - ETA: 0s - loss: 148.2961INFO:tensorflow:Assets written to: models/model_5_lstm/assets\n"
          ]
        },
        {
          "output_type": "stream",
          "name": "stderr",
          "text": [
            "INFO:tensorflow:Assets written to: models/model_5_lstm/assets\n",
            "WARNING:absl:<keras.layers.recurrent.LSTMCell object at 0x7fa1d6f2b450> has the same name 'LSTMCell' as a built-in Keras object. Consider renaming <class 'keras.layers.recurrent.LSTMCell'> to avoid naming conflicts when loading with `tf.keras.models.load_model`. If renaming is not possible, pass the object in the `custom_objects` parameter of the load function.\n"
          ]
        },
        {
          "output_type": "stream",
          "name": "stdout",
          "text": [
            "\b\b\b\b\b\b\b\b\b\b\b\b\b\b\b\b\b\b\b\b\b\b\b\b\b\b\b\b\b\b\b\b\b\b\b\b\b\b\b\b\b\b\b\b\b\b\b\b\b\b\b\b\b\b\b\b\b\b\b\b\b\b\b\b\b\r14/14 [==============================] - 3s 195ms/step - loss: 142.0560 - val_loss: 601.2916\n",
            "Epoch 90/100\n",
            "14/14 [==============================] - 0s 13ms/step - loss: 140.8751 - val_loss: 612.8366\n",
            "Epoch 91/100\n",
            "14/14 [==============================] - 0s 11ms/step - loss: 139.9382 - val_loss: 604.1487\n",
            "Epoch 92/100\n",
            "14/14 [==============================] - 0s 12ms/step - loss: 142.5656 - val_loss: 707.6755\n",
            "Epoch 93/100\n",
            "11/14 [======================>.......] - ETA: 0s - loss: 152.1307INFO:tensorflow:Assets written to: models/model_5_lstm/assets\n"
          ]
        },
        {
          "output_type": "stream",
          "name": "stderr",
          "text": [
            "INFO:tensorflow:Assets written to: models/model_5_lstm/assets\n",
            "WARNING:absl:<keras.layers.recurrent.LSTMCell object at 0x7fa1d6f2b450> has the same name 'LSTMCell' as a built-in Keras object. Consider renaming <class 'keras.layers.recurrent.LSTMCell'> to avoid naming conflicts when loading with `tf.keras.models.load_model`. If renaming is not possible, pass the object in the `custom_objects` parameter of the load function.\n"
          ]
        },
        {
          "output_type": "stream",
          "name": "stdout",
          "text": [
            "\b\b\b\b\b\b\b\b\b\b\b\b\b\b\b\b\b\b\b\b\b\b\b\b\b\b\b\b\b\b\b\b\b\b\b\b\b\b\b\b\b\b\b\b\b\b\b\b\b\b\b\b\b\b\b\b\b\b\b\b\b\b\b\b\b\r14/14 [==============================] - 2s 187ms/step - loss: 146.3548 - val_loss: 599.6319\n",
            "Epoch 94/100\n",
            "14/14 [==============================] - 0s 12ms/step - loss: 139.5687 - val_loss: 600.4816\n",
            "Epoch 95/100\n",
            "14/14 [==============================] - 0s 12ms/step - loss: 138.4352 - val_loss: 612.8211\n",
            "Epoch 96/100\n",
            "12/14 [========================>.....] - ETA: 0s - loss: 132.9806INFO:tensorflow:Assets written to: models/model_5_lstm/assets\n"
          ]
        },
        {
          "output_type": "stream",
          "name": "stderr",
          "text": [
            "INFO:tensorflow:Assets written to: models/model_5_lstm/assets\n",
            "WARNING:absl:<keras.layers.recurrent.LSTMCell object at 0x7fa1d6f2b450> has the same name 'LSTMCell' as a built-in Keras object. Consider renaming <class 'keras.layers.recurrent.LSTMCell'> to avoid naming conflicts when loading with `tf.keras.models.load_model`. If renaming is not possible, pass the object in the `custom_objects` parameter of the load function.\n"
          ]
        },
        {
          "output_type": "stream",
          "name": "stdout",
          "text": [
            "\b\b\b\b\b\b\b\b\b\b\b\b\b\b\b\b\b\b\b\b\b\b\b\b\b\b\b\b\b\b\b\b\b\b\b\b\b\b\b\b\b\b\b\b\b\b\b\b\b\b\b\b\b\b\b\b\b\b\b\b\b\b\b\b\b\r14/14 [==============================] - 3s 195ms/step - loss: 138.0334 - val_loss: 597.4940\n",
            "Epoch 97/100\n",
            "14/14 [==============================] - 0s 12ms/step - loss: 139.9027 - val_loss: 636.2722\n",
            "Epoch 98/100\n",
            "13/14 [==========================>...] - ETA: 0s - loss: 137.5749INFO:tensorflow:Assets written to: models/model_5_lstm/assets\n"
          ]
        },
        {
          "output_type": "stream",
          "name": "stderr",
          "text": [
            "INFO:tensorflow:Assets written to: models/model_5_lstm/assets\n",
            "WARNING:absl:<keras.layers.recurrent.LSTMCell object at 0x7fa1d6f2b450> has the same name 'LSTMCell' as a built-in Keras object. Consider renaming <class 'keras.layers.recurrent.LSTMCell'> to avoid naming conflicts when loading with `tf.keras.models.load_model`. If renaming is not possible, pass the object in the `custom_objects` parameter of the load function.\n"
          ]
        },
        {
          "output_type": "stream",
          "name": "stdout",
          "text": [
            "\b\b\b\b\b\b\b\b\b\b\b\b\b\b\b\b\b\b\b\b\b\b\b\b\b\b\b\b\b\b\b\b\b\b\b\b\b\b\b\b\b\b\b\b\b\b\b\b\b\b\b\b\b\b\b\b\b\b\b\b\b\b\b\b\b\r14/14 [==============================] - 2s 184ms/step - loss: 139.4778 - val_loss: 596.7294\n",
            "Epoch 99/100\n",
            "14/14 [==============================] - 0s 11ms/step - loss: 136.9311 - val_loss: 599.2811\n",
            "Epoch 100/100\n",
            "14/14 [==============================] - ETA: 0s - loss: 137.3020INFO:tensorflow:Assets written to: models/model_5_lstm/assets\n"
          ]
        },
        {
          "output_type": "stream",
          "name": "stderr",
          "text": [
            "INFO:tensorflow:Assets written to: models/model_5_lstm/assets\n",
            "WARNING:absl:<keras.layers.recurrent.LSTMCell object at 0x7fa1d6f2b450> has the same name 'LSTMCell' as a built-in Keras object. Consider renaming <class 'keras.layers.recurrent.LSTMCell'> to avoid naming conflicts when loading with `tf.keras.models.load_model`. If renaming is not possible, pass the object in the `custom_objects` parameter of the load function.\n"
          ]
        },
        {
          "output_type": "stream",
          "name": "stdout",
          "text": [
            "\b\b\b\b\b\b\b\b\b\b\b\b\b\b\b\b\b\b\b\b\b\b\b\b\b\b\b\b\b\b\b\b\b\b\b\b\b\b\b\b\b\b\b\b\b\b\b\b\b\b\b\b\b\b\b\b\b\b\b\b\b\b\b\b\b\r14/14 [==============================] - 3s 227ms/step - loss: 137.3020 - val_loss: 596.1284\n"
          ]
        },
        {
          "output_type": "execute_result",
          "data": {
            "text/plain": [
              "<keras.callbacks.History at 0x7fa1d5637350>"
            ]
          },
          "metadata": {},
          "execution_count": 242
        }
      ]
    },
    {
      "cell_type": "code",
      "source": [
        "model_5 = tf.keras.models.load_model(\"models/model_5_lstm\")\n",
        "model_5.evaluate(test_windows, test_labels)"
      ],
      "metadata": {
        "colab": {
          "base_uri": "https://localhost:8080/"
        },
        "id": "jl2ThNcm2B6w",
        "outputId": "0f9ad58e-4f0a-437d-d39f-3204e0c20d96"
      },
      "execution_count": null,
      "outputs": [
        {
          "output_type": "stream",
          "name": "stdout",
          "text": [
            "WARNING:tensorflow:Layer lstm_1 will not use cuDNN kernels since it doesn't meet the criteria. It will use a generic GPU kernel as fallback when running on GPU.\n"
          ]
        },
        {
          "output_type": "stream",
          "name": "stderr",
          "text": [
            "WARNING:tensorflow:Layer lstm_1 will not use cuDNN kernels since it doesn't meet the criteria. It will use a generic GPU kernel as fallback when running on GPU.\n"
          ]
        },
        {
          "output_type": "stream",
          "name": "stdout",
          "text": [
            "14/14 [==============================] - 0s 3ms/step - loss: 596.1284\n"
          ]
        },
        {
          "output_type": "execute_result",
          "data": {
            "text/plain": [
              "596.12841796875"
            ]
          },
          "metadata": {},
          "execution_count": 243
        }
      ]
    },
    {
      "cell_type": "code",
      "source": [
        "# Make predictions with our LSTM model\n",
        "model_5_preds = make_prediction(model_5, test_windows)\n"
      ],
      "metadata": {
        "id": "bgbqoI4d4fPc"
      },
      "execution_count": null,
      "outputs": []
    },
    {
      "cell_type": "code",
      "source": [
        "model_5_results = evaluate_preds(y_true=tf.squeeze(test_labels), y_pred=model_5_preds)\n",
        "model_5_results"
      ],
      "metadata": {
        "colab": {
          "base_uri": "https://localhost:8080/"
        },
        "id": "i_fBsYQi4vYb",
        "outputId": "86758c93-0de9-48f5-eac9-34df3d927481"
      },
      "execution_count": null,
      "outputs": [
        {
          "output_type": "execute_result",
          "data": {
            "text/plain": [
              "{'mae': 596.12836,\n",
              " 'mape': 2.9427361,\n",
              " 'mase': 0.99867654,\n",
              " 'mse': 1409635.5,\n",
              " 'rmse': 1187.2808}"
            ]
          },
          "metadata": {},
          "execution_count": 245
        }
      ]
    },
    {
      "cell_type": "markdown",
      "source": [
        "## Make a multivariate time-series\n",
        "\n",
        "In an open system, there are many features that affect the bitcoin price.\n",
        "In bitcoin halving event, as halving happens, the amount of block reward (the amount of bitcoin we get as a reward after mining) gets decreased."
      ],
      "metadata": {
        "id": "zBUJ53lj49bO"
      }
    },
    {
      "cell_type": "code",
      "source": [
        "# Lets make a multivariate time series\n",
        "btc_df.tail()"
      ],
      "metadata": {
        "colab": {
          "base_uri": "https://localhost:8080/",
          "height": 237
        },
        "id": "Wy6_71GLK46X",
        "outputId": "54466b31-a4ad-4719-a583-5d3bcaf5b558"
      },
      "execution_count": null,
      "outputs": [
        {
          "output_type": "execute_result",
          "data": {
            "text/plain": [
              "               Price\n",
              "Timestamp           \n",
              "2021-03-26  52734.30\n",
              "2021-03-27  54508.16\n",
              "2021-03-28  55871.93\n",
              "2021-03-29  57788.15\n",
              "2021-03-30  59069.29"
            ],
            "text/html": [
              "\n",
              "  <div id=\"df-df4e862d-5e91-4a67-81c2-5a983db54f16\">\n",
              "    <div class=\"colab-df-container\">\n",
              "      <div>\n",
              "<style scoped>\n",
              "    .dataframe tbody tr th:only-of-type {\n",
              "        vertical-align: middle;\n",
              "    }\n",
              "\n",
              "    .dataframe tbody tr th {\n",
              "        vertical-align: top;\n",
              "    }\n",
              "\n",
              "    .dataframe thead th {\n",
              "        text-align: right;\n",
              "    }\n",
              "</style>\n",
              "<table border=\"1\" class=\"dataframe\">\n",
              "  <thead>\n",
              "    <tr style=\"text-align: right;\">\n",
              "      <th></th>\n",
              "      <th>Price</th>\n",
              "    </tr>\n",
              "    <tr>\n",
              "      <th>Timestamp</th>\n",
              "      <th></th>\n",
              "    </tr>\n",
              "  </thead>\n",
              "  <tbody>\n",
              "    <tr>\n",
              "      <th>2021-03-26</th>\n",
              "      <td>52734.30</td>\n",
              "    </tr>\n",
              "    <tr>\n",
              "      <th>2021-03-27</th>\n",
              "      <td>54508.16</td>\n",
              "    </tr>\n",
              "    <tr>\n",
              "      <th>2021-03-28</th>\n",
              "      <td>55871.93</td>\n",
              "    </tr>\n",
              "    <tr>\n",
              "      <th>2021-03-29</th>\n",
              "      <td>57788.15</td>\n",
              "    </tr>\n",
              "    <tr>\n",
              "      <th>2021-03-30</th>\n",
              "      <td>59069.29</td>\n",
              "    </tr>\n",
              "  </tbody>\n",
              "</table>\n",
              "</div>\n",
              "      <button class=\"colab-df-convert\" onclick=\"convertToInteractive('df-df4e862d-5e91-4a67-81c2-5a983db54f16')\"\n",
              "              title=\"Convert this dataframe to an interactive table.\"\n",
              "              style=\"display:none;\">\n",
              "        \n",
              "  <svg xmlns=\"http://www.w3.org/2000/svg\" height=\"24px\"viewBox=\"0 0 24 24\"\n",
              "       width=\"24px\">\n",
              "    <path d=\"M0 0h24v24H0V0z\" fill=\"none\"/>\n",
              "    <path d=\"M18.56 5.44l.94 2.06.94-2.06 2.06-.94-2.06-.94-.94-2.06-.94 2.06-2.06.94zm-11 1L8.5 8.5l.94-2.06 2.06-.94-2.06-.94L8.5 2.5l-.94 2.06-2.06.94zm10 10l.94 2.06.94-2.06 2.06-.94-2.06-.94-.94-2.06-.94 2.06-2.06.94z\"/><path d=\"M17.41 7.96l-1.37-1.37c-.4-.4-.92-.59-1.43-.59-.52 0-1.04.2-1.43.59L10.3 9.45l-7.72 7.72c-.78.78-.78 2.05 0 2.83L4 21.41c.39.39.9.59 1.41.59.51 0 1.02-.2 1.41-.59l7.78-7.78 2.81-2.81c.8-.78.8-2.07 0-2.86zM5.41 20L4 18.59l7.72-7.72 1.47 1.35L5.41 20z\"/>\n",
              "  </svg>\n",
              "      </button>\n",
              "      \n",
              "  <style>\n",
              "    .colab-df-container {\n",
              "      display:flex;\n",
              "      flex-wrap:wrap;\n",
              "      gap: 12px;\n",
              "    }\n",
              "\n",
              "    .colab-df-convert {\n",
              "      background-color: #E8F0FE;\n",
              "      border: none;\n",
              "      border-radius: 50%;\n",
              "      cursor: pointer;\n",
              "      display: none;\n",
              "      fill: #1967D2;\n",
              "      height: 32px;\n",
              "      padding: 0 0 0 0;\n",
              "      width: 32px;\n",
              "    }\n",
              "\n",
              "    .colab-df-convert:hover {\n",
              "      background-color: #E2EBFA;\n",
              "      box-shadow: 0px 1px 2px rgba(60, 64, 67, 0.3), 0px 1px 3px 1px rgba(60, 64, 67, 0.15);\n",
              "      fill: #174EA6;\n",
              "    }\n",
              "\n",
              "    [theme=dark] .colab-df-convert {\n",
              "      background-color: #3B4455;\n",
              "      fill: #D2E3FC;\n",
              "    }\n",
              "\n",
              "    [theme=dark] .colab-df-convert:hover {\n",
              "      background-color: #434B5C;\n",
              "      box-shadow: 0px 1px 3px 1px rgba(0, 0, 0, 0.15);\n",
              "      filter: drop-shadow(0px 1px 2px rgba(0, 0, 0, 0.3));\n",
              "      fill: #FFFFFF;\n",
              "    }\n",
              "  </style>\n",
              "\n",
              "      <script>\n",
              "        const buttonEl =\n",
              "          document.querySelector('#df-df4e862d-5e91-4a67-81c2-5a983db54f16 button.colab-df-convert');\n",
              "        buttonEl.style.display =\n",
              "          google.colab.kernel.accessAllowed ? 'block' : 'none';\n",
              "\n",
              "        async function convertToInteractive(key) {\n",
              "          const element = document.querySelector('#df-df4e862d-5e91-4a67-81c2-5a983db54f16');\n",
              "          const dataTable =\n",
              "            await google.colab.kernel.invokeFunction('convertToInteractive',\n",
              "                                                     [key], {});\n",
              "          if (!dataTable) return;\n",
              "\n",
              "          const docLinkHtml = 'Like what you see? Visit the ' +\n",
              "            '<a target=\"_blank\" href=https://colab.research.google.com/notebooks/data_table.ipynb>data table notebook</a>'\n",
              "            + ' to learn more about interactive tables.';\n",
              "          element.innerHTML = '';\n",
              "          dataTable['output_type'] = 'display_data';\n",
              "          await google.colab.output.renderOutput(dataTable, element);\n",
              "          const docLink = document.createElement('div');\n",
              "          docLink.innerHTML = docLinkHtml;\n",
              "          element.appendChild(docLink);\n",
              "        }\n",
              "      </script>\n",
              "    </div>\n",
              "  </div>\n",
              "  "
            ]
          },
          "metadata": {},
          "execution_count": 246
        }
      ]
    },
    {
      "cell_type": "code",
      "source": [
        "# Adding the bitcoin halving events to our dataset\n",
        "block_reward_1 = 50 # 3 January 2009- this block reward isn't in our dataset\n",
        "block_reward_2 = 25 # 8 November 2012\n",
        "block_reward_3 = 12.5 # 9 July 2016\n",
        "block_reward_4 = 6.25 # 18 May 2020\n",
        "\n",
        "# Block reward dates\n",
        "block_reward_2_datetime = np.datetime64(\"2012-11-08\")\n",
        "block_reward_3_datetime = np.datetime64(\"2016-07-09\")\n",
        "block_reward_4_datetime = np.datetime64(\"2020-05-18\")"
      ],
      "metadata": {
        "id": "39CF6ElsMfjW"
      },
      "execution_count": null,
      "outputs": []
    },
    {
      "cell_type": "code",
      "source": [
        "btc_df.index[0] < block_reward_3_datetime"
      ],
      "metadata": {
        "colab": {
          "base_uri": "https://localhost:8080/"
        },
        "id": "XdFumpf_Oh9g",
        "outputId": "be64bb4a-0011-458d-d45e-2471a0e5dc54"
      },
      "execution_count": null,
      "outputs": [
        {
          "output_type": "execute_result",
          "data": {
            "text/plain": [
              "True"
            ]
          },
          "metadata": {},
          "execution_count": 248
        }
      ]
    },
    {
      "cell_type": "code",
      "source": [
        "# Adding the specific block reward value\n",
        "reward = []\n",
        "for i in range(len(btc_df)):\n",
        "  timestamp = btc_df.index[i]\n",
        "  if (timestamp < block_reward_3_datetime and timestamp > block_reward_2_datetime): reward.append(block_reward_2)\n",
        "  elif (timestamp < block_reward_4_datetime and timestamp > block_reward_3_datetime): reward.append(block_reward_3)\n",
        "  else: reward.append(block_reward_4) \n",
        ")"
      ],
      "metadata": {
        "colab": {
          "base_uri": "https://localhost:8080/"
        },
        "id": "KkPoA9-wNi2n",
        "outputId": "e7530d63-dbaf-44b1-944e-7ee7930cd794"
      },
      "execution_count": null,
      "outputs": [
        {
          "output_type": "execute_result",
          "data": {
            "text/plain": [
              "[6.25, 6.25, 6.25, 6.25, 6.25]"
            ]
          },
          "metadata": {},
          "execution_count": 145
        }
      ]
    },
    {
      "cell_type": "code",
      "source": [
        "# len(reward), len(btc_df)\n",
        "# btc_df[\"reward\"] = reward\n",
        "btc_blk_df = btc_df.copy()\n",
        "btc_blk_df[\"Block_reward\"] = reward\n",
        "btc_blk_df"
      ],
      "metadata": {
        "colab": {
          "base_uri": "https://localhost:8080/",
          "height": 455
        },
        "id": "MwBXBE9iRONy",
        "outputId": "03c0ee6e-c21d-4852-d4dd-d7e97df305e9"
      },
      "execution_count": null,
      "outputs": [
        {
          "output_type": "execute_result",
          "data": {
            "text/plain": [
              "               Price  Block_reward\n",
              "Timestamp                         \n",
              "2014-01-01    754.90         25.00\n",
              "2014-01-02    784.19         25.00\n",
              "2014-01-03    809.40         25.00\n",
              "2014-01-04    828.79         25.00\n",
              "2014-01-05    905.00         25.00\n",
              "...              ...           ...\n",
              "2021-03-26  52734.30          6.25\n",
              "2021-03-27  54508.16          6.25\n",
              "2021-03-28  55871.93          6.25\n",
              "2021-03-29  57788.15          6.25\n",
              "2021-03-30  59069.29          6.25\n",
              "\n",
              "[2236 rows x 2 columns]"
            ],
            "text/html": [
              "\n",
              "  <div id=\"df-6743de76-49af-4677-ab69-2fdda6d79666\">\n",
              "    <div class=\"colab-df-container\">\n",
              "      <div>\n",
              "<style scoped>\n",
              "    .dataframe tbody tr th:only-of-type {\n",
              "        vertical-align: middle;\n",
              "    }\n",
              "\n",
              "    .dataframe tbody tr th {\n",
              "        vertical-align: top;\n",
              "    }\n",
              "\n",
              "    .dataframe thead th {\n",
              "        text-align: right;\n",
              "    }\n",
              "</style>\n",
              "<table border=\"1\" class=\"dataframe\">\n",
              "  <thead>\n",
              "    <tr style=\"text-align: right;\">\n",
              "      <th></th>\n",
              "      <th>Price</th>\n",
              "      <th>Block_reward</th>\n",
              "    </tr>\n",
              "    <tr>\n",
              "      <th>Timestamp</th>\n",
              "      <th></th>\n",
              "      <th></th>\n",
              "    </tr>\n",
              "  </thead>\n",
              "  <tbody>\n",
              "    <tr>\n",
              "      <th>2014-01-01</th>\n",
              "      <td>754.90</td>\n",
              "      <td>25.00</td>\n",
              "    </tr>\n",
              "    <tr>\n",
              "      <th>2014-01-02</th>\n",
              "      <td>784.19</td>\n",
              "      <td>25.00</td>\n",
              "    </tr>\n",
              "    <tr>\n",
              "      <th>2014-01-03</th>\n",
              "      <td>809.40</td>\n",
              "      <td>25.00</td>\n",
              "    </tr>\n",
              "    <tr>\n",
              "      <th>2014-01-04</th>\n",
              "      <td>828.79</td>\n",
              "      <td>25.00</td>\n",
              "    </tr>\n",
              "    <tr>\n",
              "      <th>2014-01-05</th>\n",
              "      <td>905.00</td>\n",
              "      <td>25.00</td>\n",
              "    </tr>\n",
              "    <tr>\n",
              "      <th>...</th>\n",
              "      <td>...</td>\n",
              "      <td>...</td>\n",
              "    </tr>\n",
              "    <tr>\n",
              "      <th>2021-03-26</th>\n",
              "      <td>52734.30</td>\n",
              "      <td>6.25</td>\n",
              "    </tr>\n",
              "    <tr>\n",
              "      <th>2021-03-27</th>\n",
              "      <td>54508.16</td>\n",
              "      <td>6.25</td>\n",
              "    </tr>\n",
              "    <tr>\n",
              "      <th>2021-03-28</th>\n",
              "      <td>55871.93</td>\n",
              "      <td>6.25</td>\n",
              "    </tr>\n",
              "    <tr>\n",
              "      <th>2021-03-29</th>\n",
              "      <td>57788.15</td>\n",
              "      <td>6.25</td>\n",
              "    </tr>\n",
              "    <tr>\n",
              "      <th>2021-03-30</th>\n",
              "      <td>59069.29</td>\n",
              "      <td>6.25</td>\n",
              "    </tr>\n",
              "  </tbody>\n",
              "</table>\n",
              "<p>2236 rows × 2 columns</p>\n",
              "</div>\n",
              "      <button class=\"colab-df-convert\" onclick=\"convertToInteractive('df-6743de76-49af-4677-ab69-2fdda6d79666')\"\n",
              "              title=\"Convert this dataframe to an interactive table.\"\n",
              "              style=\"display:none;\">\n",
              "        \n",
              "  <svg xmlns=\"http://www.w3.org/2000/svg\" height=\"24px\"viewBox=\"0 0 24 24\"\n",
              "       width=\"24px\">\n",
              "    <path d=\"M0 0h24v24H0V0z\" fill=\"none\"/>\n",
              "    <path d=\"M18.56 5.44l.94 2.06.94-2.06 2.06-.94-2.06-.94-.94-2.06-.94 2.06-2.06.94zm-11 1L8.5 8.5l.94-2.06 2.06-.94-2.06-.94L8.5 2.5l-.94 2.06-2.06.94zm10 10l.94 2.06.94-2.06 2.06-.94-2.06-.94-.94-2.06-.94 2.06-2.06.94z\"/><path d=\"M17.41 7.96l-1.37-1.37c-.4-.4-.92-.59-1.43-.59-.52 0-1.04.2-1.43.59L10.3 9.45l-7.72 7.72c-.78.78-.78 2.05 0 2.83L4 21.41c.39.39.9.59 1.41.59.51 0 1.02-.2 1.41-.59l7.78-7.78 2.81-2.81c.8-.78.8-2.07 0-2.86zM5.41 20L4 18.59l7.72-7.72 1.47 1.35L5.41 20z\"/>\n",
              "  </svg>\n",
              "      </button>\n",
              "      \n",
              "  <style>\n",
              "    .colab-df-container {\n",
              "      display:flex;\n",
              "      flex-wrap:wrap;\n",
              "      gap: 12px;\n",
              "    }\n",
              "\n",
              "    .colab-df-convert {\n",
              "      background-color: #E8F0FE;\n",
              "      border: none;\n",
              "      border-radius: 50%;\n",
              "      cursor: pointer;\n",
              "      display: none;\n",
              "      fill: #1967D2;\n",
              "      height: 32px;\n",
              "      padding: 0 0 0 0;\n",
              "      width: 32px;\n",
              "    }\n",
              "\n",
              "    .colab-df-convert:hover {\n",
              "      background-color: #E2EBFA;\n",
              "      box-shadow: 0px 1px 2px rgba(60, 64, 67, 0.3), 0px 1px 3px 1px rgba(60, 64, 67, 0.15);\n",
              "      fill: #174EA6;\n",
              "    }\n",
              "\n",
              "    [theme=dark] .colab-df-convert {\n",
              "      background-color: #3B4455;\n",
              "      fill: #D2E3FC;\n",
              "    }\n",
              "\n",
              "    [theme=dark] .colab-df-convert:hover {\n",
              "      background-color: #434B5C;\n",
              "      box-shadow: 0px 1px 3px 1px rgba(0, 0, 0, 0.15);\n",
              "      filter: drop-shadow(0px 1px 2px rgba(0, 0, 0, 0.3));\n",
              "      fill: #FFFFFF;\n",
              "    }\n",
              "  </style>\n",
              "\n",
              "      <script>\n",
              "        const buttonEl =\n",
              "          document.querySelector('#df-6743de76-49af-4677-ab69-2fdda6d79666 button.colab-df-convert');\n",
              "        buttonEl.style.display =\n",
              "          google.colab.kernel.accessAllowed ? 'block' : 'none';\n",
              "\n",
              "        async function convertToInteractive(key) {\n",
              "          const element = document.querySelector('#df-6743de76-49af-4677-ab69-2fdda6d79666');\n",
              "          const dataTable =\n",
              "            await google.colab.kernel.invokeFunction('convertToInteractive',\n",
              "                                                     [key], {});\n",
              "          if (!dataTable) return;\n",
              "\n",
              "          const docLinkHtml = 'Like what you see? Visit the ' +\n",
              "            '<a target=\"_blank\" href=https://colab.research.google.com/notebooks/data_table.ipynb>data table notebook</a>'\n",
              "            + ' to learn more about interactive tables.';\n",
              "          element.innerHTML = '';\n",
              "          dataTable['output_type'] = 'display_data';\n",
              "          await google.colab.output.renderOutput(dataTable, element);\n",
              "          const docLink = document.createElement('div');\n",
              "          docLink.innerHTML = docLinkHtml;\n",
              "          element.appendChild(docLink);\n",
              "        }\n",
              "      </script>\n",
              "    </div>\n",
              "  </div>\n",
              "  "
            ]
          },
          "metadata": {},
          "execution_count": 252
        }
      ]
    },
    {
      "cell_type": "code",
      "source": [
        "# Convert the y-scaling of each features to a range of [0,1] to include in the same plot\n",
        "from sklearn.preprocessing import minmax_scale\n",
        "scaled_btc_blk_df = pd.DataFrame(minmax_scale(btc_blk_df[[\"Price\", \"Block_reward\"]]), \n",
        "                                 columns = btc_blk_df.columns,\n",
        "                                 index=btc_blk_df.index\n",
        "                                 )\n",
        "\n",
        "scaled_btc_blk_df.plot(figsize = (10,7));"
      ],
      "metadata": {
        "colab": {
          "base_uri": "https://localhost:8080/",
          "height": 442
        },
        "id": "52-CusrTRWnq",
        "outputId": "0a225285-04a4-4df7-b51f-b4eb384113c2"
      },
      "execution_count": null,
      "outputs": [
        {
          "output_type": "display_data",
          "data": {
            "text/plain": [
              "<Figure size 720x504 with 1 Axes>"
            ],
            "image/png": "[encoded data removed]"
          },
          "metadata": {
            "needs_background": "light"
          }
        }
      ]
    }
  ]
}